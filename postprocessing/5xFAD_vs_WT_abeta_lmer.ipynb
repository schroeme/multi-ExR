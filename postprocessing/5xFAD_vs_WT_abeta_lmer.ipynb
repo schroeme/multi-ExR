{
 "cells": [
  {
   "cell_type": "markdown",
   "id": "ae51f4d8-8d2f-4064-9454-296e2e7dbe23",
   "metadata": {},
   "source": [
    "# Script for using linear mixed effects model to quantify differences in amyloid beta species in 5xFAD vs. WT"
   ]
  },
  {
   "cell_type": "code",
   "execution_count": 10,
   "id": "5133af25-d5b8-4f5b-a9f4-f350b76c01c3",
   "metadata": {},
   "outputs": [],
   "source": [
    "#most of the code is taken/adapted from this tutorial: https://towardsdatascience.com/how-to-run-linear-mixed-effects-models-in-python-jupyter-notebooks-4f8079c4b589"
   ]
  },
  {
   "cell_type": "code",
   "execution_count": 11,
   "id": "96d487f2-4e84-4cf1-9359-52f05c5b12c4",
   "metadata": {},
   "outputs": [],
   "source": [
    "# Load packages\n",
    "import numpy as np\n",
    "import pandas as pd\n",
    "import statsmodels.api as sm\n",
    "import statsmodels.formula.api as smf\n",
    "import os"
   ]
  },
  {
   "cell_type": "code",
   "execution_count": 12,
   "id": "b92669cb-039f-484f-a542-f8662fb16130",
   "metadata": {},
   "outputs": [],
   "source": [
    "parentdir = '/Users/margaret/Dropbox (MIT)/mExR_analysis/SmallData/2023.05_5xFAD/'"
   ]
  },
  {
   "cell_type": "code",
   "execution_count": 13,
   "id": "a23a938b-fcbc-4997-9e32-61985617ccb2",
   "metadata": {},
   "outputs": [
    {
     "data": {
      "text/plain": [
       "['.DS_Store',\n",
       " 'archive',\n",
       " 'mExR_5xFAD_2023.05_reg-error.pzfx',\n",
       " '~$mExR_2023.05_5xFAD.xlsx',\n",
       " '5xFAD_2023.05_synapses_WT_vs_5xFAD_RE.pzfx',\n",
       " '5xFAD_2023.05_abeta_WT_vs_5xFAD_RE.pzfx',\n",
       " '5xFAD_2023.05_abeta_analysis_updated.pzfx',\n",
       " '5xFAD_vs_WT_n=2_Abeta.csv',\n",
       " 'mExR_2023.05_5xFAD.xlsx',\n",
       " '5xFAD_2022.05_camkiia.pzfx']"
      ]
     },
     "execution_count": 13,
     "metadata": {},
     "output_type": "execute_result"
    }
   ],
   "source": [
    "os.listdir(parentdir)"
   ]
  },
  {
   "cell_type": "code",
   "execution_count": 14,
   "id": "3da7cca3-5d7b-46d0-83da-945dc0fc34d3",
   "metadata": {},
   "outputs": [],
   "source": [
    "data = pd.read_csv(parentdir + '5xFAD_vs_WT_n=2_Abeta.csv')"
   ]
  },
  {
   "cell_type": "code",
   "execution_count": 15,
   "id": "619d388f-dac0-4e0b-8a7d-86a4f00736a9",
   "metadata": {},
   "outputs": [
    {
     "data": {
      "text/html": [
       "<div>\n",
       "<style scoped>\n",
       "    .dataframe tbody tr th:only-of-type {\n",
       "        vertical-align: middle;\n",
       "    }\n",
       "\n",
       "    .dataframe tbody tr th {\n",
       "        vertical-align: top;\n",
       "    }\n",
       "\n",
       "    .dataframe thead th {\n",
       "        text-align: right;\n",
       "    }\n",
       "</style>\n",
       "<table border=\"1\" class=\"dataframe\">\n",
       "  <thead>\n",
       "    <tr style=\"text-align: right;\">\n",
       "      <th></th>\n",
       "      <th>Animal</th>\n",
       "      <th>ROI</th>\n",
       "      <th>Group</th>\n",
       "      <th>AB6E10_vol</th>\n",
       "      <th>D54D2_vol</th>\n",
       "      <th>AB12F4_vol</th>\n",
       "    </tr>\n",
       "  </thead>\n",
       "  <tbody>\n",
       "    <tr>\n",
       "      <th>0</th>\n",
       "      <td>5xFAD-2</td>\n",
       "      <td>ROI1</td>\n",
       "      <td>5xFAD</td>\n",
       "      <td>0.267275</td>\n",
       "      <td>0.287079</td>\n",
       "      <td>0.104153</td>\n",
       "    </tr>\n",
       "    <tr>\n",
       "      <th>1</th>\n",
       "      <td>5xFAD-2</td>\n",
       "      <td>ROI2</td>\n",
       "      <td>5xFAD</td>\n",
       "      <td>0.608908</td>\n",
       "      <td>0.719355</td>\n",
       "      <td>0.463395</td>\n",
       "    </tr>\n",
       "    <tr>\n",
       "      <th>2</th>\n",
       "      <td>5xFAD-2</td>\n",
       "      <td>ROI3</td>\n",
       "      <td>5xFAD</td>\n",
       "      <td>0.212253</td>\n",
       "      <td>0.243737</td>\n",
       "      <td>0.146186</td>\n",
       "    </tr>\n",
       "    <tr>\n",
       "      <th>3</th>\n",
       "      <td>5xFAD-2</td>\n",
       "      <td>ROI4</td>\n",
       "      <td>5xFAD</td>\n",
       "      <td>0.388759</td>\n",
       "      <td>0.581559</td>\n",
       "      <td>0.654529</td>\n",
       "    </tr>\n",
       "    <tr>\n",
       "      <th>4</th>\n",
       "      <td>5xFAD-2</td>\n",
       "      <td>ROI5</td>\n",
       "      <td>5xFAD</td>\n",
       "      <td>0.511197</td>\n",
       "      <td>0.514645</td>\n",
       "      <td>0.847426</td>\n",
       "    </tr>\n",
       "    <tr>\n",
       "      <th>5</th>\n",
       "      <td>5xFAD-3</td>\n",
       "      <td>ROI1</td>\n",
       "      <td>5xFAD</td>\n",
       "      <td>0.257241</td>\n",
       "      <td>0.287037</td>\n",
       "      <td>0.069811</td>\n",
       "    </tr>\n",
       "    <tr>\n",
       "      <th>6</th>\n",
       "      <td>5xFAD-3</td>\n",
       "      <td>ROI2</td>\n",
       "      <td>5xFAD</td>\n",
       "      <td>0.493882</td>\n",
       "      <td>0.531916</td>\n",
       "      <td>0.148795</td>\n",
       "    </tr>\n",
       "    <tr>\n",
       "      <th>7</th>\n",
       "      <td>5xFAD-3</td>\n",
       "      <td>ROI3</td>\n",
       "      <td>5xFAD</td>\n",
       "      <td>0.148899</td>\n",
       "      <td>0.098232</td>\n",
       "      <td>0.027617</td>\n",
       "    </tr>\n",
       "    <tr>\n",
       "      <th>8</th>\n",
       "      <td>5xFAD-3</td>\n",
       "      <td>ROI4</td>\n",
       "      <td>5xFAD</td>\n",
       "      <td>0.225892</td>\n",
       "      <td>0.272376</td>\n",
       "      <td>0.143826</td>\n",
       "    </tr>\n",
       "    <tr>\n",
       "      <th>9</th>\n",
       "      <td>WT-2</td>\n",
       "      <td>ROI1</td>\n",
       "      <td>WT</td>\n",
       "      <td>0.000000</td>\n",
       "      <td>0.000000</td>\n",
       "      <td>0.000887</td>\n",
       "    </tr>\n",
       "    <tr>\n",
       "      <th>10</th>\n",
       "      <td>WT-2</td>\n",
       "      <td>ROI2</td>\n",
       "      <td>WT</td>\n",
       "      <td>0.000000</td>\n",
       "      <td>0.000000</td>\n",
       "      <td>0.000495</td>\n",
       "    </tr>\n",
       "    <tr>\n",
       "      <th>11</th>\n",
       "      <td>WT-2</td>\n",
       "      <td>ROI3</td>\n",
       "      <td>WT</td>\n",
       "      <td>0.000000</td>\n",
       "      <td>0.000000</td>\n",
       "      <td>0.000000</td>\n",
       "    </tr>\n",
       "    <tr>\n",
       "      <th>12</th>\n",
       "      <td>WT-2</td>\n",
       "      <td>ROI4</td>\n",
       "      <td>WT</td>\n",
       "      <td>0.000000</td>\n",
       "      <td>0.000000</td>\n",
       "      <td>0.000373</td>\n",
       "    </tr>\n",
       "    <tr>\n",
       "      <th>13</th>\n",
       "      <td>WT-3</td>\n",
       "      <td>ROI1</td>\n",
       "      <td>WT</td>\n",
       "      <td>0.000000</td>\n",
       "      <td>0.000000</td>\n",
       "      <td>0.000000</td>\n",
       "    </tr>\n",
       "    <tr>\n",
       "      <th>14</th>\n",
       "      <td>WT-3</td>\n",
       "      <td>ROI2</td>\n",
       "      <td>WT</td>\n",
       "      <td>0.000000</td>\n",
       "      <td>0.000000</td>\n",
       "      <td>0.000293</td>\n",
       "    </tr>\n",
       "    <tr>\n",
       "      <th>15</th>\n",
       "      <td>WT-3</td>\n",
       "      <td>ROI3</td>\n",
       "      <td>WT</td>\n",
       "      <td>0.000000</td>\n",
       "      <td>0.000000</td>\n",
       "      <td>0.000000</td>\n",
       "    </tr>\n",
       "    <tr>\n",
       "      <th>16</th>\n",
       "      <td>WT-3</td>\n",
       "      <td>ROI4</td>\n",
       "      <td>WT</td>\n",
       "      <td>0.000000</td>\n",
       "      <td>0.000000</td>\n",
       "      <td>0.001062</td>\n",
       "    </tr>\n",
       "  </tbody>\n",
       "</table>\n",
       "</div>"
      ],
      "text/plain": [
       "     Animal   ROI  Group  AB6E10_vol  D54D2_vol  AB12F4_vol\n",
       "0   5xFAD-2  ROI1  5xFAD    0.267275   0.287079    0.104153\n",
       "1   5xFAD-2  ROI2  5xFAD    0.608908   0.719355    0.463395\n",
       "2   5xFAD-2  ROI3  5xFAD    0.212253   0.243737    0.146186\n",
       "3   5xFAD-2  ROI4  5xFAD    0.388759   0.581559    0.654529\n",
       "4   5xFAD-2  ROI5  5xFAD    0.511197   0.514645    0.847426\n",
       "5   5xFAD-3  ROI1  5xFAD    0.257241   0.287037    0.069811\n",
       "6   5xFAD-3  ROI2  5xFAD    0.493882   0.531916    0.148795\n",
       "7   5xFAD-3  ROI3  5xFAD    0.148899   0.098232    0.027617\n",
       "8   5xFAD-3  ROI4  5xFAD    0.225892   0.272376    0.143826\n",
       "9      WT-2  ROI1     WT    0.000000   0.000000    0.000887\n",
       "10     WT-2  ROI2     WT    0.000000   0.000000    0.000495\n",
       "11     WT-2  ROI3     WT    0.000000   0.000000    0.000000\n",
       "12     WT-2  ROI4     WT    0.000000   0.000000    0.000373\n",
       "13     WT-3  ROI1     WT    0.000000   0.000000    0.000000\n",
       "14     WT-3  ROI2     WT    0.000000   0.000000    0.000293\n",
       "15     WT-3  ROI3     WT    0.000000   0.000000    0.000000\n",
       "16     WT-3  ROI4     WT    0.000000   0.000000    0.001062"
      ]
     },
     "execution_count": 15,
     "metadata": {},
     "output_type": "execute_result"
    }
   ],
   "source": [
    "data"
   ]
  },
  {
   "cell_type": "code",
   "execution_count": 16,
   "id": "08ab8a35-9122-4de4-95cc-1b0dd2deccb2",
   "metadata": {},
   "outputs": [
    {
     "name": "stdout",
     "output_type": "stream",
     "text": [
      "         Mixed Linear Model Regression Results\n",
      "=======================================================\n",
      "Model:            MixedLM Dependent Variable: D54D2_vol\n",
      "No. Observations: 17      Method:             REML     \n",
      "No. Groups:       4       Scale:              0.0197   \n",
      "Min. group size:  4       Log-Likelihood:     5.5270   \n",
      "Max. group size:  5       Converged:          Yes      \n",
      "Mean group size:  4.2                                  \n",
      "-------------------------------------------------------\n",
      "             Coef.  Std.Err.   z    P>|z| [0.025 0.975]\n",
      "-------------------------------------------------------\n",
      "Intercept     0.389    0.062  6.286 0.000  0.268  0.510\n",
      "Group[T.WT]  -0.389    0.089 -4.380 0.000 -0.563 -0.215\n",
      "Group Var     0.003    0.058                           \n",
      "=======================================================\n",
      "\n"
     ]
    },
    {
     "name": "stderr",
     "output_type": "stream",
     "text": [
      "/Users/margaret/miniconda3/envs/scanpy/lib/python3.9/site-packages/statsmodels/regression/mixed_linear_model.py:1634: UserWarning: Random effects covariance is singular\n",
      "  warnings.warn(msg)\n",
      "/Users/margaret/miniconda3/envs/scanpy/lib/python3.9/site-packages/statsmodels/regression/mixed_linear_model.py:2237: ConvergenceWarning: The MLE may be on the boundary of the parameter space.\n",
      "  warnings.warn(msg, ConvergenceWarning)\n"
     ]
    }
   ],
   "source": [
    "# Run mixed lm for D54D2 volume\n",
    "md = smf.mixedlm(\"D54D2_vol ~ Group\", data, groups=data[\"Animal\"])\n",
    "mdf = md.fit(method=[\"lbfgs\"])\n",
    "print(mdf.summary())"
   ]
  },
  {
   "cell_type": "code",
   "execution_count": 17,
   "id": "a0fc6799-6916-4305-9e7e-94e0ebe28f57",
   "metadata": {},
   "outputs": [
    {
     "name": "stdout",
     "output_type": "stream",
     "text": [
      "3.267607132222881e-10\n",
      "1.1853448302815143e-05\n"
     ]
    }
   ],
   "source": [
    "for x in range (0, 2):\n",
    "    print(mdf.pvalues[x])"
   ]
  },
  {
   "cell_type": "code",
   "execution_count": 18,
   "id": "3820b878-def9-4ba8-baca-8da3a0cbae49",
   "metadata": {},
   "outputs": [
    {
     "name": "stdout",
     "output_type": "stream",
     "text": [
      "         Mixed Linear Model Regression Results\n",
      "========================================================\n",
      "Model:            MixedLM Dependent Variable: AB12F4_vol\n",
      "No. Observations: 17      Method:             REML      \n",
      "No. Groups:       4       Scale:              0.0324    \n",
      "Min. group size:  4       Log-Likelihood:     0.9154    \n",
      "Max. group size:  5       Converged:          Yes       \n",
      "Mean group size:  4.2                                   \n",
      "--------------------------------------------------------\n",
      "              Coef.  Std.Err.   z    P>|z| [0.025 0.975]\n",
      "--------------------------------------------------------\n",
      "Intercept      0.275    0.123  2.234 0.025  0.034  0.516\n",
      "Group[T.WT]   -0.275    0.175 -1.568 0.117 -0.618  0.069\n",
      "Group Var      0.023    0.180                           \n",
      "========================================================\n",
      "\n"
     ]
    },
    {
     "name": "stderr",
     "output_type": "stream",
     "text": [
      "/Users/margaret/miniconda3/envs/scanpy/lib/python3.9/site-packages/statsmodels/regression/mixed_linear_model.py:1634: UserWarning: Random effects covariance is singular\n",
      "  warnings.warn(msg)\n"
     ]
    }
   ],
   "source": [
    "# Run mixed lm for 12F4 volume\n",
    "md = smf.mixedlm(\"AB12F4_vol ~ Group\", data, groups=data[\"Animal\"])\n",
    "mdf = md.fit(method=[\"lbfgs\"])\n",
    "print(mdf.summary())"
   ]
  },
  {
   "cell_type": "code",
   "execution_count": 19,
   "id": "e20058b2-4470-463e-8554-b6057dd3a8e6",
   "metadata": {},
   "outputs": [
    {
     "name": "stdout",
     "output_type": "stream",
     "text": [
      "0.025462177644287647\n",
      "0.11698065294592958\n"
     ]
    }
   ],
   "source": [
    "for x in range (0, 2):\n",
    "    print(mdf.pvalues[x])"
   ]
  },
  {
   "cell_type": "code",
   "execution_count": 20,
   "id": "08e34dfc-399d-401c-a02e-dafc848e6d0e",
   "metadata": {},
   "outputs": [
    {
     "name": "stdout",
     "output_type": "stream",
     "text": [
      "         Mixed Linear Model Regression Results\n",
      "========================================================\n",
      "Model:            MixedLM Dependent Variable: AB6E10_vol\n",
      "No. Observations: 17      Method:             REML      \n",
      "No. Groups:       4       Scale:              0.0134    \n",
      "Min. group size:  4       Log-Likelihood:     8.7721    \n",
      "Max. group size:  5       Converged:          Yes       \n",
      "Mean group size:  4.2                                   \n",
      "--------------------------------------------------------\n",
      "              Coef.  Std.Err.   z    P>|z| [0.025 0.975]\n",
      "--------------------------------------------------------\n",
      "Intercept      0.345    0.042  8.172 0.000  0.262  0.428\n",
      "Group[T.WT]   -0.345    0.061 -5.662 0.000 -0.465 -0.226\n",
      "Group Var      0.001    0.033                           \n",
      "========================================================\n",
      "\n"
     ]
    },
    {
     "name": "stderr",
     "output_type": "stream",
     "text": [
      "/Users/margaret/miniconda3/envs/scanpy/lib/python3.9/site-packages/statsmodels/regression/mixed_linear_model.py:1634: UserWarning: Random effects covariance is singular\n",
      "  warnings.warn(msg)\n",
      "/Users/margaret/miniconda3/envs/scanpy/lib/python3.9/site-packages/statsmodels/regression/mixed_linear_model.py:2237: ConvergenceWarning: The MLE may be on the boundary of the parameter space.\n",
      "  warnings.warn(msg, ConvergenceWarning)\n"
     ]
    }
   ],
   "source": [
    "# Run mixed lm for 6E10 volume\n",
    "md = smf.mixedlm(\"AB6E10_vol ~ Group\", data, groups=data[\"Animal\"])\n",
    "mdf = md.fit(method=[\"lbfgs\"])\n",
    "print(mdf.summary())"
   ]
  },
  {
   "cell_type": "code",
   "execution_count": 21,
   "id": "b2efd3b9-8f9c-43fa-afbd-a1db14635b9d",
   "metadata": {},
   "outputs": [
    {
     "name": "stdout",
     "output_type": "stream",
     "text": [
      "3.0284590915940947e-16\n",
      "1.497324452594943e-08\n"
     ]
    }
   ],
   "source": [
    "for x in range (0, 2):\n",
    "    print(mdf.pvalues[x])"
   ]
  },
  {
   "cell_type": "code",
   "execution_count": null,
   "id": "64685618-8bab-4192-8570-fa4b7400748d",
   "metadata": {},
   "outputs": [],
   "source": []
  }
 ],
 "metadata": {
  "kernelspec": {
   "display_name": "Python 3 (ipykernel)",
   "language": "python",
   "name": "python3"
  },
  "language_info": {
   "codemirror_mode": {
    "name": "ipython",
    "version": 3
   },
   "file_extension": ".py",
   "mimetype": "text/x-python",
   "name": "python",
   "nbconvert_exporter": "python",
   "pygments_lexer": "ipython3",
   "version": "3.9.13"
  }
 },
 "nbformat": 4,
 "nbformat_minor": 5
}
