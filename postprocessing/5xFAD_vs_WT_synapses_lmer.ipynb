{
 "cells": [
  {
   "cell_type": "markdown",
   "id": "ae51f4d8-8d2f-4064-9454-296e2e7dbe23",
   "metadata": {},
   "source": [
    "# Script for using linear mixed effects model to quantify differences in synaptic proteins in 5xFAD vs. WT"
   ]
  },
  {
   "cell_type": "code",
   "execution_count": 64,
   "id": "5133af25-d5b8-4f5b-a9f4-f350b76c01c3",
   "metadata": {},
   "outputs": [],
   "source": [
    "#most of the code is taken/adapted from this tutorial: https://towardsdatascience.com/how-to-run-linear-mixed-effects-models-in-python-jupyter-notebooks-4f8079c4b589"
   ]
  },
  {
   "cell_type": "code",
   "execution_count": 65,
   "id": "96d487f2-4e84-4cf1-9359-52f05c5b12c4",
   "metadata": {},
   "outputs": [],
   "source": [
    "# Load packages\n",
    "import numpy as np\n",
    "import pandas as pd\n",
    "import statsmodels.api as sm\n",
    "import statsmodels.formula.api as smf\n",
    "import os"
   ]
  },
  {
   "cell_type": "code",
   "execution_count": 66,
   "id": "b92669cb-039f-484f-a542-f8662fb16130",
   "metadata": {},
   "outputs": [],
   "source": [
    "parentdir = '/Users/margaret/Dropbox (MIT)/mExR_analysis/SmallData/2023.05_5xFAD/'"
   ]
  },
  {
   "cell_type": "code",
   "execution_count": 81,
   "id": "a23a938b-fcbc-4997-9e32-61985617ccb2",
   "metadata": {},
   "outputs": [
    {
     "data": {
      "text/plain": [
       "['mExR_5xFAD_2023.05_reg-error.pzfx',\n",
       " '5xFAD_2023.05_synapses_WT_vs_5xFAD_RE.pzfx',\n",
       " '5xFAD_vs_WT_n=3_Abeta.xlsx',\n",
       " '5xFAD_2023.05_abeta_WT_vs_5xFAD_RE.pzfx',\n",
       " '5xFAD_2023.05_abeta_analysis_updated.pzfx',\n",
       " '5xFAD_vs_WT_n=2_Abeta.csv',\n",
       " 'mExR_2023.05_5xFAD.xlsx',\n",
       " '5xFAD_vs_WT_n=3_Abeta.csv',\n",
       " '5xFAD_vs_WT_n=2_synapses.csv',\n",
       " '5xFAD_vs_WT_n=3_synapses.csv',\n",
       " '5xFAD_2022.05_camkiia.pzfx']"
      ]
     },
     "execution_count": 81,
     "metadata": {},
     "output_type": "execute_result"
    }
   ],
   "source": [
    "os.listdir(parentdir)"
   ]
  },
  {
   "cell_type": "code",
   "execution_count": 82,
   "id": "3da7cca3-5d7b-46d0-83da-945dc0fc34d3",
   "metadata": {},
   "outputs": [],
   "source": [
    "data = pd.read_csv(parentdir + '5xFAD_vs_WT_n=2_synapses.csv')"
   ]
  },
  {
   "cell_type": "code",
   "execution_count": 83,
   "id": "619d388f-dac0-4e0b-8a7d-86a4f00736a9",
   "metadata": {},
   "outputs": [
    {
     "data": {
      "text/html": [
       "<div>\n",
       "<style scoped>\n",
       "    .dataframe tbody tr th:only-of-type {\n",
       "        vertical-align: middle;\n",
       "    }\n",
       "\n",
       "    .dataframe tbody tr th {\n",
       "        vertical-align: top;\n",
       "    }\n",
       "\n",
       "    .dataframe thead th {\n",
       "        text-align: right;\n",
       "    }\n",
       "</style>\n",
       "<table border=\"1\" class=\"dataframe\">\n",
       "  <thead>\n",
       "    <tr style=\"text-align: right;\">\n",
       "      <th></th>\n",
       "      <th>Animal</th>\n",
       "      <th>ROI</th>\n",
       "      <th>Group</th>\n",
       "      <th>RIM1_vol</th>\n",
       "      <th>GluA3_vol</th>\n",
       "      <th>NR2B_vol</th>\n",
       "      <th>RIMBP_vol</th>\n",
       "      <th>GluA2_vol</th>\n",
       "      <th>GluA1_vol</th>\n",
       "      <th>NR1_vol</th>\n",
       "      <th>Shank3_vol</th>\n",
       "      <th>Homer1_vol</th>\n",
       "      <th>GluA4_vol</th>\n",
       "      <th>PSD95_vol</th>\n",
       "      <th>Bassoon_vol</th>\n",
       "      <th>SynGAP_vol</th>\n",
       "      <th>IRsp53_vol</th>\n",
       "    </tr>\n",
       "  </thead>\n",
       "  <tbody>\n",
       "    <tr>\n",
       "      <th>0</th>\n",
       "      <td>5xFAD-2</td>\n",
       "      <td>ROI1</td>\n",
       "      <td>5xFAD</td>\n",
       "      <td>1.275974</td>\n",
       "      <td>0.314171</td>\n",
       "      <td>0.353728</td>\n",
       "      <td>0.752473</td>\n",
       "      <td>0.035785</td>\n",
       "      <td>0.426865</td>\n",
       "      <td>0.253600</td>\n",
       "      <td>0.432301</td>\n",
       "      <td>1.050779</td>\n",
       "      <td>0.290645</td>\n",
       "      <td>0.421013</td>\n",
       "      <td>0.657133</td>\n",
       "      <td>0.391745</td>\n",
       "      <td>0.738020</td>\n",
       "    </tr>\n",
       "    <tr>\n",
       "      <th>1</th>\n",
       "      <td>5xFAD-2</td>\n",
       "      <td>ROI2</td>\n",
       "      <td>5xFAD</td>\n",
       "      <td>0.893086</td>\n",
       "      <td>0.276639</td>\n",
       "      <td>0.356786</td>\n",
       "      <td>0.546142</td>\n",
       "      <td>0.048083</td>\n",
       "      <td>0.292006</td>\n",
       "      <td>0.329737</td>\n",
       "      <td>0.522841</td>\n",
       "      <td>0.758914</td>\n",
       "      <td>0.342606</td>\n",
       "      <td>0.415196</td>\n",
       "      <td>0.646244</td>\n",
       "      <td>0.389374</td>\n",
       "      <td>0.611348</td>\n",
       "    </tr>\n",
       "    <tr>\n",
       "      <th>2</th>\n",
       "      <td>5xFAD-2</td>\n",
       "      <td>ROI3</td>\n",
       "      <td>5xFAD</td>\n",
       "      <td>0.794513</td>\n",
       "      <td>0.229565</td>\n",
       "      <td>0.321661</td>\n",
       "      <td>0.379173</td>\n",
       "      <td>0.053106</td>\n",
       "      <td>0.203572</td>\n",
       "      <td>0.277443</td>\n",
       "      <td>0.483429</td>\n",
       "      <td>0.554174</td>\n",
       "      <td>0.175842</td>\n",
       "      <td>0.363866</td>\n",
       "      <td>0.548275</td>\n",
       "      <td>0.320136</td>\n",
       "      <td>0.415166</td>\n",
       "    </tr>\n",
       "    <tr>\n",
       "      <th>3</th>\n",
       "      <td>5xFAD-2</td>\n",
       "      <td>ROI4</td>\n",
       "      <td>5xFAD</td>\n",
       "      <td>1.119313</td>\n",
       "      <td>0.345086</td>\n",
       "      <td>0.435711</td>\n",
       "      <td>0.725434</td>\n",
       "      <td>0.042758</td>\n",
       "      <td>0.359016</td>\n",
       "      <td>0.401425</td>\n",
       "      <td>0.528090</td>\n",
       "      <td>1.056154</td>\n",
       "      <td>0.352155</td>\n",
       "      <td>0.478293</td>\n",
       "      <td>0.437506</td>\n",
       "      <td>0.435614</td>\n",
       "      <td>0.390674</td>\n",
       "    </tr>\n",
       "    <tr>\n",
       "      <th>4</th>\n",
       "      <td>5xFAD-2</td>\n",
       "      <td>ROI5</td>\n",
       "      <td>5xFAD</td>\n",
       "      <td>0.959586</td>\n",
       "      <td>0.333744</td>\n",
       "      <td>0.439819</td>\n",
       "      <td>0.647004</td>\n",
       "      <td>0.045960</td>\n",
       "      <td>0.378807</td>\n",
       "      <td>0.421723</td>\n",
       "      <td>0.536081</td>\n",
       "      <td>0.767107</td>\n",
       "      <td>0.486110</td>\n",
       "      <td>0.411397</td>\n",
       "      <td>0.648290</td>\n",
       "      <td>0.421976</td>\n",
       "      <td>0.619811</td>\n",
       "    </tr>\n",
       "    <tr>\n",
       "      <th>5</th>\n",
       "      <td>5xFAD-3</td>\n",
       "      <td>ROI1</td>\n",
       "      <td>5xFAD</td>\n",
       "      <td>0.734355</td>\n",
       "      <td>0.412959</td>\n",
       "      <td>0.483517</td>\n",
       "      <td>0.728528</td>\n",
       "      <td>0.093835</td>\n",
       "      <td>0.332874</td>\n",
       "      <td>0.455124</td>\n",
       "      <td>0.547621</td>\n",
       "      <td>0.995113</td>\n",
       "      <td>0.332731</td>\n",
       "      <td>0.578061</td>\n",
       "      <td>0.803573</td>\n",
       "      <td>0.615044</td>\n",
       "      <td>0.776124</td>\n",
       "    </tr>\n",
       "    <tr>\n",
       "      <th>6</th>\n",
       "      <td>5xFAD-3</td>\n",
       "      <td>ROI2</td>\n",
       "      <td>5xFAD</td>\n",
       "      <td>0.851018</td>\n",
       "      <td>0.298961</td>\n",
       "      <td>0.387346</td>\n",
       "      <td>0.583731</td>\n",
       "      <td>0.035236</td>\n",
       "      <td>0.285182</td>\n",
       "      <td>0.378741</td>\n",
       "      <td>0.492032</td>\n",
       "      <td>0.786435</td>\n",
       "      <td>0.187197</td>\n",
       "      <td>0.489924</td>\n",
       "      <td>0.610938</td>\n",
       "      <td>0.476547</td>\n",
       "      <td>0.583583</td>\n",
       "    </tr>\n",
       "    <tr>\n",
       "      <th>7</th>\n",
       "      <td>5xFAD-3</td>\n",
       "      <td>ROI3</td>\n",
       "      <td>5xFAD</td>\n",
       "      <td>1.025678</td>\n",
       "      <td>0.294000</td>\n",
       "      <td>0.347359</td>\n",
       "      <td>0.455604</td>\n",
       "      <td>0.006476</td>\n",
       "      <td>0.272515</td>\n",
       "      <td>0.351633</td>\n",
       "      <td>0.493225</td>\n",
       "      <td>0.740646</td>\n",
       "      <td>0.116091</td>\n",
       "      <td>0.452495</td>\n",
       "      <td>0.589812</td>\n",
       "      <td>0.382915</td>\n",
       "      <td>0.297917</td>\n",
       "    </tr>\n",
       "    <tr>\n",
       "      <th>8</th>\n",
       "      <td>5xFAD-3</td>\n",
       "      <td>ROI4</td>\n",
       "      <td>5xFAD</td>\n",
       "      <td>0.675139</td>\n",
       "      <td>0.407433</td>\n",
       "      <td>0.362534</td>\n",
       "      <td>0.551104</td>\n",
       "      <td>0.012189</td>\n",
       "      <td>0.252572</td>\n",
       "      <td>0.333725</td>\n",
       "      <td>0.404180</td>\n",
       "      <td>0.590964</td>\n",
       "      <td>0.237453</td>\n",
       "      <td>0.352896</td>\n",
       "      <td>0.540447</td>\n",
       "      <td>0.354063</td>\n",
       "      <td>0.444745</td>\n",
       "    </tr>\n",
       "    <tr>\n",
       "      <th>9</th>\n",
       "      <td>WT-2</td>\n",
       "      <td>ROI1</td>\n",
       "      <td>WT</td>\n",
       "      <td>1.177196</td>\n",
       "      <td>0.488599</td>\n",
       "      <td>0.709457</td>\n",
       "      <td>1.117161</td>\n",
       "      <td>0.003533</td>\n",
       "      <td>0.539853</td>\n",
       "      <td>0.597186</td>\n",
       "      <td>0.853723</td>\n",
       "      <td>1.122522</td>\n",
       "      <td>0.224530</td>\n",
       "      <td>0.871557</td>\n",
       "      <td>1.040250</td>\n",
       "      <td>0.856264</td>\n",
       "      <td>0.857650</td>\n",
       "    </tr>\n",
       "    <tr>\n",
       "      <th>10</th>\n",
       "      <td>WT-2</td>\n",
       "      <td>ROI2</td>\n",
       "      <td>WT</td>\n",
       "      <td>0.408428</td>\n",
       "      <td>0.389414</td>\n",
       "      <td>0.562443</td>\n",
       "      <td>0.926003</td>\n",
       "      <td>0.001891</td>\n",
       "      <td>0.405965</td>\n",
       "      <td>0.429806</td>\n",
       "      <td>0.743201</td>\n",
       "      <td>0.915795</td>\n",
       "      <td>0.130180</td>\n",
       "      <td>0.833157</td>\n",
       "      <td>0.923660</td>\n",
       "      <td>0.724942</td>\n",
       "      <td>0.775067</td>\n",
       "    </tr>\n",
       "    <tr>\n",
       "      <th>11</th>\n",
       "      <td>WT-2</td>\n",
       "      <td>ROI3</td>\n",
       "      <td>WT</td>\n",
       "      <td>1.349565</td>\n",
       "      <td>0.525483</td>\n",
       "      <td>0.684864</td>\n",
       "      <td>1.128628</td>\n",
       "      <td>0.005601</td>\n",
       "      <td>0.531388</td>\n",
       "      <td>0.477902</td>\n",
       "      <td>0.845898</td>\n",
       "      <td>1.057112</td>\n",
       "      <td>0.140059</td>\n",
       "      <td>0.940050</td>\n",
       "      <td>1.187836</td>\n",
       "      <td>0.881925</td>\n",
       "      <td>0.817928</td>\n",
       "    </tr>\n",
       "    <tr>\n",
       "      <th>12</th>\n",
       "      <td>WT-2</td>\n",
       "      <td>ROI4</td>\n",
       "      <td>WT</td>\n",
       "      <td>1.160796</td>\n",
       "      <td>0.483283</td>\n",
       "      <td>0.540609</td>\n",
       "      <td>1.027728</td>\n",
       "      <td>0.004188</td>\n",
       "      <td>0.535038</td>\n",
       "      <td>0.558508</td>\n",
       "      <td>0.931769</td>\n",
       "      <td>1.053826</td>\n",
       "      <td>0.150532</td>\n",
       "      <td>0.935155</td>\n",
       "      <td>1.157419</td>\n",
       "      <td>0.910476</td>\n",
       "      <td>0.644484</td>\n",
       "    </tr>\n",
       "    <tr>\n",
       "      <th>13</th>\n",
       "      <td>WT-3</td>\n",
       "      <td>ROI1</td>\n",
       "      <td>WT</td>\n",
       "      <td>1.548088</td>\n",
       "      <td>0.467177</td>\n",
       "      <td>0.539647</td>\n",
       "      <td>0.735122</td>\n",
       "      <td>0.006225</td>\n",
       "      <td>0.413718</td>\n",
       "      <td>0.442972</td>\n",
       "      <td>0.647138</td>\n",
       "      <td>0.805986</td>\n",
       "      <td>0.102858</td>\n",
       "      <td>0.693106</td>\n",
       "      <td>0.841218</td>\n",
       "      <td>0.628420</td>\n",
       "      <td>0.588276</td>\n",
       "    </tr>\n",
       "    <tr>\n",
       "      <th>14</th>\n",
       "      <td>WT-3</td>\n",
       "      <td>ROI2</td>\n",
       "      <td>WT</td>\n",
       "      <td>1.625412</td>\n",
       "      <td>0.580292</td>\n",
       "      <td>0.630241</td>\n",
       "      <td>0.854902</td>\n",
       "      <td>0.004469</td>\n",
       "      <td>0.468130</td>\n",
       "      <td>0.581505</td>\n",
       "      <td>0.791771</td>\n",
       "      <td>1.014099</td>\n",
       "      <td>0.145346</td>\n",
       "      <td>0.797014</td>\n",
       "      <td>0.948037</td>\n",
       "      <td>0.856190</td>\n",
       "      <td>0.850456</td>\n",
       "    </tr>\n",
       "    <tr>\n",
       "      <th>15</th>\n",
       "      <td>WT-3</td>\n",
       "      <td>ROI3</td>\n",
       "      <td>WT</td>\n",
       "      <td>1.897862</td>\n",
       "      <td>0.470391</td>\n",
       "      <td>0.537280</td>\n",
       "      <td>0.857983</td>\n",
       "      <td>0.010423</td>\n",
       "      <td>0.490302</td>\n",
       "      <td>0.559390</td>\n",
       "      <td>0.735448</td>\n",
       "      <td>0.932229</td>\n",
       "      <td>0.188709</td>\n",
       "      <td>0.706182</td>\n",
       "      <td>0.998145</td>\n",
       "      <td>0.757664</td>\n",
       "      <td>0.773524</td>\n",
       "    </tr>\n",
       "    <tr>\n",
       "      <th>16</th>\n",
       "      <td>WT-3</td>\n",
       "      <td>ROI4</td>\n",
       "      <td>WT</td>\n",
       "      <td>1.428990</td>\n",
       "      <td>0.376637</td>\n",
       "      <td>0.545507</td>\n",
       "      <td>0.801748</td>\n",
       "      <td>0.002304</td>\n",
       "      <td>0.470427</td>\n",
       "      <td>0.561395</td>\n",
       "      <td>0.765369</td>\n",
       "      <td>0.948257</td>\n",
       "      <td>0.152715</td>\n",
       "      <td>0.801030</td>\n",
       "      <td>1.086123</td>\n",
       "      <td>0.877259</td>\n",
       "      <td>0.716786</td>\n",
       "    </tr>\n",
       "  </tbody>\n",
       "</table>\n",
       "</div>"
      ],
      "text/plain": [
       "     Animal   ROI  Group  RIM1_vol  GluA3_vol  NR2B_vol  RIMBP_vol  GluA2_vol   \n",
       "0   5xFAD-2  ROI1  5xFAD  1.275974   0.314171  0.353728   0.752473   0.035785  \\\n",
       "1   5xFAD-2  ROI2  5xFAD  0.893086   0.276639  0.356786   0.546142   0.048083   \n",
       "2   5xFAD-2  ROI3  5xFAD  0.794513   0.229565  0.321661   0.379173   0.053106   \n",
       "3   5xFAD-2  ROI4  5xFAD  1.119313   0.345086  0.435711   0.725434   0.042758   \n",
       "4   5xFAD-2  ROI5  5xFAD  0.959586   0.333744  0.439819   0.647004   0.045960   \n",
       "5   5xFAD-3  ROI1  5xFAD  0.734355   0.412959  0.483517   0.728528   0.093835   \n",
       "6   5xFAD-3  ROI2  5xFAD  0.851018   0.298961  0.387346   0.583731   0.035236   \n",
       "7   5xFAD-3  ROI3  5xFAD  1.025678   0.294000  0.347359   0.455604   0.006476   \n",
       "8   5xFAD-3  ROI4  5xFAD  0.675139   0.407433  0.362534   0.551104   0.012189   \n",
       "9      WT-2  ROI1     WT  1.177196   0.488599  0.709457   1.117161   0.003533   \n",
       "10     WT-2  ROI2     WT  0.408428   0.389414  0.562443   0.926003   0.001891   \n",
       "11     WT-2  ROI3     WT  1.349565   0.525483  0.684864   1.128628   0.005601   \n",
       "12     WT-2  ROI4     WT  1.160796   0.483283  0.540609   1.027728   0.004188   \n",
       "13     WT-3  ROI1     WT  1.548088   0.467177  0.539647   0.735122   0.006225   \n",
       "14     WT-3  ROI2     WT  1.625412   0.580292  0.630241   0.854902   0.004469   \n",
       "15     WT-3  ROI3     WT  1.897862   0.470391  0.537280   0.857983   0.010423   \n",
       "16     WT-3  ROI4     WT  1.428990   0.376637  0.545507   0.801748   0.002304   \n",
       "\n",
       "    GluA1_vol   NR1_vol  Shank3_vol  Homer1_vol  GluA4_vol  PSD95_vol   \n",
       "0    0.426865  0.253600    0.432301    1.050779   0.290645   0.421013  \\\n",
       "1    0.292006  0.329737    0.522841    0.758914   0.342606   0.415196   \n",
       "2    0.203572  0.277443    0.483429    0.554174   0.175842   0.363866   \n",
       "3    0.359016  0.401425    0.528090    1.056154   0.352155   0.478293   \n",
       "4    0.378807  0.421723    0.536081    0.767107   0.486110   0.411397   \n",
       "5    0.332874  0.455124    0.547621    0.995113   0.332731   0.578061   \n",
       "6    0.285182  0.378741    0.492032    0.786435   0.187197   0.489924   \n",
       "7    0.272515  0.351633    0.493225    0.740646   0.116091   0.452495   \n",
       "8    0.252572  0.333725    0.404180    0.590964   0.237453   0.352896   \n",
       "9    0.539853  0.597186    0.853723    1.122522   0.224530   0.871557   \n",
       "10   0.405965  0.429806    0.743201    0.915795   0.130180   0.833157   \n",
       "11   0.531388  0.477902    0.845898    1.057112   0.140059   0.940050   \n",
       "12   0.535038  0.558508    0.931769    1.053826   0.150532   0.935155   \n",
       "13   0.413718  0.442972    0.647138    0.805986   0.102858   0.693106   \n",
       "14   0.468130  0.581505    0.791771    1.014099   0.145346   0.797014   \n",
       "15   0.490302  0.559390    0.735448    0.932229   0.188709   0.706182   \n",
       "16   0.470427  0.561395    0.765369    0.948257   0.152715   0.801030   \n",
       "\n",
       "    Bassoon_vol  SynGAP_vol  IRsp53_vol  \n",
       "0      0.657133    0.391745    0.738020  \n",
       "1      0.646244    0.389374    0.611348  \n",
       "2      0.548275    0.320136    0.415166  \n",
       "3      0.437506    0.435614    0.390674  \n",
       "4      0.648290    0.421976    0.619811  \n",
       "5      0.803573    0.615044    0.776124  \n",
       "6      0.610938    0.476547    0.583583  \n",
       "7      0.589812    0.382915    0.297917  \n",
       "8      0.540447    0.354063    0.444745  \n",
       "9      1.040250    0.856264    0.857650  \n",
       "10     0.923660    0.724942    0.775067  \n",
       "11     1.187836    0.881925    0.817928  \n",
       "12     1.157419    0.910476    0.644484  \n",
       "13     0.841218    0.628420    0.588276  \n",
       "14     0.948037    0.856190    0.850456  \n",
       "15     0.998145    0.757664    0.773524  \n",
       "16     1.086123    0.877259    0.716786  "
      ]
     },
     "execution_count": 83,
     "metadata": {},
     "output_type": "execute_result"
    }
   ],
   "source": [
    "data"
   ]
  },
  {
   "cell_type": "code",
   "execution_count": 70,
   "id": "08ab8a35-9122-4de4-95cc-1b0dd2deccb2",
   "metadata": {},
   "outputs": [
    {
     "name": "stdout",
     "output_type": "stream",
     "text": [
      "        Mixed Linear Model Regression Results\n",
      "======================================================\n",
      "Model:            MixedLM Dependent Variable: RIM1_vol\n",
      "No. Observations: 17      Method:             REML    \n",
      "No. Groups:       4       Scale:              0.0664  \n",
      "Min. group size:  4       Log-Likelihood:     -4.9110 \n",
      "Max. group size:  5       Converged:          Yes     \n",
      "Mean group size:  4.2                                 \n",
      "------------------------------------------------------\n",
      "              Coef. Std.Err.   z   P>|z| [0.025 0.975]\n",
      "------------------------------------------------------\n",
      "Intercept     0.917    0.220 4.166 0.000  0.485  1.348\n",
      "Group[T.WT]   0.408    0.313 1.305 0.192 -0.205  1.020\n",
      "Group Var     0.082    0.410                          \n",
      "======================================================\n",
      "\n"
     ]
    }
   ],
   "source": [
    "# Run mixed lm for RIM1 volume\n",
    "md = smf.mixedlm(\"RIM1_vol ~ Group\", data, groups=data[\"Animal\"])\n",
    "mdf = md.fit(method=[\"lbfgs\"])\n",
    "print(mdf.summary())"
   ]
  },
  {
   "cell_type": "code",
   "execution_count": 71,
   "id": "3820b878-def9-4ba8-baca-8da3a0cbae49",
   "metadata": {},
   "outputs": [
    {
     "name": "stdout",
     "output_type": "stream",
     "text": [
      "         Mixed Linear Model Regression Results\n",
      "=======================================================\n",
      "Model:            MixedLM Dependent Variable: GluA3_vol\n",
      "No. Observations: 17      Method:             REML     \n",
      "No. Groups:       4       Scale:              0.0039   \n",
      "Min. group size:  4       Log-Likelihood:     18.0987  \n",
      "Max. group size:  5       Converged:          Yes      \n",
      "Mean group size:  4.2                                  \n",
      "-------------------------------------------------------\n",
      "              Coef. Std.Err.   z    P>|z| [0.025 0.975]\n",
      "-------------------------------------------------------\n",
      "Intercept     0.324    0.021 15.219 0.000  0.282  0.365\n",
      "Group[T.WT]   0.149    0.031  4.849 0.000  0.089  0.209\n",
      "Group Var     0.000    0.018                           \n",
      "=======================================================\n",
      "\n"
     ]
    },
    {
     "name": "stderr",
     "output_type": "stream",
     "text": [
      "/Users/margaret/miniconda3/envs/lmer/lib/python3.9/site-packages/statsmodels/regression/mixed_linear_model.py:1635: UserWarning: Random effects covariance is singular\n",
      "  warnings.warn(msg)\n",
      "/Users/margaret/miniconda3/envs/lmer/lib/python3.9/site-packages/statsmodels/regression/mixed_linear_model.py:2238: ConvergenceWarning: The MLE may be on the boundary of the parameter space.\n",
      "  warnings.warn(msg, ConvergenceWarning)\n"
     ]
    }
   ],
   "source": [
    "# Run mixed lm for GluA3 volume\n",
    "md = smf.mixedlm(\"GluA3_vol ~ Group\", data, groups=data[\"Animal\"])\n",
    "mdf = md.fit(method=[\"lbfgs\"])\n",
    "print(mdf.summary())"
   ]
  },
  {
   "cell_type": "code",
   "execution_count": 72,
   "id": "defecaf0-2056-4786-aadb-2b5dd811b507",
   "metadata": {},
   "outputs": [
    {
     "name": "stdout",
     "output_type": "stream",
     "text": [
      "2.632301581255709e-52\n",
      "1.242624941048332e-06\n"
     ]
    }
   ],
   "source": [
    "for x in range (0, 2):\n",
    "    print(mdf.pvalues[x])"
   ]
  },
  {
   "cell_type": "code",
   "execution_count": 74,
   "id": "08e34dfc-399d-401c-a02e-dafc848e6d0e",
   "metadata": {},
   "outputs": [
    {
     "name": "stdout",
     "output_type": "stream",
     "text": [
      "        Mixed Linear Model Regression Results\n",
      "======================================================\n",
      "Model:            MixedLM Dependent Variable: NR2B_vol\n",
      "No. Observations: 17      Method:             REML    \n",
      "No. Groups:       4       Scale:              0.0039  \n",
      "Min. group size:  4       Log-Likelihood:     18.2166 \n",
      "Max. group size:  5       Converged:          Yes     \n",
      "Mean group size:  4.2                                 \n",
      "------------------------------------------------------\n",
      "             Coef. Std.Err.   z    P>|z| [0.025 0.975]\n",
      "------------------------------------------------------\n",
      "Intercept    0.388    0.021 18.648 0.000  0.347  0.428\n",
      "Group[T.WT]  0.206    0.030  6.807 0.000  0.147  0.266\n",
      "Group Var    0.000    0.017                           \n",
      "======================================================\n",
      "\n"
     ]
    },
    {
     "name": "stderr",
     "output_type": "stream",
     "text": [
      "/Users/margaret/miniconda3/envs/lmer/lib/python3.9/site-packages/statsmodels/regression/mixed_linear_model.py:1635: UserWarning: Random effects covariance is singular\n",
      "  warnings.warn(msg)\n",
      "/Users/margaret/miniconda3/envs/lmer/lib/python3.9/site-packages/statsmodels/regression/mixed_linear_model.py:2238: ConvergenceWarning: The MLE may be on the boundary of the parameter space.\n",
      "  warnings.warn(msg, ConvergenceWarning)\n"
     ]
    }
   ],
   "source": [
    "# Run mixed lm for NR2B volume\n",
    "md = smf.mixedlm(\"NR2B_vol ~ Group\", data, groups=data[\"Animal\"])\n",
    "mdf = md.fit(method=[\"lbfgs\"])\n",
    "print(mdf.summary())"
   ]
  },
  {
   "cell_type": "code",
   "execution_count": 75,
   "id": "64685618-8bab-4192-8570-fa4b7400748d",
   "metadata": {},
   "outputs": [
    {
     "name": "stdout",
     "output_type": "stream",
     "text": [
      "1.3021674334620696e-77\n",
      "9.931907277466528e-12\n"
     ]
    }
   ],
   "source": [
    "for x in range (0, 2):\n",
    "    print(mdf.pvalues[x])"
   ]
  },
  {
   "cell_type": "code",
   "execution_count": 84,
   "id": "da47fb12-1ff3-473a-8194-809b4fffbf28",
   "metadata": {},
   "outputs": [
    {
     "name": "stdout",
     "output_type": "stream",
     "text": [
      "         Mixed Linear Model Regression Results\n",
      "=======================================================\n",
      "Model:            MixedLM Dependent Variable: RIMBP_vol\n",
      "No. Observations: 17      Method:             REML     \n",
      "No. Groups:       4       Scale:              0.0129   \n",
      "Min. group size:  4       Log-Likelihood:     7.6906   \n",
      "Max. group size:  5       Converged:          Yes      \n",
      "Mean group size:  4.2                                  \n",
      "-------------------------------------------------------\n",
      "               Coef. Std.Err.   z   P>|z| [0.025 0.975]\n",
      "-------------------------------------------------------\n",
      "Intercept      0.595    0.083 7.155 0.000  0.432  0.758\n",
      "Group[T.WT]    0.336    0.118 2.838 0.005  0.104  0.568\n",
      "Group Var      0.011    0.134                          \n",
      "=======================================================\n",
      "\n"
     ]
    },
    {
     "name": "stderr",
     "output_type": "stream",
     "text": [
      "/Users/margaret/miniconda3/envs/lmer/lib/python3.9/site-packages/statsmodels/regression/mixed_linear_model.py:1635: UserWarning: Random effects covariance is singular\n",
      "  warnings.warn(msg)\n"
     ]
    }
   ],
   "source": [
    "# Run mixed lm for RIM-BP volume\n",
    "md = smf.mixedlm(\"RIMBP_vol ~ Group\", data, groups=data[\"Animal\"])\n",
    "mdf = md.fit(method=[\"lbfgs\"])\n",
    "print(mdf.summary())"
   ]
  },
  {
   "cell_type": "code",
   "execution_count": 85,
   "id": "3e4e8172-4a82-4a4f-b30e-456a735840b9",
   "metadata": {},
   "outputs": [
    {
     "name": "stdout",
     "output_type": "stream",
     "text": [
      "8.365276050964072e-13\n",
      "0.004535372051967385\n"
     ]
    }
   ],
   "source": [
    "for x in range (0, 2):\n",
    "    print(mdf.pvalues[x])"
   ]
  },
  {
   "cell_type": "code",
   "execution_count": 86,
   "id": "a5aaabf3-c46b-4606-ad59-2c4443d388b7",
   "metadata": {},
   "outputs": [
    {
     "name": "stdout",
     "output_type": "stream",
     "text": [
      "         Mixed Linear Model Regression Results\n",
      "=======================================================\n",
      "Model:            MixedLM Dependent Variable: GluA2_vol\n",
      "No. Observations: 17      Method:             REML     \n",
      "No. Groups:       4       Scale:              0.0003   \n",
      "Min. group size:  4       Log-Likelihood:     36.4075  \n",
      "Max. group size:  5       Converged:          No       \n",
      "Mean group size:  4.2                                  \n",
      "-------------------------------------------------------\n",
      "             Coef.  Std.Err.   z    P>|z| [0.025 0.975]\n",
      "-------------------------------------------------------\n",
      "Intercept     0.041    0.006  6.759 0.000  0.029  0.054\n",
      "Group[T.WT]  -0.037    0.009 -4.084 0.000 -0.054 -0.019\n",
      "Group Var     0.000                                    \n",
      "=======================================================\n",
      "\n"
     ]
    },
    {
     "name": "stderr",
     "output_type": "stream",
     "text": [
      "/Users/margaret/miniconda3/envs/lmer/lib/python3.9/site-packages/statsmodels/regression/mixed_linear_model.py:1635: UserWarning: Random effects covariance is singular\n",
      "  warnings.warn(msg)\n",
      "/Users/margaret/miniconda3/envs/lmer/lib/python3.9/site-packages/statsmodels/base/model.py:607: ConvergenceWarning: Maximum Likelihood optimization failed to converge. Check mle_retvals\n",
      "  warnings.warn(\"Maximum Likelihood optimization failed to \"\n",
      "/Users/margaret/miniconda3/envs/lmer/lib/python3.9/site-packages/statsmodels/regression/mixed_linear_model.py:2207: ConvergenceWarning: MixedLM optimization failed, trying a different optimizer may help.\n",
      "  warnings.warn(msg, ConvergenceWarning)\n",
      "/Users/margaret/miniconda3/envs/lmer/lib/python3.9/site-packages/statsmodels/regression/mixed_linear_model.py:2219: ConvergenceWarning: Gradient optimization failed, |grad| = 0.039720\n",
      "  warnings.warn(msg, ConvergenceWarning)\n",
      "/Users/margaret/miniconda3/envs/lmer/lib/python3.9/site-packages/statsmodels/regression/mixed_linear_model.py:2238: ConvergenceWarning: The MLE may be on the boundary of the parameter space.\n",
      "  warnings.warn(msg, ConvergenceWarning)\n",
      "/Users/margaret/miniconda3/envs/lmer/lib/python3.9/site-packages/statsmodels/regression/mixed_linear_model.py:2262: ConvergenceWarning: The Hessian matrix at the estimated parameter values is not positive definite.\n",
      "  warnings.warn(msg, ConvergenceWarning)\n"
     ]
    }
   ],
   "source": [
    "# Run mixed lm for GluA2 volume\n",
    "md = smf.mixedlm(\"GluA2_vol ~ Group\", data, groups=data[\"Animal\"])\n",
    "mdf = md.fit(method=[\"lbfgs\"])\n",
    "print(mdf.summary())"
   ]
  },
  {
   "cell_type": "code",
   "execution_count": 87,
   "id": "29a1b056-e8ba-4bfa-8a71-d385f726deab",
   "metadata": {},
   "outputs": [
    {
     "name": "stdout",
     "output_type": "stream",
     "text": [
      "1.3848813520306577e-11\n",
      "4.421630076884965e-05\n"
     ]
    }
   ],
   "source": [
    "for x in range (0, 2):\n",
    "    print(mdf.pvalues[x])"
   ]
  },
  {
   "cell_type": "code",
   "execution_count": 88,
   "id": "d2cad143-9331-4c09-8a40-efeebe8fc570",
   "metadata": {},
   "outputs": [
    {
     "name": "stdout",
     "output_type": "stream",
     "text": [
      "         Mixed Linear Model Regression Results\n",
      "=======================================================\n",
      "Model:            MixedLM Dependent Variable: GluA1_vol\n",
      "No. Observations: 17      Method:             REML     \n",
      "No. Groups:       4       Scale:              0.0038   \n",
      "Min. group size:  4       Log-Likelihood:     18.2858  \n",
      "Max. group size:  5       Converged:          Yes      \n",
      "Mean group size:  4.2                                  \n",
      "-------------------------------------------------------\n",
      "              Coef. Std.Err.   z    P>|z| [0.025 0.975]\n",
      "-------------------------------------------------------\n",
      "Intercept     0.311    0.022 14.250 0.000  0.268  0.354\n",
      "Group[T.WT]   0.171    0.032  5.397 0.000  0.109  0.233\n",
      "Group Var     0.000    0.017                           \n",
      "=======================================================\n",
      "\n"
     ]
    },
    {
     "name": "stderr",
     "output_type": "stream",
     "text": [
      "/Users/margaret/miniconda3/envs/lmer/lib/python3.9/site-packages/statsmodels/regression/mixed_linear_model.py:1635: UserWarning: Random effects covariance is singular\n",
      "  warnings.warn(msg)\n",
      "/Users/margaret/miniconda3/envs/lmer/lib/python3.9/site-packages/statsmodels/regression/mixed_linear_model.py:2238: ConvergenceWarning: The MLE may be on the boundary of the parameter space.\n",
      "  warnings.warn(msg, ConvergenceWarning)\n"
     ]
    }
   ],
   "source": [
    "# Run mixed lm for GluA1 volume\n",
    "md = smf.mixedlm(\"GluA1_vol ~ Group\", data, groups=data[\"Animal\"])\n",
    "mdf = md.fit(method=[\"lbfgs\"])\n",
    "print(mdf.summary())"
   ]
  },
  {
   "cell_type": "code",
   "execution_count": 89,
   "id": "67a0bb10-6380-492b-86a6-2ef4b7924145",
   "metadata": {},
   "outputs": [
    {
     "name": "stdout",
     "output_type": "stream",
     "text": [
      "4.483235853500648e-46\n",
      "6.779263820307266e-08\n"
     ]
    }
   ],
   "source": [
    "for x in range (0, 2):\n",
    "    print(mdf.pvalues[x])"
   ]
  },
  {
   "cell_type": "code",
   "execution_count": 91,
   "id": "fdb46c40-6d15-4f96-b064-efda90cd7af6",
   "metadata": {},
   "outputs": [
    {
     "name": "stdout",
     "output_type": "stream",
     "text": [
      "        Mixed Linear Model Regression Results\n",
      "=====================================================\n",
      "Model:            MixedLM Dependent Variable: NR1_vol\n",
      "No. Observations: 17      Method:             REML   \n",
      "No. Groups:       4       Scale:              0.0043 \n",
      "Min. group size:  4       Log-Likelihood:     17.4321\n",
      "Max. group size:  5       Converged:          Yes    \n",
      "Mean group size:  4.2                                \n",
      "-----------------------------------------------------\n",
      "            Coef. Std.Err.   z    P>|z| [0.025 0.975]\n",
      "-----------------------------------------------------\n",
      "Intercept   0.356    0.023 15.708 0.000  0.311  0.400\n",
      "Group[T.WT] 0.170    0.032  5.247 0.000  0.107  0.234\n",
      "Group Var   0.000    0.036                           \n",
      "=====================================================\n",
      "\n"
     ]
    },
    {
     "name": "stderr",
     "output_type": "stream",
     "text": [
      "/Users/margaret/miniconda3/envs/lmer/lib/python3.9/site-packages/statsmodels/regression/mixed_linear_model.py:1635: UserWarning: Random effects covariance is singular\n",
      "  warnings.warn(msg)\n",
      "/Users/margaret/miniconda3/envs/lmer/lib/python3.9/site-packages/statsmodels/regression/mixed_linear_model.py:2238: ConvergenceWarning: The MLE may be on the boundary of the parameter space.\n",
      "  warnings.warn(msg, ConvergenceWarning)\n"
     ]
    }
   ],
   "source": [
    "# Run mixed lm for NR1 volume\n",
    "md = smf.mixedlm(\"NR1_vol ~ Group\", data, groups=data[\"Animal\"])\n",
    "mdf = md.fit(method=[\"lbfgs\"])\n",
    "print(mdf.summary())"
   ]
  },
  {
   "cell_type": "code",
   "execution_count": 92,
   "id": "bcd5b264-4107-4880-b735-71a7b5279106",
   "metadata": {},
   "outputs": [
    {
     "name": "stdout",
     "output_type": "stream",
     "text": [
      "1.3348937930633131e-55\n",
      "1.5452036622680153e-07\n"
     ]
    }
   ],
   "source": [
    "for x in range (0, 2):\n",
    "    print(mdf.pvalues[x])"
   ]
  },
  {
   "cell_type": "code",
   "execution_count": 93,
   "id": "029cb33f-b9e2-49af-a5c4-27285abe5c92",
   "metadata": {},
   "outputs": [
    {
     "name": "stdout",
     "output_type": "stream",
     "text": [
      "         Mixed Linear Model Regression Results\n",
      "========================================================\n",
      "Model:            MixedLM Dependent Variable: Shank3_vol\n",
      "No. Observations: 17      Method:             REML      \n",
      "No. Groups:       4       Scale:              0.0037    \n",
      "Min. group size:  4       Log-Likelihood:     17.3839   \n",
      "Max. group size:  5       Converged:          Yes       \n",
      "Mean group size:  4.2                                   \n",
      "--------------------------------------------------------\n",
      "               Coef. Std.Err.   z    P>|z| [0.025 0.975]\n",
      "--------------------------------------------------------\n",
      "Intercept      0.493    0.038 12.977 0.000  0.418  0.567\n",
      "Group[T.WT]    0.297    0.054  5.480 0.000  0.191  0.403\n",
      "Group Var      0.002    0.053                           \n",
      "========================================================\n",
      "\n"
     ]
    },
    {
     "name": "stderr",
     "output_type": "stream",
     "text": [
      "/Users/margaret/miniconda3/envs/lmer/lib/python3.9/site-packages/statsmodels/regression/mixed_linear_model.py:1635: UserWarning: Random effects covariance is singular\n",
      "  warnings.warn(msg)\n",
      "/Users/margaret/miniconda3/envs/lmer/lib/python3.9/site-packages/statsmodels/regression/mixed_linear_model.py:2238: ConvergenceWarning: The MLE may be on the boundary of the parameter space.\n",
      "  warnings.warn(msg, ConvergenceWarning)\n"
     ]
    }
   ],
   "source": [
    "# Run mixed lm for Shank3 volume\n",
    "md = smf.mixedlm(\"Shank3_vol ~ Group\", data, groups=data[\"Animal\"])\n",
    "mdf = md.fit(method=[\"lbfgs\"])\n",
    "print(mdf.summary())"
   ]
  },
  {
   "cell_type": "code",
   "execution_count": 94,
   "id": "7dee5954-8656-4554-864c-dc2ca4ce7764",
   "metadata": {},
   "outputs": [
    {
     "name": "stdout",
     "output_type": "stream",
     "text": [
      "1.6576822258150464e-38\n",
      "4.2620434179632984e-08\n"
     ]
    }
   ],
   "source": [
    "for x in range (0, 2):\n",
    "    print(mdf.pvalues[x])"
   ]
  },
  {
   "cell_type": "code",
   "execution_count": 95,
   "id": "a19dcb7d-4a0b-4564-a9f8-8a5799383f69",
   "metadata": {},
   "outputs": [
    {
     "name": "stdout",
     "output_type": "stream",
     "text": [
      "         Mixed Linear Model Regression Results\n",
      "========================================================\n",
      "Model:            MixedLM Dependent Variable: Homer1_vol\n",
      "No. Observations: 17      Method:             REML      \n",
      "No. Groups:       4       Scale:              0.0231    \n",
      "Min. group size:  4       Log-Likelihood:     4.8346    \n",
      "Max. group size:  5       Converged:          Yes       \n",
      "Mean group size:  4.2                                   \n",
      "--------------------------------------------------------\n",
      "               Coef. Std.Err.   z    P>|z| [0.025 0.975]\n",
      "--------------------------------------------------------\n",
      "Intercept      0.811    0.051 15.878 0.000  0.711  0.911\n",
      "Group[T.WT]    0.170    0.074  2.294 0.022  0.025  0.315\n",
      "Group Var      0.000    0.068                           \n",
      "========================================================\n",
      "\n"
     ]
    },
    {
     "name": "stderr",
     "output_type": "stream",
     "text": [
      "/Users/margaret/miniconda3/envs/lmer/lib/python3.9/site-packages/statsmodels/regression/mixed_linear_model.py:1635: UserWarning: Random effects covariance is singular\n",
      "  warnings.warn(msg)\n",
      "/Users/margaret/miniconda3/envs/lmer/lib/python3.9/site-packages/statsmodels/regression/mixed_linear_model.py:2238: ConvergenceWarning: The MLE may be on the boundary of the parameter space.\n",
      "  warnings.warn(msg, ConvergenceWarning)\n"
     ]
    }
   ],
   "source": [
    "# Run mixed lm for Homer1 volume\n",
    "md = smf.mixedlm(\"Homer1_vol ~ Group\", data, groups=data[\"Animal\"])\n",
    "mdf = md.fit(method=[\"lbfgs\"])\n",
    "print(mdf.summary())"
   ]
  },
  {
   "cell_type": "code",
   "execution_count": 96,
   "id": "33f18339-3d3b-4f92-9760-d40599b5a19e",
   "metadata": {},
   "outputs": [
    {
     "name": "stdout",
     "output_type": "stream",
     "text": [
      "8.975889214991036e-57\n",
      "0.021800842715938577\n"
     ]
    }
   ],
   "source": [
    "for x in range (0, 2):\n",
    "    print(mdf.pvalues[x])"
   ]
  },
  {
   "cell_type": "code",
   "execution_count": 97,
   "id": "b7b6343c-d57a-44f6-a9e2-9a684a427320",
   "metadata": {},
   "outputs": [
    {
     "name": "stdout",
     "output_type": "stream",
     "text": [
      "         Mixed Linear Model Regression Results\n",
      "=======================================================\n",
      "Model:            MixedLM Dependent Variable: GluA4_vol\n",
      "No. Observations: 17      Method:             REML     \n",
      "No. Groups:       4       Scale:              0.0065   \n",
      "Min. group size:  4       Log-Likelihood:     13.6162  \n",
      "Max. group size:  5       Converged:          Yes      \n",
      "Mean group size:  4.2                                  \n",
      "-------------------------------------------------------\n",
      "             Coef.  Std.Err.   z    P>|z| [0.025 0.975]\n",
      "-------------------------------------------------------\n",
      "Intercept     0.277    0.040  6.900 0.000  0.198  0.355\n",
      "Group[T.WT]  -0.122    0.057 -2.132 0.033 -0.235 -0.010\n",
      "Group Var     0.002    0.043                           \n",
      "=======================================================\n",
      "\n"
     ]
    },
    {
     "name": "stderr",
     "output_type": "stream",
     "text": [
      "/Users/margaret/miniconda3/envs/lmer/lib/python3.9/site-packages/statsmodels/regression/mixed_linear_model.py:1635: UserWarning: Random effects covariance is singular\n",
      "  warnings.warn(msg)\n",
      "/Users/margaret/miniconda3/envs/lmer/lib/python3.9/site-packages/statsmodels/regression/mixed_linear_model.py:2238: ConvergenceWarning: The MLE may be on the boundary of the parameter space.\n",
      "  warnings.warn(msg, ConvergenceWarning)\n"
     ]
    }
   ],
   "source": [
    "# Run mixed lm for GluA4 volume\n",
    "md = smf.mixedlm(\"GluA4_vol ~ Group\", data, groups=data[\"Animal\"])\n",
    "mdf = md.fit(method=[\"lbfgs\"])\n",
    "print(mdf.summary())"
   ]
  },
  {
   "cell_type": "code",
   "execution_count": 98,
   "id": "b063485d-735b-4d59-99a4-a995ee0db6e5",
   "metadata": {},
   "outputs": [
    {
     "name": "stdout",
     "output_type": "stream",
     "text": [
      "5.203880528305055e-12\n",
      "0.03298431277497725\n"
     ]
    }
   ],
   "source": [
    "for x in range (0, 2):\n",
    "    print(mdf.pvalues[x])"
   ]
  },
  {
   "cell_type": "code",
   "execution_count": 99,
   "id": "a8eaf15e-b903-473e-839e-d4a355181421",
   "metadata": {},
   "outputs": [
    {
     "name": "stdout",
     "output_type": "stream",
     "text": [
      "         Mixed Linear Model Regression Results\n",
      "=======================================================\n",
      "Model:            MixedLM Dependent Variable: PSD95_vol\n",
      "No. Observations: 17      Method:             REML     \n",
      "No. Groups:       4       Scale:              0.0039   \n",
      "Min. group size:  4       Log-Likelihood:     16.3262  \n",
      "Max. group size:  5       Converged:          Yes      \n",
      "Mean group size:  4.2                                  \n",
      "-------------------------------------------------------\n",
      "               Coef. Std.Err.   z   P>|z| [0.025 0.975]\n",
      "-------------------------------------------------------\n",
      "Intercept      0.443    0.054 8.213 0.000  0.337  0.548\n",
      "Group[T.WT]    0.379    0.077 4.956 0.000  0.229  0.529\n",
      "Group Var      0.005    0.102                          \n",
      "=======================================================\n",
      "\n"
     ]
    },
    {
     "name": "stderr",
     "output_type": "stream",
     "text": [
      "/Users/margaret/miniconda3/envs/lmer/lib/python3.9/site-packages/statsmodels/regression/mixed_linear_model.py:2238: ConvergenceWarning: The MLE may be on the boundary of the parameter space.\n",
      "  warnings.warn(msg, ConvergenceWarning)\n"
     ]
    }
   ],
   "source": [
    "# Run mixed lm for PSD95 volume\n",
    "md = smf.mixedlm(\"PSD95_vol ~ Group\", data, groups=data[\"Animal\"])\n",
    "mdf = md.fit(method=[\"lbfgs\"])\n",
    "print(mdf.summary())"
   ]
  },
  {
   "cell_type": "code",
   "execution_count": 100,
   "id": "f5694ad1-422c-42a1-a8a2-56533bce7980",
   "metadata": {},
   "outputs": [
    {
     "name": "stdout",
     "output_type": "stream",
     "text": [
      "2.1515191723146315e-16\n",
      "7.182068179035072e-07\n"
     ]
    }
   ],
   "source": [
    "for x in range (0, 2):\n",
    "    print(mdf.pvalues[x])"
   ]
  },
  {
   "cell_type": "code",
   "execution_count": 101,
   "id": "69c8b1c4-6a00-43be-8c3d-771db83aca54",
   "metadata": {},
   "outputs": [
    {
     "name": "stdout",
     "output_type": "stream",
     "text": [
      "          Mixed Linear Model Regression Results\n",
      "=========================================================\n",
      "Model:            MixedLM Dependent Variable: Bassoon_vol\n",
      "No. Observations: 17      Method:             REML       \n",
      "No. Groups:       4       Scale:              0.0114     \n",
      "Min. group size:  4       Log-Likelihood:     9.7584     \n",
      "Max. group size:  5       Converged:          No         \n",
      "Mean group size:  4.2                                    \n",
      "---------------------------------------------------------\n",
      "                Coef. Std.Err.   z    P>|z| [0.025 0.975]\n",
      "---------------------------------------------------------\n",
      "Intercept       0.610    0.043 14.213 0.000  0.526  0.694\n",
      "Group[T.WT]     0.413    0.062  6.670 0.000  0.292  0.534\n",
      "Group Var       0.001    0.045                           \n",
      "=========================================================\n",
      "\n"
     ]
    },
    {
     "name": "stderr",
     "output_type": "stream",
     "text": [
      "/Users/margaret/miniconda3/envs/lmer/lib/python3.9/site-packages/statsmodels/regression/mixed_linear_model.py:1635: UserWarning: Random effects covariance is singular\n",
      "  warnings.warn(msg)\n",
      "/Users/margaret/miniconda3/envs/lmer/lib/python3.9/site-packages/statsmodels/base/model.py:607: ConvergenceWarning: Maximum Likelihood optimization failed to converge. Check mle_retvals\n",
      "  warnings.warn(\"Maximum Likelihood optimization failed to \"\n",
      "/Users/margaret/miniconda3/envs/lmer/lib/python3.9/site-packages/statsmodels/regression/mixed_linear_model.py:2207: ConvergenceWarning: MixedLM optimization failed, trying a different optimizer may help.\n",
      "  warnings.warn(msg, ConvergenceWarning)\n",
      "/Users/margaret/miniconda3/envs/lmer/lib/python3.9/site-packages/statsmodels/regression/mixed_linear_model.py:2219: ConvergenceWarning: Gradient optimization failed, |grad| = 0.216830\n",
      "  warnings.warn(msg, ConvergenceWarning)\n",
      "/Users/margaret/miniconda3/envs/lmer/lib/python3.9/site-packages/statsmodels/regression/mixed_linear_model.py:2238: ConvergenceWarning: The MLE may be on the boundary of the parameter space.\n",
      "  warnings.warn(msg, ConvergenceWarning)\n"
     ]
    }
   ],
   "source": [
    "# Run mixed lm for Bassoon volume\n",
    "md = smf.mixedlm(\"Bassoon_vol ~ Group\", data, groups=data[\"Animal\"])\n",
    "mdf = md.fit(method=[\"lbfgs\"])\n",
    "print(mdf.summary())"
   ]
  },
  {
   "cell_type": "code",
   "execution_count": 102,
   "id": "f9fbe42d-5eb8-443e-87a0-eacf322682a1",
   "metadata": {},
   "outputs": [
    {
     "name": "stdout",
     "output_type": "stream",
     "text": [
      "7.641889945051892e-46\n",
      "2.5552027001624342e-11\n"
     ]
    }
   ],
   "source": [
    "for x in range (0, 2):\n",
    "    print(mdf.pvalues[x])"
   ]
  },
  {
   "cell_type": "code",
   "execution_count": 103,
   "id": "d13e1f03-d020-4994-8e15-20e657b7719d",
   "metadata": {},
   "outputs": [
    {
     "name": "stdout",
     "output_type": "stream",
     "text": [
      "         Mixed Linear Model Regression Results\n",
      "========================================================\n",
      "Model:            MixedLM Dependent Variable: SynGAP_vol\n",
      "No. Observations: 17      Method:             REML      \n",
      "No. Groups:       4       Scale:              0.0083    \n",
      "Min. group size:  4       Log-Likelihood:     12.4312   \n",
      "Max. group size:  5       Converged:          Yes       \n",
      "Mean group size:  4.2                                   \n",
      "--------------------------------------------------------\n",
      "               Coef. Std.Err.   z    P>|z| [0.025 0.975]\n",
      "--------------------------------------------------------\n",
      "Intercept      0.421    0.032 13.325 0.000  0.359  0.483\n",
      "Group[T.WT]    0.391    0.046  8.529 0.000  0.301  0.480\n",
      "Group Var      0.000    0.024                           \n",
      "========================================================\n",
      "\n"
     ]
    },
    {
     "name": "stderr",
     "output_type": "stream",
     "text": [
      "/Users/margaret/miniconda3/envs/lmer/lib/python3.9/site-packages/statsmodels/regression/mixed_linear_model.py:1635: UserWarning: Random effects covariance is singular\n",
      "  warnings.warn(msg)\n",
      "/Users/margaret/miniconda3/envs/lmer/lib/python3.9/site-packages/statsmodels/regression/mixed_linear_model.py:2238: ConvergenceWarning: The MLE may be on the boundary of the parameter space.\n",
      "  warnings.warn(msg, ConvergenceWarning)\n"
     ]
    }
   ],
   "source": [
    "# Run mixed lm for SynGAP volume\n",
    "md = smf.mixedlm(\"SynGAP_vol ~ Group\", data, groups=data[\"Animal\"])\n",
    "mdf = md.fit(method=[\"lbfgs\"])\n",
    "print(mdf.summary())"
   ]
  },
  {
   "cell_type": "code",
   "execution_count": 104,
   "id": "633d795b-8596-425d-a7c0-5dfbdad0ad0a",
   "metadata": {},
   "outputs": [
    {
     "name": "stdout",
     "output_type": "stream",
     "text": [
      "1.6674209810353732e-40\n",
      "1.4710954940054725e-17\n"
     ]
    }
   ],
   "source": [
    "for x in range (0, 2):\n",
    "    print(mdf.pvalues[x])"
   ]
  },
  {
   "cell_type": "code",
   "execution_count": 105,
   "id": "a541a4d1-332a-447e-80ba-456fcb301975",
   "metadata": {},
   "outputs": [
    {
     "name": "stdout",
     "output_type": "stream",
     "text": [
      "         Mixed Linear Model Regression Results\n",
      "========================================================\n",
      "Model:            MixedLM Dependent Variable: IRsp53_vol\n",
      "No. Observations: 17      Method:             REML      \n",
      "No. Groups:       4       Scale:              0.0186    \n",
      "Min. group size:  4       Log-Likelihood:     6.4447    \n",
      "Max. group size:  5       Converged:          Yes       \n",
      "Mean group size:  4.2                                   \n",
      "--------------------------------------------------------\n",
      "               Coef. Std.Err.   z    P>|z| [0.025 0.975]\n",
      "--------------------------------------------------------\n",
      "Intercept      0.542    0.045 11.919 0.000  0.453  0.631\n",
      "Group[T.WT]    0.211    0.066  3.183 0.001  0.081  0.341\n",
      "Group Var      0.000                                    \n",
      "========================================================\n",
      "\n"
     ]
    },
    {
     "name": "stderr",
     "output_type": "stream",
     "text": [
      "/Users/margaret/miniconda3/envs/lmer/lib/python3.9/site-packages/statsmodels/regression/mixed_linear_model.py:1635: UserWarning: Random effects covariance is singular\n",
      "  warnings.warn(msg)\n",
      "/Users/margaret/miniconda3/envs/lmer/lib/python3.9/site-packages/statsmodels/regression/mixed_linear_model.py:2238: ConvergenceWarning: The MLE may be on the boundary of the parameter space.\n",
      "  warnings.warn(msg, ConvergenceWarning)\n",
      "/Users/margaret/miniconda3/envs/lmer/lib/python3.9/site-packages/statsmodels/regression/mixed_linear_model.py:2262: ConvergenceWarning: The Hessian matrix at the estimated parameter values is not positive definite.\n",
      "  warnings.warn(msg, ConvergenceWarning)\n"
     ]
    }
   ],
   "source": [
    "# Run mixed lm for IRsp53 volume\n",
    "md = smf.mixedlm(\"IRsp53_vol ~ Group\", data, groups=data[\"Animal\"])\n",
    "mdf = md.fit(method=[\"lbfgs\"])\n",
    "print(mdf.summary())"
   ]
  },
  {
   "cell_type": "code",
   "execution_count": 106,
   "id": "645e858b-c3f3-4dbd-8bc8-fb772cb04828",
   "metadata": {},
   "outputs": [
    {
     "name": "stdout",
     "output_type": "stream",
     "text": [
      "9.438356714657923e-33\n",
      "0.0014570906176644852\n"
     ]
    }
   ],
   "source": [
    "for x in range (0, 2):\n",
    "    print(mdf.pvalues[x])"
   ]
  },
  {
   "cell_type": "code",
   "execution_count": null,
   "id": "a3236a93-715a-4deb-9d86-729151a0ed51",
   "metadata": {},
   "outputs": [],
   "source": []
  }
 ],
 "metadata": {
  "kernelspec": {
   "display_name": "Python 3 (ipykernel)",
   "language": "python",
   "name": "python3"
  },
  "language_info": {
   "codemirror_mode": {
    "name": "ipython",
    "version": 3
   },
   "file_extension": ".py",
   "mimetype": "text/x-python",
   "name": "python",
   "nbconvert_exporter": "python",
   "pygments_lexer": "ipython3",
   "version": "3.9.16"
  }
 },
 "nbformat": 4,
 "nbformat_minor": 5
}
