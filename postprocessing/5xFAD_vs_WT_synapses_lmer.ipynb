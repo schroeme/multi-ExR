{
 "cells": [
  {
   "cell_type": "markdown",
   "id": "ae51f4d8-8d2f-4064-9454-296e2e7dbe23",
   "metadata": {},
   "source": [
    "# Script for using linear mixed effects model to quantify differences in synaptic proteins in 5xFAD vs. WT"
   ]
  },
  {
   "cell_type": "code",
   "execution_count": 1,
   "id": "5133af25-d5b8-4f5b-a9f4-f350b76c01c3",
   "metadata": {},
   "outputs": [],
   "source": [
    "#most of the code is taken/adapted from this tutorial: https://towardsdatascience.com/how-to-run-linear-mixed-effects-models-in-python-jupyter-notebooks-4f8079c4b589"
   ]
  },
  {
   "cell_type": "code",
   "execution_count": 13,
   "id": "96d487f2-4e84-4cf1-9359-52f05c5b12c4",
   "metadata": {},
   "outputs": [],
   "source": [
    "# Load packages\n",
    "import numpy as np\n",
    "import pandas as pd\n",
    "import statsmodels.api as sm\n",
    "import statsmodels.formula.api as smf\n",
    "import os"
   ]
  },
  {
   "cell_type": "code",
   "execution_count": 14,
   "id": "b92669cb-039f-484f-a542-f8662fb16130",
   "metadata": {},
   "outputs": [],
   "source": [
    "parentdir = '/Users/margaret/Dropbox (MIT)/mExR_analysis/SmallData/2023.05_5xFAD/'"
   ]
  },
  {
   "cell_type": "code",
   "execution_count": 15,
   "id": "a23a938b-fcbc-4997-9e32-61985617ccb2",
   "metadata": {},
   "outputs": [
    {
     "data": {
      "text/plain": [
       "['mExR_5xFAD_2023.05_reg-error_thresh99.pzfx',\n",
       " '.DS_Store',\n",
       " 'archive',\n",
       " 'mExR_5xFAD_abeta_cropped_alignment_notes.xlsx',\n",
       " '5xFAD_2023.05_synaptic_proteins.pzfx',\n",
       " 'mExR_5xFAD_2023.05_reg-error.pzfx',\n",
       " 'GluA2-4_exampes',\n",
       " 'mExR_5xFAD_abeta_cropped_redo.xlsx',\n",
       " 'mExR_5xFAD_abeta_cropped_GluA_D54D2_overlap.xlsx',\n",
       " '5xFAD_2023.05_synapses_WT_vs_5xFAD_RE.pzfx',\n",
       " '~$mExR_2023.05_5xFAD_notes.xlsx',\n",
       " 'mExR_2023.05_5xFAD_notes.xlsx',\n",
       " '5xFAD_2023.05_abeta_WT_vs_5xFAD_RE.pzfx',\n",
       " '5xFAD_2023.05_abeta_analysis_updated.pzfx',\n",
       " '5xFAD_vs_WT_n=2_Abeta.csv',\n",
       " 'mExR_5xFAD_abeta_cropped_GluA_D54D2_overlap.prism',\n",
       " '5xFAD_vs_WT_n=2_synapses.csv',\n",
       " '5xFAD_2022.05_camkiia.pzfx']"
      ]
     },
     "execution_count": 15,
     "metadata": {},
     "output_type": "execute_result"
    }
   ],
   "source": [
    "os.listdir(parentdir)"
   ]
  },
  {
   "cell_type": "code",
   "execution_count": 16,
   "id": "3da7cca3-5d7b-46d0-83da-945dc0fc34d3",
   "metadata": {},
   "outputs": [],
   "source": [
    "data = pd.read_csv(parentdir + '5xFAD_vs_WT_n=2_synapses.csv')"
   ]
  },
  {
   "cell_type": "code",
   "execution_count": 17,
   "id": "619d388f-dac0-4e0b-8a7d-86a4f00736a9",
   "metadata": {},
   "outputs": [
    {
     "data": {
      "text/html": [
       "<div>\n",
       "<style scoped>\n",
       "    .dataframe tbody tr th:only-of-type {\n",
       "        vertical-align: middle;\n",
       "    }\n",
       "\n",
       "    .dataframe tbody tr th {\n",
       "        vertical-align: top;\n",
       "    }\n",
       "\n",
       "    .dataframe thead th {\n",
       "        text-align: right;\n",
       "    }\n",
       "</style>\n",
       "<table border=\"1\" class=\"dataframe\">\n",
       "  <thead>\n",
       "    <tr style=\"text-align: right;\">\n",
       "      <th></th>\n",
       "      <th>Animal</th>\n",
       "      <th>ROI</th>\n",
       "      <th>Group</th>\n",
       "      <th>RIM1_vol</th>\n",
       "      <th>GluA3_vol</th>\n",
       "      <th>NR2B_vol</th>\n",
       "      <th>RIMBP_vol</th>\n",
       "      <th>GluA2_vol</th>\n",
       "      <th>GluA1_vol</th>\n",
       "      <th>NR1_vol</th>\n",
       "      <th>...</th>\n",
       "      <th>Homer1_vol</th>\n",
       "      <th>CaMKIIa_vol</th>\n",
       "      <th>Cav21_vol</th>\n",
       "      <th>GluA4_vol</th>\n",
       "      <th>PSD95_vol</th>\n",
       "      <th>Bassoon_vol</th>\n",
       "      <th>SynGAP_vol</th>\n",
       "      <th>IRsp53_vol</th>\n",
       "      <th>Stargazin_vol</th>\n",
       "      <th>Gephyrin_vol</th>\n",
       "    </tr>\n",
       "  </thead>\n",
       "  <tbody>\n",
       "    <tr>\n",
       "      <th>0</th>\n",
       "      <td>5xFAD-2</td>\n",
       "      <td>ROI1</td>\n",
       "      <td>5xFAD</td>\n",
       "      <td>0.938896</td>\n",
       "      <td>0.227001</td>\n",
       "      <td>0.314918</td>\n",
       "      <td>0.696536</td>\n",
       "      <td>0.020491</td>\n",
       "      <td>0.305992</td>\n",
       "      <td>0.215331</td>\n",
       "      <td>...</td>\n",
       "      <td>0.876157</td>\n",
       "      <td>0.659500</td>\n",
       "      <td>0.534577</td>\n",
       "      <td>0.170144</td>\n",
       "      <td>0.437942</td>\n",
       "      <td>0.564158</td>\n",
       "      <td>0.365504</td>\n",
       "      <td>0.575166</td>\n",
       "      <td>0.366711</td>\n",
       "      <td>0.869217</td>\n",
       "    </tr>\n",
       "    <tr>\n",
       "      <th>1</th>\n",
       "      <td>5xFAD-2</td>\n",
       "      <td>ROI2</td>\n",
       "      <td>5xFAD</td>\n",
       "      <td>0.573805</td>\n",
       "      <td>0.193276</td>\n",
       "      <td>0.309231</td>\n",
       "      <td>0.411947</td>\n",
       "      <td>0.029948</td>\n",
       "      <td>0.213170</td>\n",
       "      <td>0.278290</td>\n",
       "      <td>...</td>\n",
       "      <td>0.639226</td>\n",
       "      <td>0.865067</td>\n",
       "      <td>0.428263</td>\n",
       "      <td>0.192076</td>\n",
       "      <td>0.414386</td>\n",
       "      <td>0.599792</td>\n",
       "      <td>0.362288</td>\n",
       "      <td>0.484414</td>\n",
       "      <td>0.399785</td>\n",
       "      <td>0.523541</td>\n",
       "    </tr>\n",
       "    <tr>\n",
       "      <th>2</th>\n",
       "      <td>5xFAD-2</td>\n",
       "      <td>ROI3</td>\n",
       "      <td>5xFAD</td>\n",
       "      <td>0.531297</td>\n",
       "      <td>0.144672</td>\n",
       "      <td>0.263887</td>\n",
       "      <td>0.277938</td>\n",
       "      <td>0.037411</td>\n",
       "      <td>0.143327</td>\n",
       "      <td>0.241540</td>\n",
       "      <td>...</td>\n",
       "      <td>0.449657</td>\n",
       "      <td>0.473105</td>\n",
       "      <td>0.379499</td>\n",
       "      <td>0.120493</td>\n",
       "      <td>0.322416</td>\n",
       "      <td>0.487506</td>\n",
       "      <td>0.291664</td>\n",
       "      <td>0.318763</td>\n",
       "      <td>0.281396</td>\n",
       "      <td>0.350383</td>\n",
       "    </tr>\n",
       "    <tr>\n",
       "      <th>3</th>\n",
       "      <td>5xFAD-2</td>\n",
       "      <td>ROI4</td>\n",
       "      <td>5xFAD</td>\n",
       "      <td>0.845706</td>\n",
       "      <td>0.269360</td>\n",
       "      <td>0.371717</td>\n",
       "      <td>0.618672</td>\n",
       "      <td>0.035441</td>\n",
       "      <td>0.265418</td>\n",
       "      <td>0.378900</td>\n",
       "      <td>...</td>\n",
       "      <td>0.928836</td>\n",
       "      <td>0.818258</td>\n",
       "      <td>0.261930</td>\n",
       "      <td>0.241074</td>\n",
       "      <td>0.493318</td>\n",
       "      <td>0.366737</td>\n",
       "      <td>0.439608</td>\n",
       "      <td>0.305346</td>\n",
       "      <td>0.375391</td>\n",
       "      <td>0.437882</td>\n",
       "    </tr>\n",
       "    <tr>\n",
       "      <th>4</th>\n",
       "      <td>5xFAD-2</td>\n",
       "      <td>ROI5</td>\n",
       "      <td>5xFAD</td>\n",
       "      <td>0.679657</td>\n",
       "      <td>0.198655</td>\n",
       "      <td>0.336618</td>\n",
       "      <td>0.545993</td>\n",
       "      <td>0.030754</td>\n",
       "      <td>0.284673</td>\n",
       "      <td>0.368149</td>\n",
       "      <td>...</td>\n",
       "      <td>0.634996</td>\n",
       "      <td>0.731348</td>\n",
       "      <td>0.479663</td>\n",
       "      <td>0.260479</td>\n",
       "      <td>0.384260</td>\n",
       "      <td>0.592225</td>\n",
       "      <td>0.403524</td>\n",
       "      <td>0.486712</td>\n",
       "      <td>0.383371</td>\n",
       "      <td>0.505465</td>\n",
       "    </tr>\n",
       "    <tr>\n",
       "      <th>5</th>\n",
       "      <td>5xFAD-3</td>\n",
       "      <td>ROI1</td>\n",
       "      <td>5xFAD</td>\n",
       "      <td>0.456255</td>\n",
       "      <td>0.274162</td>\n",
       "      <td>0.468582</td>\n",
       "      <td>0.589357</td>\n",
       "      <td>0.082553</td>\n",
       "      <td>0.248976</td>\n",
       "      <td>0.387343</td>\n",
       "      <td>...</td>\n",
       "      <td>0.850618</td>\n",
       "      <td>1.031245</td>\n",
       "      <td>0.684042</td>\n",
       "      <td>0.171939</td>\n",
       "      <td>0.590971</td>\n",
       "      <td>0.763008</td>\n",
       "      <td>0.580909</td>\n",
       "      <td>0.607314</td>\n",
       "      <td>0.495880</td>\n",
       "      <td>0.619017</td>\n",
       "    </tr>\n",
       "    <tr>\n",
       "      <th>6</th>\n",
       "      <td>5xFAD-3</td>\n",
       "      <td>ROI2</td>\n",
       "      <td>5xFAD</td>\n",
       "      <td>0.616335</td>\n",
       "      <td>0.200347</td>\n",
       "      <td>0.363775</td>\n",
       "      <td>0.468573</td>\n",
       "      <td>0.022228</td>\n",
       "      <td>0.218049</td>\n",
       "      <td>0.335157</td>\n",
       "      <td>...</td>\n",
       "      <td>0.711861</td>\n",
       "      <td>0.703539</td>\n",
       "      <td>0.503623</td>\n",
       "      <td>0.113434</td>\n",
       "      <td>0.457837</td>\n",
       "      <td>0.534148</td>\n",
       "      <td>0.453300</td>\n",
       "      <td>0.467964</td>\n",
       "      <td>0.354695</td>\n",
       "      <td>0.494030</td>\n",
       "    </tr>\n",
       "    <tr>\n",
       "      <th>7</th>\n",
       "      <td>5xFAD-3</td>\n",
       "      <td>ROI3</td>\n",
       "      <td>5xFAD</td>\n",
       "      <td>0.747663</td>\n",
       "      <td>0.221463</td>\n",
       "      <td>0.302661</td>\n",
       "      <td>0.344161</td>\n",
       "      <td>0.011492</td>\n",
       "      <td>0.211818</td>\n",
       "      <td>0.304672</td>\n",
       "      <td>...</td>\n",
       "      <td>0.611544</td>\n",
       "      <td>0.527297</td>\n",
       "      <td>0.392699</td>\n",
       "      <td>0.079714</td>\n",
       "      <td>0.418083</td>\n",
       "      <td>0.499670</td>\n",
       "      <td>0.337940</td>\n",
       "      <td>0.223542</td>\n",
       "      <td>0.262439</td>\n",
       "      <td>0.155753</td>\n",
       "    </tr>\n",
       "    <tr>\n",
       "      <th>8</th>\n",
       "      <td>5xFAD-3</td>\n",
       "      <td>ROI4</td>\n",
       "      <td>5xFAD</td>\n",
       "      <td>0.440120</td>\n",
       "      <td>0.318054</td>\n",
       "      <td>0.300684</td>\n",
       "      <td>0.417018</td>\n",
       "      <td>0.005679</td>\n",
       "      <td>0.172367</td>\n",
       "      <td>0.289781</td>\n",
       "      <td>...</td>\n",
       "      <td>0.493162</td>\n",
       "      <td>0.611746</td>\n",
       "      <td>0.396728</td>\n",
       "      <td>0.136898</td>\n",
       "      <td>0.322328</td>\n",
       "      <td>0.449585</td>\n",
       "      <td>0.321046</td>\n",
       "      <td>0.350647</td>\n",
       "      <td>0.360919</td>\n",
       "      <td>0.508065</td>\n",
       "    </tr>\n",
       "    <tr>\n",
       "      <th>9</th>\n",
       "      <td>WT-2</td>\n",
       "      <td>ROI1</td>\n",
       "      <td>WT</td>\n",
       "      <td>0.686920</td>\n",
       "      <td>0.352389</td>\n",
       "      <td>0.607918</td>\n",
       "      <td>0.864268</td>\n",
       "      <td>0.000711</td>\n",
       "      <td>0.387214</td>\n",
       "      <td>0.508621</td>\n",
       "      <td>...</td>\n",
       "      <td>0.902969</td>\n",
       "      <td>0.971467</td>\n",
       "      <td>0.601622</td>\n",
       "      <td>0.158117</td>\n",
       "      <td>0.803337</td>\n",
       "      <td>0.891682</td>\n",
       "      <td>0.774048</td>\n",
       "      <td>0.593516</td>\n",
       "      <td>0.591094</td>\n",
       "      <td>0.362080</td>\n",
       "    </tr>\n",
       "    <tr>\n",
       "      <th>10</th>\n",
       "      <td>WT-2</td>\n",
       "      <td>ROI2</td>\n",
       "      <td>WT</td>\n",
       "      <td>0.209733</td>\n",
       "      <td>0.307222</td>\n",
       "      <td>0.501074</td>\n",
       "      <td>0.686498</td>\n",
       "      <td>0.000458</td>\n",
       "      <td>0.329259</td>\n",
       "      <td>0.388052</td>\n",
       "      <td>...</td>\n",
       "      <td>0.785804</td>\n",
       "      <td>0.646919</td>\n",
       "      <td>0.496393</td>\n",
       "      <td>0.096736</td>\n",
       "      <td>0.808888</td>\n",
       "      <td>0.781091</td>\n",
       "      <td>0.670701</td>\n",
       "      <td>0.557248</td>\n",
       "      <td>0.528552</td>\n",
       "      <td>0.558663</td>\n",
       "    </tr>\n",
       "    <tr>\n",
       "      <th>11</th>\n",
       "      <td>WT-2</td>\n",
       "      <td>ROI3</td>\n",
       "      <td>WT</td>\n",
       "      <td>0.852574</td>\n",
       "      <td>0.374802</td>\n",
       "      <td>0.562501</td>\n",
       "      <td>0.787979</td>\n",
       "      <td>0.002337</td>\n",
       "      <td>0.380894</td>\n",
       "      <td>0.396800</td>\n",
       "      <td>...</td>\n",
       "      <td>0.900270</td>\n",
       "      <td>0.669273</td>\n",
       "      <td>0.559462</td>\n",
       "      <td>0.089784</td>\n",
       "      <td>0.894413</td>\n",
       "      <td>0.975686</td>\n",
       "      <td>0.792130</td>\n",
       "      <td>0.557378</td>\n",
       "      <td>0.506993</td>\n",
       "      <td>0.391843</td>\n",
       "    </tr>\n",
       "    <tr>\n",
       "      <th>12</th>\n",
       "      <td>WT-2</td>\n",
       "      <td>ROI4</td>\n",
       "      <td>WT</td>\n",
       "      <td>0.689608</td>\n",
       "      <td>0.338622</td>\n",
       "      <td>0.437073</td>\n",
       "      <td>0.735766</td>\n",
       "      <td>0.001455</td>\n",
       "      <td>0.400539</td>\n",
       "      <td>0.466657</td>\n",
       "      <td>...</td>\n",
       "      <td>0.898593</td>\n",
       "      <td>0.706573</td>\n",
       "      <td>0.648141</td>\n",
       "      <td>0.110156</td>\n",
       "      <td>0.859717</td>\n",
       "      <td>0.954629</td>\n",
       "      <td>0.831254</td>\n",
       "      <td>0.438597</td>\n",
       "      <td>0.498327</td>\n",
       "      <td>0.306870</td>\n",
       "    </tr>\n",
       "    <tr>\n",
       "      <th>13</th>\n",
       "      <td>WT-3</td>\n",
       "      <td>ROI1</td>\n",
       "      <td>WT</td>\n",
       "      <td>1.038868</td>\n",
       "      <td>0.331005</td>\n",
       "      <td>0.449478</td>\n",
       "      <td>0.530475</td>\n",
       "      <td>0.002429</td>\n",
       "      <td>0.296061</td>\n",
       "      <td>0.381588</td>\n",
       "      <td>...</td>\n",
       "      <td>0.647308</td>\n",
       "      <td>0.486060</td>\n",
       "      <td>0.616416</td>\n",
       "      <td>0.071048</td>\n",
       "      <td>0.590075</td>\n",
       "      <td>0.695656</td>\n",
       "      <td>0.556276</td>\n",
       "      <td>0.385210</td>\n",
       "      <td>0.341609</td>\n",
       "      <td>0.262114</td>\n",
       "    </tr>\n",
       "    <tr>\n",
       "      <th>14</th>\n",
       "      <td>WT-3</td>\n",
       "      <td>ROI2</td>\n",
       "      <td>WT</td>\n",
       "      <td>1.101459</td>\n",
       "      <td>0.439940</td>\n",
       "      <td>0.510175</td>\n",
       "      <td>0.642293</td>\n",
       "      <td>0.002412</td>\n",
       "      <td>0.332456</td>\n",
       "      <td>0.514304</td>\n",
       "      <td>...</td>\n",
       "      <td>0.825722</td>\n",
       "      <td>0.771541</td>\n",
       "      <td>0.710377</td>\n",
       "      <td>0.100135</td>\n",
       "      <td>0.671843</td>\n",
       "      <td>0.772135</td>\n",
       "      <td>0.774369</td>\n",
       "      <td>0.589119</td>\n",
       "      <td>0.332055</td>\n",
       "      <td>0.275917</td>\n",
       "    </tr>\n",
       "    <tr>\n",
       "      <th>15</th>\n",
       "      <td>WT-3</td>\n",
       "      <td>ROI3</td>\n",
       "      <td>WT</td>\n",
       "      <td>1.273956</td>\n",
       "      <td>0.348546</td>\n",
       "      <td>0.446714</td>\n",
       "      <td>0.643647</td>\n",
       "      <td>0.004810</td>\n",
       "      <td>0.365511</td>\n",
       "      <td>0.471601</td>\n",
       "      <td>...</td>\n",
       "      <td>0.753017</td>\n",
       "      <td>0.469295</td>\n",
       "      <td>0.618678</td>\n",
       "      <td>0.130829</td>\n",
       "      <td>0.650800</td>\n",
       "      <td>0.828545</td>\n",
       "      <td>0.666194</td>\n",
       "      <td>0.534433</td>\n",
       "      <td>0.423094</td>\n",
       "      <td>0.273920</td>\n",
       "    </tr>\n",
       "    <tr>\n",
       "      <th>16</th>\n",
       "      <td>WT-3</td>\n",
       "      <td>ROI4</td>\n",
       "      <td>WT</td>\n",
       "      <td>0.975828</td>\n",
       "      <td>0.294790</td>\n",
       "      <td>0.474970</td>\n",
       "      <td>0.571197</td>\n",
       "      <td>0.000749</td>\n",
       "      <td>0.353206</td>\n",
       "      <td>0.495273</td>\n",
       "      <td>...</td>\n",
       "      <td>0.789062</td>\n",
       "      <td>0.529817</td>\n",
       "      <td>0.606449</td>\n",
       "      <td>0.122433</td>\n",
       "      <td>0.716938</td>\n",
       "      <td>0.874878</td>\n",
       "      <td>0.781106</td>\n",
       "      <td>0.516104</td>\n",
       "      <td>0.461755</td>\n",
       "      <td>0.280800</td>\n",
       "    </tr>\n",
       "  </tbody>\n",
       "</table>\n",
       "<p>17 rows × 21 columns</p>\n",
       "</div>"
      ],
      "text/plain": [
       "     Animal   ROI  Group  RIM1_vol  GluA3_vol  NR2B_vol  RIMBP_vol  GluA2_vol   \n",
       "0   5xFAD-2  ROI1  5xFAD  0.938896   0.227001  0.314918   0.696536   0.020491  \\\n",
       "1   5xFAD-2  ROI2  5xFAD  0.573805   0.193276  0.309231   0.411947   0.029948   \n",
       "2   5xFAD-2  ROI3  5xFAD  0.531297   0.144672  0.263887   0.277938   0.037411   \n",
       "3   5xFAD-2  ROI4  5xFAD  0.845706   0.269360  0.371717   0.618672   0.035441   \n",
       "4   5xFAD-2  ROI5  5xFAD  0.679657   0.198655  0.336618   0.545993   0.030754   \n",
       "5   5xFAD-3  ROI1  5xFAD  0.456255   0.274162  0.468582   0.589357   0.082553   \n",
       "6   5xFAD-3  ROI2  5xFAD  0.616335   0.200347  0.363775   0.468573   0.022228   \n",
       "7   5xFAD-3  ROI3  5xFAD  0.747663   0.221463  0.302661   0.344161   0.011492   \n",
       "8   5xFAD-3  ROI4  5xFAD  0.440120   0.318054  0.300684   0.417018   0.005679   \n",
       "9      WT-2  ROI1     WT  0.686920   0.352389  0.607918   0.864268   0.000711   \n",
       "10     WT-2  ROI2     WT  0.209733   0.307222  0.501074   0.686498   0.000458   \n",
       "11     WT-2  ROI3     WT  0.852574   0.374802  0.562501   0.787979   0.002337   \n",
       "12     WT-2  ROI4     WT  0.689608   0.338622  0.437073   0.735766   0.001455   \n",
       "13     WT-3  ROI1     WT  1.038868   0.331005  0.449478   0.530475   0.002429   \n",
       "14     WT-3  ROI2     WT  1.101459   0.439940  0.510175   0.642293   0.002412   \n",
       "15     WT-3  ROI3     WT  1.273956   0.348546  0.446714   0.643647   0.004810   \n",
       "16     WT-3  ROI4     WT  0.975828   0.294790  0.474970   0.571197   0.000749   \n",
       "\n",
       "    GluA1_vol   NR1_vol  ...  Homer1_vol  CaMKIIa_vol  Cav21_vol  GluA4_vol   \n",
       "0    0.305992  0.215331  ...    0.876157     0.659500   0.534577   0.170144  \\\n",
       "1    0.213170  0.278290  ...    0.639226     0.865067   0.428263   0.192076   \n",
       "2    0.143327  0.241540  ...    0.449657     0.473105   0.379499   0.120493   \n",
       "3    0.265418  0.378900  ...    0.928836     0.818258   0.261930   0.241074   \n",
       "4    0.284673  0.368149  ...    0.634996     0.731348   0.479663   0.260479   \n",
       "5    0.248976  0.387343  ...    0.850618     1.031245   0.684042   0.171939   \n",
       "6    0.218049  0.335157  ...    0.711861     0.703539   0.503623   0.113434   \n",
       "7    0.211818  0.304672  ...    0.611544     0.527297   0.392699   0.079714   \n",
       "8    0.172367  0.289781  ...    0.493162     0.611746   0.396728   0.136898   \n",
       "9    0.387214  0.508621  ...    0.902969     0.971467   0.601622   0.158117   \n",
       "10   0.329259  0.388052  ...    0.785804     0.646919   0.496393   0.096736   \n",
       "11   0.380894  0.396800  ...    0.900270     0.669273   0.559462   0.089784   \n",
       "12   0.400539  0.466657  ...    0.898593     0.706573   0.648141   0.110156   \n",
       "13   0.296061  0.381588  ...    0.647308     0.486060   0.616416   0.071048   \n",
       "14   0.332456  0.514304  ...    0.825722     0.771541   0.710377   0.100135   \n",
       "15   0.365511  0.471601  ...    0.753017     0.469295   0.618678   0.130829   \n",
       "16   0.353206  0.495273  ...    0.789062     0.529817   0.606449   0.122433   \n",
       "\n",
       "    PSD95_vol  Bassoon_vol  SynGAP_vol  IRsp53_vol  Stargazin_vol   \n",
       "0    0.437942     0.564158    0.365504    0.575166       0.366711  \\\n",
       "1    0.414386     0.599792    0.362288    0.484414       0.399785   \n",
       "2    0.322416     0.487506    0.291664    0.318763       0.281396   \n",
       "3    0.493318     0.366737    0.439608    0.305346       0.375391   \n",
       "4    0.384260     0.592225    0.403524    0.486712       0.383371   \n",
       "5    0.590971     0.763008    0.580909    0.607314       0.495880   \n",
       "6    0.457837     0.534148    0.453300    0.467964       0.354695   \n",
       "7    0.418083     0.499670    0.337940    0.223542       0.262439   \n",
       "8    0.322328     0.449585    0.321046    0.350647       0.360919   \n",
       "9    0.803337     0.891682    0.774048    0.593516       0.591094   \n",
       "10   0.808888     0.781091    0.670701    0.557248       0.528552   \n",
       "11   0.894413     0.975686    0.792130    0.557378       0.506993   \n",
       "12   0.859717     0.954629    0.831254    0.438597       0.498327   \n",
       "13   0.590075     0.695656    0.556276    0.385210       0.341609   \n",
       "14   0.671843     0.772135    0.774369    0.589119       0.332055   \n",
       "15   0.650800     0.828545    0.666194    0.534433       0.423094   \n",
       "16   0.716938     0.874878    0.781106    0.516104       0.461755   \n",
       "\n",
       "    Gephyrin_vol  \n",
       "0       0.869217  \n",
       "1       0.523541  \n",
       "2       0.350383  \n",
       "3       0.437882  \n",
       "4       0.505465  \n",
       "5       0.619017  \n",
       "6       0.494030  \n",
       "7       0.155753  \n",
       "8       0.508065  \n",
       "9       0.362080  \n",
       "10      0.558663  \n",
       "11      0.391843  \n",
       "12      0.306870  \n",
       "13      0.262114  \n",
       "14      0.275917  \n",
       "15      0.273920  \n",
       "16      0.280800  \n",
       "\n",
       "[17 rows x 21 columns]"
      ]
     },
     "execution_count": 17,
     "metadata": {},
     "output_type": "execute_result"
    }
   ],
   "source": [
    "data"
   ]
  },
  {
   "cell_type": "code",
   "execution_count": 18,
   "id": "43e300b9-869e-4f6e-b1ec-a486592d4d1c",
   "metadata": {},
   "outputs": [
    {
     "data": {
      "text/plain": [
       "['Animal',\n",
       " 'ROI',\n",
       " 'Group',\n",
       " 'RIM1_vol',\n",
       " 'GluA3_vol',\n",
       " 'NR2B_vol',\n",
       " 'RIMBP_vol',\n",
       " 'GluA2_vol',\n",
       " 'GluA1_vol',\n",
       " 'NR1_vol',\n",
       " 'Shank3_vol',\n",
       " 'Homer1_vol',\n",
       " 'CaMKIIa_vol',\n",
       " 'Cav21_vol',\n",
       " 'GluA4_vol',\n",
       " 'PSD95_vol',\n",
       " 'Bassoon_vol',\n",
       " 'SynGAP_vol',\n",
       " 'IRsp53_vol',\n",
       " 'Stargazin_vol',\n",
       " 'Gephyrin_vol']"
      ]
     },
     "execution_count": 18,
     "metadata": {},
     "output_type": "execute_result"
    }
   ],
   "source": [
    "list(data)"
   ]
  },
  {
   "cell_type": "code",
   "execution_count": 19,
   "id": "08ab8a35-9122-4de4-95cc-1b0dd2deccb2",
   "metadata": {},
   "outputs": [
    {
     "name": "stdout",
     "output_type": "stream",
     "text": [
      "        Mixed Linear Model Regression Results\n",
      "======================================================\n",
      "Model:            MixedLM Dependent Variable: RIM1_vol\n",
      "No. Observations: 17      Method:             REML    \n",
      "No. Groups:       4       Scale:              0.0359  \n",
      "Min. group size:  4       Log-Likelihood:     -0.4910 \n",
      "Max. group size:  5       Converged:          Yes     \n",
      "Mean group size:  4.2                                 \n",
      "------------------------------------------------------\n",
      "              Coef. Std.Err.   z   P>|z| [0.025 0.975]\n",
      "------------------------------------------------------\n",
      "Intercept     0.641    0.179 3.586 0.000  0.290  0.991\n",
      "Group[T.WT]   0.213    0.254 0.841 0.401 -0.284  0.710\n",
      "Group Var     0.056    0.367                          \n",
      "======================================================\n",
      "\n"
     ]
    }
   ],
   "source": [
    "# Run mixed lm for RIM1 volume\n",
    "md = smf.mixedlm(\"RIM1_vol ~ Group\", data, groups=data[\"Animal\"])\n",
    "mdf = md.fit(method=[\"lbfgs\"])\n",
    "print(mdf.summary())"
   ]
  },
  {
   "cell_type": "code",
   "execution_count": 20,
   "id": "3820b878-def9-4ba8-baca-8da3a0cbae49",
   "metadata": {},
   "outputs": [
    {
     "name": "stdout",
     "output_type": "stream",
     "text": [
      "         Mixed Linear Model Regression Results\n",
      "=======================================================\n",
      "Model:            MixedLM Dependent Variable: GluA3_vol\n",
      "No. Observations: 17      Method:             REML     \n",
      "No. Groups:       4       Scale:              0.0023   \n",
      "Min. group size:  4       Log-Likelihood:     21.8627  \n",
      "Max. group size:  5       Converged:          Yes      \n",
      "Mean group size:  4.2                                  \n",
      "-------------------------------------------------------\n",
      "              Coef. Std.Err.   z    P>|z| [0.025 0.975]\n",
      "-------------------------------------------------------\n",
      "Intercept     0.228    0.017 13.090 0.000  0.194  0.262\n",
      "Group[T.WT]   0.121    0.025  4.801 0.000  0.071  0.170\n",
      "Group Var     0.000    0.013                           \n",
      "=======================================================\n",
      "\n"
     ]
    },
    {
     "name": "stderr",
     "output_type": "stream",
     "text": [
      "/Users/margaret/miniconda3/envs/lmer/lib/python3.9/site-packages/statsmodels/regression/mixed_linear_model.py:1635: UserWarning: Random effects covariance is singular\n",
      "  warnings.warn(msg)\n",
      "/Users/margaret/miniconda3/envs/lmer/lib/python3.9/site-packages/statsmodels/regression/mixed_linear_model.py:2238: ConvergenceWarning: The MLE may be on the boundary of the parameter space.\n",
      "  warnings.warn(msg, ConvergenceWarning)\n"
     ]
    }
   ],
   "source": [
    "# Run mixed lm for GluA3 volume\n",
    "md = smf.mixedlm(\"GluA3_vol ~ Group\", data, groups=data[\"Animal\"])\n",
    "mdf = md.fit(method=[\"lbfgs\"])\n",
    "print(mdf.summary())"
   ]
  },
  {
   "cell_type": "code",
   "execution_count": 21,
   "id": "defecaf0-2056-4786-aadb-2b5dd811b507",
   "metadata": {},
   "outputs": [
    {
     "name": "stdout",
     "output_type": "stream",
     "text": [
      "3.760299701479289e-39\n",
      "1.576313442129688e-06\n"
     ]
    }
   ],
   "source": [
    "for x in range (0, 2):\n",
    "    print(mdf.pvalues[x])"
   ]
  },
  {
   "cell_type": "code",
   "execution_count": 22,
   "id": "08e34dfc-399d-401c-a02e-dafc848e6d0e",
   "metadata": {},
   "outputs": [
    {
     "name": "stdout",
     "output_type": "stream",
     "text": [
      "        Mixed Linear Model Regression Results\n",
      "======================================================\n",
      "Model:            MixedLM Dependent Variable: NR2B_vol\n",
      "No. Observations: 17      Method:             REML    \n",
      "No. Groups:       4       Scale:              0.0034  \n",
      "Min. group size:  4       Log-Likelihood:     18.8494 \n",
      "Max. group size:  5       Converged:          Yes     \n",
      "Mean group size:  4.2                                 \n",
      "------------------------------------------------------\n",
      "             Coef. Std.Err.   z    P>|z| [0.025 0.975]\n",
      "------------------------------------------------------\n",
      "Intercept    0.338    0.024 14.204 0.000  0.291  0.384\n",
      "Group[T.WT]  0.161    0.034  4.705 0.000  0.094  0.228\n",
      "Group Var    0.000    0.022                           \n",
      "======================================================\n",
      "\n"
     ]
    },
    {
     "name": "stderr",
     "output_type": "stream",
     "text": [
      "/Users/margaret/miniconda3/envs/lmer/lib/python3.9/site-packages/statsmodels/regression/mixed_linear_model.py:1635: UserWarning: Random effects covariance is singular\n",
      "  warnings.warn(msg)\n",
      "/Users/margaret/miniconda3/envs/lmer/lib/python3.9/site-packages/statsmodels/regression/mixed_linear_model.py:2238: ConvergenceWarning: The MLE may be on the boundary of the parameter space.\n",
      "  warnings.warn(msg, ConvergenceWarning)\n"
     ]
    }
   ],
   "source": [
    "# Run mixed lm for NR2B volume\n",
    "md = smf.mixedlm(\"NR2B_vol ~ Group\", data, groups=data[\"Animal\"])\n",
    "mdf = md.fit(method=[\"lbfgs\"])\n",
    "print(mdf.summary())"
   ]
  },
  {
   "cell_type": "code",
   "execution_count": 23,
   "id": "64685618-8bab-4192-8570-fa4b7400748d",
   "metadata": {},
   "outputs": [
    {
     "name": "stdout",
     "output_type": "stream",
     "text": [
      "8.621302806882892e-46\n",
      "2.5360249023727947e-06\n"
     ]
    }
   ],
   "source": [
    "for x in range (0, 2):\n",
    "    print(mdf.pvalues[x])"
   ]
  },
  {
   "cell_type": "code",
   "execution_count": 24,
   "id": "da47fb12-1ff3-473a-8194-809b4fffbf28",
   "metadata": {},
   "outputs": [
    {
     "name": "stdout",
     "output_type": "stream",
     "text": [
      "         Mixed Linear Model Regression Results\n",
      "=======================================================\n",
      "Model:            MixedLM Dependent Variable: RIMBP_vol\n",
      "No. Observations: 17      Method:             REML     \n",
      "No. Groups:       4       Scale:              0.0131   \n",
      "Min. group size:  4       Log-Likelihood:     8.1561   \n",
      "Max. group size:  5       Converged:          Yes      \n",
      "Mean group size:  4.2                                  \n",
      "-------------------------------------------------------\n",
      "               Coef. Std.Err.   z   P>|z| [0.025 0.975]\n",
      "-------------------------------------------------------\n",
      "Intercept      0.484    0.062 7.796 0.000  0.362  0.605\n",
      "Group[T.WT]    0.199    0.089 2.245 0.025  0.025  0.373\n",
      "Group Var      0.005    0.075                          \n",
      "=======================================================\n",
      "\n"
     ]
    },
    {
     "name": "stderr",
     "output_type": "stream",
     "text": [
      "/Users/margaret/miniconda3/envs/lmer/lib/python3.9/site-packages/statsmodels/regression/mixed_linear_model.py:1635: UserWarning: Random effects covariance is singular\n",
      "  warnings.warn(msg)\n",
      "/Users/margaret/miniconda3/envs/lmer/lib/python3.9/site-packages/statsmodels/regression/mixed_linear_model.py:2238: ConvergenceWarning: The MLE may be on the boundary of the parameter space.\n",
      "  warnings.warn(msg, ConvergenceWarning)\n"
     ]
    }
   ],
   "source": [
    "# Run mixed lm for RIM-BP volume\n",
    "md = smf.mixedlm(\"RIMBP_vol ~ Group\", data, groups=data[\"Animal\"])\n",
    "mdf = md.fit(method=[\"lbfgs\"])\n",
    "print(mdf.summary())"
   ]
  },
  {
   "cell_type": "code",
   "execution_count": 25,
   "id": "3e4e8172-4a82-4a4f-b30e-456a735840b9",
   "metadata": {},
   "outputs": [
    {
     "name": "stdout",
     "output_type": "stream",
     "text": [
      "6.392175851209788e-15\n",
      "0.024796891084460697\n"
     ]
    }
   ],
   "source": [
    "for x in range (0, 2):\n",
    "    print(mdf.pvalues[x])"
   ]
  },
  {
   "cell_type": "code",
   "execution_count": 26,
   "id": "a5aaabf3-c46b-4606-ad59-2c4443d388b7",
   "metadata": {},
   "outputs": [
    {
     "name": "stdout",
     "output_type": "stream",
     "text": [
      "         Mixed Linear Model Regression Results\n",
      "=======================================================\n",
      "Model:            MixedLM Dependent Variable: GluA2_vol\n",
      "No. Observations: 17      Method:             REML     \n",
      "No. Groups:       4       Scale:              0.0003   \n",
      "Min. group size:  4       Log-Likelihood:     38.3937  \n",
      "Max. group size:  5       Converged:          Yes      \n",
      "Mean group size:  4.2                                  \n",
      "-------------------------------------------------------\n",
      "             Coef.  Std.Err.   z    P>|z| [0.025 0.975]\n",
      "-------------------------------------------------------\n",
      "Intercept     0.031    0.005  5.630 0.000  0.020  0.041\n",
      "Group[T.WT]  -0.029    0.008 -3.622 0.000 -0.044 -0.013\n",
      "Group Var     0.000                                    \n",
      "=======================================================\n",
      "\n"
     ]
    },
    {
     "name": "stderr",
     "output_type": "stream",
     "text": [
      "/Users/margaret/miniconda3/envs/lmer/lib/python3.9/site-packages/statsmodels/regression/mixed_linear_model.py:1635: UserWarning: Random effects covariance is singular\n",
      "  warnings.warn(msg)\n",
      "/Users/margaret/miniconda3/envs/lmer/lib/python3.9/site-packages/statsmodels/regression/mixed_linear_model.py:2238: ConvergenceWarning: The MLE may be on the boundary of the parameter space.\n",
      "  warnings.warn(msg, ConvergenceWarning)\n",
      "/Users/margaret/miniconda3/envs/lmer/lib/python3.9/site-packages/statsmodels/regression/mixed_linear_model.py:2262: ConvergenceWarning: The Hessian matrix at the estimated parameter values is not positive definite.\n",
      "  warnings.warn(msg, ConvergenceWarning)\n"
     ]
    }
   ],
   "source": [
    "# Run mixed lm for GluA2 volume\n",
    "md = smf.mixedlm(\"GluA2_vol ~ Group\", data, groups=data[\"Animal\"])\n",
    "mdf = md.fit(method=[\"lbfgs\"])\n",
    "print(mdf.summary())"
   ]
  },
  {
   "cell_type": "code",
   "execution_count": 27,
   "id": "29a1b056-e8ba-4bfa-8a71-d385f726deab",
   "metadata": {},
   "outputs": [
    {
     "name": "stdout",
     "output_type": "stream",
     "text": [
      "1.805452044122285e-08\n",
      "0.0002923660533702865\n"
     ]
    }
   ],
   "source": [
    "for x in range (0, 2):\n",
    "    print(mdf.pvalues[x])"
   ]
  },
  {
   "cell_type": "code",
   "execution_count": 28,
   "id": "d2cad143-9331-4c09-8a40-efeebe8fc570",
   "metadata": {},
   "outputs": [
    {
     "name": "stdout",
     "output_type": "stream",
     "text": [
      "         Mixed Linear Model Regression Results\n",
      "=======================================================\n",
      "Model:            MixedLM Dependent Variable: GluA1_vol\n",
      "No. Observations: 17      Method:             REML     \n",
      "No. Groups:       4       Scale:              0.0019   \n",
      "Min. group size:  4       Log-Likelihood:     23.0466  \n",
      "Max. group size:  5       Converged:          No       \n",
      "Mean group size:  4.2                                  \n",
      "-------------------------------------------------------\n",
      "              Coef. Std.Err.   z    P>|z| [0.025 0.975]\n",
      "-------------------------------------------------------\n",
      "Intercept     0.229    0.019 12.202 0.000  0.192  0.265\n",
      "Group[T.WT]   0.127    0.027  4.713 0.000  0.074  0.180\n",
      "Group Var     0.000    0.024                           \n",
      "=======================================================\n",
      "\n"
     ]
    },
    {
     "name": "stderr",
     "output_type": "stream",
     "text": [
      "/Users/margaret/miniconda3/envs/lmer/lib/python3.9/site-packages/statsmodels/regression/mixed_linear_model.py:1635: UserWarning: Random effects covariance is singular\n",
      "  warnings.warn(msg)\n",
      "/Users/margaret/miniconda3/envs/lmer/lib/python3.9/site-packages/statsmodels/base/model.py:607: ConvergenceWarning: Maximum Likelihood optimization failed to converge. Check mle_retvals\n",
      "  warnings.warn(\"Maximum Likelihood optimization failed to \"\n",
      "/Users/margaret/miniconda3/envs/lmer/lib/python3.9/site-packages/statsmodels/regression/mixed_linear_model.py:2207: ConvergenceWarning: MixedLM optimization failed, trying a different optimizer may help.\n",
      "  warnings.warn(msg, ConvergenceWarning)\n",
      "/Users/margaret/miniconda3/envs/lmer/lib/python3.9/site-packages/statsmodels/regression/mixed_linear_model.py:2219: ConvergenceWarning: Gradient optimization failed, |grad| = 0.430726\n",
      "  warnings.warn(msg, ConvergenceWarning)\n",
      "/Users/margaret/miniconda3/envs/lmer/lib/python3.9/site-packages/statsmodels/regression/mixed_linear_model.py:2238: ConvergenceWarning: The MLE may be on the boundary of the parameter space.\n",
      "  warnings.warn(msg, ConvergenceWarning)\n"
     ]
    }
   ],
   "source": [
    "# Run mixed lm for GluA1 volume\n",
    "md = smf.mixedlm(\"GluA1_vol ~ Group\", data, groups=data[\"Animal\"])\n",
    "mdf = md.fit(method=[\"lbfgs\"])\n",
    "print(mdf.summary())"
   ]
  },
  {
   "cell_type": "code",
   "execution_count": 29,
   "id": "67a0bb10-6380-492b-86a6-2ef4b7924145",
   "metadata": {},
   "outputs": [
    {
     "name": "stdout",
     "output_type": "stream",
     "text": [
      "3.0443632292401968e-34\n",
      "2.4387804893124456e-06\n"
     ]
    }
   ],
   "source": [
    "for x in range (0, 2):\n",
    "    print(mdf.pvalues[x])"
   ]
  },
  {
   "cell_type": "code",
   "execution_count": 30,
   "id": "fdb46c40-6d15-4f96-b064-efda90cd7af6",
   "metadata": {},
   "outputs": [
    {
     "name": "stdout",
     "output_type": "stream",
     "text": [
      "        Mixed Linear Model Regression Results\n",
      "=====================================================\n",
      "Model:            MixedLM Dependent Variable: NR1_vol\n",
      "No. Observations: 17      Method:             REML   \n",
      "No. Groups:       4       Scale:              0.0034 \n",
      "Min. group size:  4       Log-Likelihood:     19.1382\n",
      "Max. group size:  5       Converged:          Yes    \n",
      "Mean group size:  4.2                                \n",
      "-----------------------------------------------------\n",
      "            Coef. Std.Err.   z    P>|z| [0.025 0.975]\n",
      "-----------------------------------------------------\n",
      "Intercept   0.311    0.021 14.973 0.000  0.270  0.352\n",
      "Group[T.WT] 0.142    0.029  4.836 0.000  0.084  0.199\n",
      "Group Var   0.000    0.051                           \n",
      "=====================================================\n",
      "\n"
     ]
    },
    {
     "name": "stderr",
     "output_type": "stream",
     "text": [
      "/Users/margaret/miniconda3/envs/lmer/lib/python3.9/site-packages/statsmodels/regression/mixed_linear_model.py:1635: UserWarning: Random effects covariance is singular\n",
      "  warnings.warn(msg)\n",
      "/Users/margaret/miniconda3/envs/lmer/lib/python3.9/site-packages/statsmodels/regression/mixed_linear_model.py:2238: ConvergenceWarning: The MLE may be on the boundary of the parameter space.\n",
      "  warnings.warn(msg, ConvergenceWarning)\n"
     ]
    }
   ],
   "source": [
    "# Run mixed lm for NR1 volume\n",
    "md = smf.mixedlm(\"NR1_vol ~ Group\", data, groups=data[\"Animal\"])\n",
    "mdf = md.fit(method=[\"lbfgs\"])\n",
    "print(mdf.summary())"
   ]
  },
  {
   "cell_type": "code",
   "execution_count": 31,
   "id": "bcd5b264-4107-4880-b735-71a7b5279106",
   "metadata": {},
   "outputs": [
    {
     "name": "stdout",
     "output_type": "stream",
     "text": [
      "1.0987047905077468e-50\n",
      "1.3268324918232215e-06\n"
     ]
    }
   ],
   "source": [
    "for x in range (0, 2):\n",
    "    print(mdf.pvalues[x])"
   ]
  },
  {
   "cell_type": "code",
   "execution_count": 32,
   "id": "029cb33f-b9e2-49af-a5c4-27285abe5c92",
   "metadata": {},
   "outputs": [
    {
     "name": "stdout",
     "output_type": "stream",
     "text": [
      "         Mixed Linear Model Regression Results\n",
      "========================================================\n",
      "Model:            MixedLM Dependent Variable: Shank3_vol\n",
      "No. Observations: 17      Method:             REML      \n",
      "No. Groups:       4       Scale:              0.0044    \n",
      "Min. group size:  4       Log-Likelihood:     15.7101   \n",
      "Max. group size:  5       Converged:          Yes       \n",
      "Mean group size:  4.2                                   \n",
      "--------------------------------------------------------\n",
      "                Coef. Std.Err.   z   P>|z| [0.025 0.975]\n",
      "--------------------------------------------------------\n",
      "Intercept       0.434    0.051 8.501 0.000  0.334  0.534\n",
      "Group[T.WT]     0.248    0.073 3.412 0.001  0.105  0.390\n",
      "Group Var       0.004    0.087                          \n",
      "========================================================\n",
      "\n"
     ]
    },
    {
     "name": "stderr",
     "output_type": "stream",
     "text": [
      "/Users/margaret/miniconda3/envs/lmer/lib/python3.9/site-packages/statsmodels/regression/mixed_linear_model.py:1635: UserWarning: Random effects covariance is singular\n",
      "  warnings.warn(msg)\n",
      "/Users/margaret/miniconda3/envs/lmer/lib/python3.9/site-packages/statsmodels/regression/mixed_linear_model.py:2238: ConvergenceWarning: The MLE may be on the boundary of the parameter space.\n",
      "  warnings.warn(msg, ConvergenceWarning)\n"
     ]
    }
   ],
   "source": [
    "# Run mixed lm for Shank3 volume\n",
    "md = smf.mixedlm(\"Shank3_vol ~ Group\", data, groups=data[\"Animal\"])\n",
    "mdf = md.fit(method=[\"lbfgs\"])\n",
    "print(mdf.summary())"
   ]
  },
  {
   "cell_type": "code",
   "execution_count": 33,
   "id": "7dee5954-8656-4554-864c-dc2ca4ce7764",
   "metadata": {},
   "outputs": [
    {
     "name": "stdout",
     "output_type": "stream",
     "text": [
      "1.876848449818151e-17\n",
      "0.0006437639098512915\n"
     ]
    }
   ],
   "source": [
    "for x in range (0, 2):\n",
    "    print(mdf.pvalues[x])"
   ]
  },
  {
   "cell_type": "code",
   "execution_count": 34,
   "id": "a19dcb7d-4a0b-4564-a9f8-8a5799383f69",
   "metadata": {},
   "outputs": [
    {
     "name": "stdout",
     "output_type": "stream",
     "text": [
      "         Mixed Linear Model Regression Results\n",
      "========================================================\n",
      "Model:            MixedLM Dependent Variable: Homer1_vol\n",
      "No. Observations: 17      Method:             REML      \n",
      "No. Groups:       4       Scale:              0.0188    \n",
      "Min. group size:  4       Log-Likelihood:     6.3876    \n",
      "Max. group size:  5       Converged:          Yes       \n",
      "Mean group size:  4.2                                   \n",
      "--------------------------------------------------------\n",
      "               Coef. Std.Err.   z    P>|z| [0.025 0.975]\n",
      "--------------------------------------------------------\n",
      "Intercept      0.688    0.046 15.027 0.000  0.599  0.778\n",
      "Group[T.WT]    0.124    0.067  1.865 0.062 -0.006  0.255\n",
      "Group Var      0.000    0.049                           \n",
      "========================================================\n",
      "\n"
     ]
    },
    {
     "name": "stderr",
     "output_type": "stream",
     "text": [
      "/Users/margaret/miniconda3/envs/lmer/lib/python3.9/site-packages/statsmodels/regression/mixed_linear_model.py:1635: UserWarning: Random effects covariance is singular\n",
      "  warnings.warn(msg)\n",
      "/Users/margaret/miniconda3/envs/lmer/lib/python3.9/site-packages/statsmodels/regression/mixed_linear_model.py:2238: ConvergenceWarning: The MLE may be on the boundary of the parameter space.\n",
      "  warnings.warn(msg, ConvergenceWarning)\n"
     ]
    }
   ],
   "source": [
    "# Run mixed lm for Homer1 volume\n",
    "md = smf.mixedlm(\"Homer1_vol ~ Group\", data, groups=data[\"Animal\"])\n",
    "mdf = md.fit(method=[\"lbfgs\"])\n",
    "print(mdf.summary())"
   ]
  },
  {
   "cell_type": "code",
   "execution_count": 35,
   "id": "33f18339-3d3b-4f92-9760-d40599b5a19e",
   "metadata": {},
   "outputs": [
    {
     "name": "stdout",
     "output_type": "stream",
     "text": [
      "4.890826724293538e-51\n",
      "0.06213637874930563\n"
     ]
    }
   ],
   "source": [
    "for x in range (0, 2):\n",
    "    print(mdf.pvalues[x])"
   ]
  },
  {
   "cell_type": "code",
   "execution_count": 36,
   "id": "b2dc6f4d-3838-4070-bc95-f31d250a3ee4",
   "metadata": {},
   "outputs": [
    {
     "data": {
      "text/plain": [
       "['Animal',\n",
       " 'ROI',\n",
       " 'Group',\n",
       " 'RIM1_vol',\n",
       " 'GluA3_vol',\n",
       " 'NR2B_vol',\n",
       " 'RIMBP_vol',\n",
       " 'GluA2_vol',\n",
       " 'GluA1_vol',\n",
       " 'NR1_vol',\n",
       " 'Shank3_vol',\n",
       " 'Homer1_vol',\n",
       " 'CaMKIIa_vol',\n",
       " 'Cav21_vol',\n",
       " 'GluA4_vol',\n",
       " 'PSD95_vol',\n",
       " 'Bassoon_vol',\n",
       " 'SynGAP_vol',\n",
       " 'IRsp53_vol',\n",
       " 'Stargazin_vol',\n",
       " 'Gephyrin_vol']"
      ]
     },
     "execution_count": 36,
     "metadata": {},
     "output_type": "execute_result"
    }
   ],
   "source": [
    "list(data)"
   ]
  },
  {
   "cell_type": "code",
   "execution_count": 37,
   "id": "b69e8196-c20a-477f-8d46-1e3a234e9a62",
   "metadata": {},
   "outputs": [
    {
     "name": "stdout",
     "output_type": "stream",
     "text": [
      "          Mixed Linear Model Regression Results\n",
      "=========================================================\n",
      "Model:            MixedLM Dependent Variable: CaMKIIa_vol\n",
      "No. Observations: 17      Method:             REML       \n",
      "No. Groups:       4       Scale:              0.0272     \n",
      "Min. group size:  4       Log-Likelihood:     3.0523     \n",
      "Max. group size:  5       Converged:          No         \n",
      "Mean group size:  4.2                                    \n",
      "---------------------------------------------------------\n",
      "               Coef.  Std.Err.   z    P>|z| [0.025 0.975]\n",
      "---------------------------------------------------------\n",
      "Intercept       0.714    0.074  9.687 0.000  0.569  0.858\n",
      "Group[T.WT]    -0.057    0.106 -0.541 0.588 -0.265  0.150\n",
      "Group Var       0.005    0.121                           \n",
      "=========================================================\n",
      "\n"
     ]
    },
    {
     "name": "stderr",
     "output_type": "stream",
     "text": [
      "/Users/margaret/miniconda3/envs/lmer/lib/python3.9/site-packages/statsmodels/regression/mixed_linear_model.py:1635: UserWarning: Random effects covariance is singular\n",
      "  warnings.warn(msg)\n",
      "/Users/margaret/miniconda3/envs/lmer/lib/python3.9/site-packages/statsmodels/base/model.py:607: ConvergenceWarning: Maximum Likelihood optimization failed to converge. Check mle_retvals\n",
      "  warnings.warn(\"Maximum Likelihood optimization failed to \"\n",
      "/Users/margaret/miniconda3/envs/lmer/lib/python3.9/site-packages/statsmodels/regression/mixed_linear_model.py:2207: ConvergenceWarning: MixedLM optimization failed, trying a different optimizer may help.\n",
      "  warnings.warn(msg, ConvergenceWarning)\n",
      "/Users/margaret/miniconda3/envs/lmer/lib/python3.9/site-packages/statsmodels/regression/mixed_linear_model.py:2219: ConvergenceWarning: Gradient optimization failed, |grad| = 0.581352\n",
      "  warnings.warn(msg, ConvergenceWarning)\n",
      "/Users/margaret/miniconda3/envs/lmer/lib/python3.9/site-packages/statsmodels/regression/mixed_linear_model.py:2238: ConvergenceWarning: The MLE may be on the boundary of the parameter space.\n",
      "  warnings.warn(msg, ConvergenceWarning)\n"
     ]
    }
   ],
   "source": [
    "# Run mixed lm for CaMKIIa\n",
    "md = smf.mixedlm(\"CaMKIIa_vol ~ Group\", data, groups=data[\"Animal\"])\n",
    "mdf = md.fit(method=[\"lbfgs\"])\n",
    "print(mdf.summary())"
   ]
  },
  {
   "cell_type": "code",
   "execution_count": 38,
   "id": "13109a26-e597-4f98-b494-1c70ad94dd8a",
   "metadata": {},
   "outputs": [
    {
     "name": "stdout",
     "output_type": "stream",
     "text": [
      "3.441134629528222e-22\n",
      "0.5884591077447816\n"
     ]
    }
   ],
   "source": [
    "for x in range (0, 2):\n",
    "    print(mdf.pvalues[x])"
   ]
  },
  {
   "cell_type": "code",
   "execution_count": 39,
   "id": "c32593be-dfe1-4104-b279-88a1998820c6",
   "metadata": {},
   "outputs": [
    {
     "name": "stdout",
     "output_type": "stream",
     "text": [
      "         Mixed Linear Model Regression Results\n",
      "=======================================================\n",
      "Model:            MixedLM Dependent Variable: Cav21_vol\n",
      "No. Observations: 17      Method:             REML     \n",
      "No. Groups:       4       Scale:              0.0091   \n",
      "Min. group size:  4       Log-Likelihood:     11.6582  \n",
      "Max. group size:  5       Converged:          Yes      \n",
      "Mean group size:  4.2                                  \n",
      "-------------------------------------------------------\n",
      "              Coef. Std.Err.   z    P>|z| [0.025 0.975]\n",
      "-------------------------------------------------------\n",
      "Intercept     0.452    0.035 13.025 0.000  0.384  0.520\n",
      "Group[T.WT]   0.155    0.050  3.098 0.002  0.057  0.254\n",
      "Group Var     0.000    0.028                           \n",
      "=======================================================\n",
      "\n"
     ]
    },
    {
     "name": "stderr",
     "output_type": "stream",
     "text": [
      "/Users/margaret/miniconda3/envs/lmer/lib/python3.9/site-packages/statsmodels/regression/mixed_linear_model.py:1635: UserWarning: Random effects covariance is singular\n",
      "  warnings.warn(msg)\n",
      "/Users/margaret/miniconda3/envs/lmer/lib/python3.9/site-packages/statsmodels/regression/mixed_linear_model.py:2238: ConvergenceWarning: The MLE may be on the boundary of the parameter space.\n",
      "  warnings.warn(msg, ConvergenceWarning)\n"
     ]
    }
   ],
   "source": [
    "# Run mixed lm for Cav2.1\n",
    "md = smf.mixedlm(\"Cav21_vol ~ Group\", data, groups=data[\"Animal\"])\n",
    "mdf = md.fit(method=[\"lbfgs\"])\n",
    "print(mdf.summary())"
   ]
  },
  {
   "cell_type": "code",
   "execution_count": 40,
   "id": "ee5525c5-aeee-4daa-a00a-bfda8537e7bd",
   "metadata": {},
   "outputs": [
    {
     "name": "stdout",
     "output_type": "stream",
     "text": [
      "8.872830899680969e-39\n",
      "0.001950926564825465\n"
     ]
    }
   ],
   "source": [
    "for x in range (0, 2):\n",
    "    print(mdf.pvalues[x])"
   ]
  },
  {
   "cell_type": "code",
   "execution_count": 41,
   "id": "b7b6343c-d57a-44f6-a9e2-9a684a427320",
   "metadata": {},
   "outputs": [
    {
     "name": "stdout",
     "output_type": "stream",
     "text": [
      "         Mixed Linear Model Regression Results\n",
      "=======================================================\n",
      "Model:            MixedLM Dependent Variable: GluA4_vol\n",
      "No. Observations: 17      Method:             REML     \n",
      "No. Groups:       4       Scale:              0.0017   \n",
      "Min. group size:  4       Log-Likelihood:     23.2332  \n",
      "Max. group size:  5       Converged:          Yes      \n",
      "Mean group size:  4.2                                  \n",
      "-------------------------------------------------------\n",
      "             Coef.  Std.Err.   z    P>|z| [0.025 0.975]\n",
      "-------------------------------------------------------\n",
      "Intercept     0.162    0.026  6.346 0.000  0.112  0.212\n",
      "Group[T.WT]  -0.052    0.036 -1.438 0.150 -0.124  0.019\n",
      "Group Var     0.001    0.034                           \n",
      "=======================================================\n",
      "\n"
     ]
    },
    {
     "name": "stderr",
     "output_type": "stream",
     "text": [
      "/Users/margaret/miniconda3/envs/lmer/lib/python3.9/site-packages/statsmodels/regression/mixed_linear_model.py:1635: UserWarning: Random effects covariance is singular\n",
      "  warnings.warn(msg)\n",
      "/Users/margaret/miniconda3/envs/lmer/lib/python3.9/site-packages/statsmodels/regression/mixed_linear_model.py:2238: ConvergenceWarning: The MLE may be on the boundary of the parameter space.\n",
      "  warnings.warn(msg, ConvergenceWarning)\n"
     ]
    }
   ],
   "source": [
    "# Run mixed lm for GluA4 volume\n",
    "md = smf.mixedlm(\"GluA4_vol ~ Group\", data, groups=data[\"Animal\"])\n",
    "mdf = md.fit(method=[\"lbfgs\"])\n",
    "print(mdf.summary())"
   ]
  },
  {
   "cell_type": "code",
   "execution_count": 42,
   "id": "b063485d-735b-4d59-99a4-a995ee0db6e5",
   "metadata": {},
   "outputs": [
    {
     "name": "stdout",
     "output_type": "stream",
     "text": [
      "2.2091331620613374e-10\n",
      "0.15040400452479294\n"
     ]
    }
   ],
   "source": [
    "for x in range (0, 2):\n",
    "    print(mdf.pvalues[x])"
   ]
  },
  {
   "cell_type": "code",
   "execution_count": 43,
   "id": "a8eaf15e-b903-473e-839e-d4a355181421",
   "metadata": {},
   "outputs": [
    {
     "name": "stdout",
     "output_type": "stream",
     "text": [
      "         Mixed Linear Model Regression Results\n",
      "=======================================================\n",
      "Model:            MixedLM Dependent Variable: PSD95_vol\n",
      "No. Observations: 17      Method:             REML     \n",
      "No. Groups:       4       Scale:              0.0052   \n",
      "Min. group size:  4       Log-Likelihood:     14.0913  \n",
      "Max. group size:  5       Converged:          Yes      \n",
      "Mean group size:  4.2                                  \n",
      "-------------------------------------------------------\n",
      "               Coef. Std.Err.   z   P>|z| [0.025 0.975]\n",
      "-------------------------------------------------------\n",
      "Intercept      0.429    0.066 6.524 0.000  0.300  0.557\n",
      "Group[T.WT]    0.321    0.093 3.441 0.001  0.138  0.504\n",
      "Group Var      0.007    0.131                          \n",
      "=======================================================\n",
      "\n"
     ]
    },
    {
     "name": "stderr",
     "output_type": "stream",
     "text": [
      "/Users/margaret/miniconda3/envs/lmer/lib/python3.9/site-packages/statsmodels/regression/mixed_linear_model.py:2238: ConvergenceWarning: The MLE may be on the boundary of the parameter space.\n",
      "  warnings.warn(msg, ConvergenceWarning)\n"
     ]
    }
   ],
   "source": [
    "# Run mixed lm for PSD95 volume\n",
    "md = smf.mixedlm(\"PSD95_vol ~ Group\", data, groups=data[\"Animal\"])\n",
    "mdf = md.fit(method=[\"lbfgs\"])\n",
    "print(mdf.summary())"
   ]
  },
  {
   "cell_type": "code",
   "execution_count": 44,
   "id": "f5694ad1-422c-42a1-a8a2-56533bce7980",
   "metadata": {},
   "outputs": [
    {
     "name": "stdout",
     "output_type": "stream",
     "text": [
      "6.85350012744784e-11\n",
      "0.0005802822954052866\n"
     ]
    }
   ],
   "source": [
    "for x in range (0, 2):\n",
    "    print(mdf.pvalues[x])"
   ]
  },
  {
   "cell_type": "code",
   "execution_count": 45,
   "id": "69c8b1c4-6a00-43be-8c3d-771db83aca54",
   "metadata": {},
   "outputs": [
    {
     "name": "stdout",
     "output_type": "stream",
     "text": [
      "          Mixed Linear Model Regression Results\n",
      "=========================================================\n",
      "Model:            MixedLM Dependent Variable: Bassoon_vol\n",
      "No. Observations: 17      Method:             REML       \n",
      "No. Groups:       4       Scale:              0.0105     \n",
      "Min. group size:  4       Log-Likelihood:     10.4959    \n",
      "Max. group size:  5       Converged:          No         \n",
      "Mean group size:  4.2                                    \n",
      "---------------------------------------------------------\n",
      "                Coef. Std.Err.   z    P>|z| [0.025 0.975]\n",
      "---------------------------------------------------------\n",
      "Intercept       0.540    0.039 13.832 0.000  0.464  0.617\n",
      "Group[T.WT]     0.307    0.056  5.431 0.000  0.196  0.417\n",
      "Group Var       0.001    0.036                           \n",
      "=========================================================\n",
      "\n"
     ]
    },
    {
     "name": "stderr",
     "output_type": "stream",
     "text": [
      "/Users/margaret/miniconda3/envs/lmer/lib/python3.9/site-packages/statsmodels/regression/mixed_linear_model.py:1635: UserWarning: Random effects covariance is singular\n",
      "  warnings.warn(msg)\n",
      "/Users/margaret/miniconda3/envs/lmer/lib/python3.9/site-packages/statsmodels/base/model.py:607: ConvergenceWarning: Maximum Likelihood optimization failed to converge. Check mle_retvals\n",
      "  warnings.warn(\"Maximum Likelihood optimization failed to \"\n",
      "/Users/margaret/miniconda3/envs/lmer/lib/python3.9/site-packages/statsmodels/regression/mixed_linear_model.py:2207: ConvergenceWarning: MixedLM optimization failed, trying a different optimizer may help.\n",
      "  warnings.warn(msg, ConvergenceWarning)\n",
      "/Users/margaret/miniconda3/envs/lmer/lib/python3.9/site-packages/statsmodels/regression/mixed_linear_model.py:2219: ConvergenceWarning: Gradient optimization failed, |grad| = 0.046479\n",
      "  warnings.warn(msg, ConvergenceWarning)\n",
      "/Users/margaret/miniconda3/envs/lmer/lib/python3.9/site-packages/statsmodels/regression/mixed_linear_model.py:2238: ConvergenceWarning: The MLE may be on the boundary of the parameter space.\n",
      "  warnings.warn(msg, ConvergenceWarning)\n"
     ]
    }
   ],
   "source": [
    "# Run mixed lm for Bassoon volume\n",
    "md = smf.mixedlm(\"Bassoon_vol ~ Group\", data, groups=data[\"Animal\"])\n",
    "mdf = md.fit(method=[\"lbfgs\"])\n",
    "print(mdf.summary())"
   ]
  },
  {
   "cell_type": "code",
   "execution_count": 46,
   "id": "f9fbe42d-5eb8-443e-87a0-eacf322682a1",
   "metadata": {},
   "outputs": [
    {
     "name": "stdout",
     "output_type": "stream",
     "text": [
      "1.6242738300211687e-43\n",
      "5.615289489075852e-08\n"
     ]
    }
   ],
   "source": [
    "for x in range (0, 2):\n",
    "    print(mdf.pvalues[x])"
   ]
  },
  {
   "cell_type": "code",
   "execution_count": 47,
   "id": "d13e1f03-d020-4994-8e15-20e657b7719d",
   "metadata": {},
   "outputs": [
    {
     "name": "stdout",
     "output_type": "stream",
     "text": [
      "         Mixed Linear Model Regression Results\n",
      "========================================================\n",
      "Model:            MixedLM Dependent Variable: SynGAP_vol\n",
      "No. Observations: 17      Method:             REML      \n",
      "No. Groups:       4       Scale:              0.0080    \n",
      "Min. group size:  4       Log-Likelihood:     12.8048   \n",
      "Max. group size:  5       Converged:          Yes       \n",
      "Mean group size:  4.2                                   \n",
      "--------------------------------------------------------\n",
      "               Coef. Std.Err.   z    P>|z| [0.025 0.975]\n",
      "--------------------------------------------------------\n",
      "Intercept      0.395    0.030 13.168 0.000  0.336  0.454\n",
      "Group[T.WT]    0.336    0.044  7.699 0.000  0.250  0.421\n",
      "Group Var      0.000    0.023                           \n",
      "========================================================\n",
      "\n"
     ]
    },
    {
     "name": "stderr",
     "output_type": "stream",
     "text": [
      "/Users/margaret/miniconda3/envs/lmer/lib/python3.9/site-packages/statsmodels/regression/mixed_linear_model.py:1635: UserWarning: Random effects covariance is singular\n",
      "  warnings.warn(msg)\n",
      "/Users/margaret/miniconda3/envs/lmer/lib/python3.9/site-packages/statsmodels/regression/mixed_linear_model.py:2238: ConvergenceWarning: The MLE may be on the boundary of the parameter space.\n",
      "  warnings.warn(msg, ConvergenceWarning)\n"
     ]
    }
   ],
   "source": [
    "# Run mixed lm for SynGAP volume\n",
    "md = smf.mixedlm(\"SynGAP_vol ~ Group\", data, groups=data[\"Animal\"])\n",
    "mdf = md.fit(method=[\"lbfgs\"])\n",
    "print(mdf.summary())"
   ]
  },
  {
   "cell_type": "code",
   "execution_count": 48,
   "id": "633d795b-8596-425d-a7c0-5dfbdad0ad0a",
   "metadata": {},
   "outputs": [
    {
     "name": "stdout",
     "output_type": "stream",
     "text": [
      "1.34048130806913e-39\n",
      "1.3722557373037156e-14\n"
     ]
    }
   ],
   "source": [
    "for x in range (0, 2):\n",
    "    print(mdf.pvalues[x])"
   ]
  },
  {
   "cell_type": "code",
   "execution_count": 49,
   "id": "a541a4d1-332a-447e-80ba-456fcb301975",
   "metadata": {},
   "outputs": [
    {
     "name": "stdout",
     "output_type": "stream",
     "text": [
      "         Mixed Linear Model Regression Results\n",
      "========================================================\n",
      "Model:            MixedLM Dependent Variable: IRsp53_vol\n",
      "No. Observations: 17      Method:             REML      \n",
      "No. Groups:       4       Scale:              0.0116    \n",
      "Min. group size:  4       Log-Likelihood:     9.9748    \n",
      "Max. group size:  5       Converged:          No        \n",
      "Mean group size:  4.2                                   \n",
      "--------------------------------------------------------\n",
      "               Coef. Std.Err.   z    P>|z| [0.025 0.975]\n",
      "--------------------------------------------------------\n",
      "Intercept      0.424    0.036 11.808 0.000  0.354  0.495\n",
      "Group[T.WT]    0.097    0.052  1.851 0.064 -0.006  0.200\n",
      "Group Var      0.000                                    \n",
      "========================================================\n",
      "\n"
     ]
    },
    {
     "name": "stderr",
     "output_type": "stream",
     "text": [
      "/Users/margaret/miniconda3/envs/lmer/lib/python3.9/site-packages/statsmodels/regression/mixed_linear_model.py:1635: UserWarning: Random effects covariance is singular\n",
      "  warnings.warn(msg)\n",
      "/Users/margaret/miniconda3/envs/lmer/lib/python3.9/site-packages/statsmodels/base/model.py:607: ConvergenceWarning: Maximum Likelihood optimization failed to converge. Check mle_retvals\n",
      "  warnings.warn(\"Maximum Likelihood optimization failed to \"\n",
      "/Users/margaret/miniconda3/envs/lmer/lib/python3.9/site-packages/statsmodels/regression/mixed_linear_model.py:2207: ConvergenceWarning: MixedLM optimization failed, trying a different optimizer may help.\n",
      "  warnings.warn(msg, ConvergenceWarning)\n",
      "/Users/margaret/miniconda3/envs/lmer/lib/python3.9/site-packages/statsmodels/regression/mixed_linear_model.py:2219: ConvergenceWarning: Gradient optimization failed, |grad| = 0.058529\n",
      "  warnings.warn(msg, ConvergenceWarning)\n",
      "/Users/margaret/miniconda3/envs/lmer/lib/python3.9/site-packages/statsmodels/regression/mixed_linear_model.py:2238: ConvergenceWarning: The MLE may be on the boundary of the parameter space.\n",
      "  warnings.warn(msg, ConvergenceWarning)\n",
      "/Users/margaret/miniconda3/envs/lmer/lib/python3.9/site-packages/statsmodels/regression/mixed_linear_model.py:2262: ConvergenceWarning: The Hessian matrix at the estimated parameter values is not positive definite.\n",
      "  warnings.warn(msg, ConvergenceWarning)\n"
     ]
    }
   ],
   "source": [
    "# Run mixed lm for IRsp53 volume\n",
    "md = smf.mixedlm(\"IRsp53_vol ~ Group\", data, groups=data[\"Animal\"])\n",
    "mdf = md.fit(method=[\"lbfgs\"])\n",
    "print(mdf.summary())"
   ]
  },
  {
   "cell_type": "code",
   "execution_count": 50,
   "id": "645e858b-c3f3-4dbd-8bc8-fb772cb04828",
   "metadata": {},
   "outputs": [
    {
     "name": "stdout",
     "output_type": "stream",
     "text": [
      "3.549026936036346e-32\n",
      "0.06418913305294463\n"
     ]
    }
   ],
   "source": [
    "for x in range (0, 2):\n",
    "    print(mdf.pvalues[x])"
   ]
  },
  {
   "cell_type": "code",
   "execution_count": 51,
   "id": "a3236a93-715a-4deb-9d86-729151a0ed51",
   "metadata": {},
   "outputs": [
    {
     "data": {
      "text/plain": [
       "['Animal',\n",
       " 'ROI',\n",
       " 'Group',\n",
       " 'RIM1_vol',\n",
       " 'GluA3_vol',\n",
       " 'NR2B_vol',\n",
       " 'RIMBP_vol',\n",
       " 'GluA2_vol',\n",
       " 'GluA1_vol',\n",
       " 'NR1_vol',\n",
       " 'Shank3_vol',\n",
       " 'Homer1_vol',\n",
       " 'CaMKIIa_vol',\n",
       " 'Cav21_vol',\n",
       " 'GluA4_vol',\n",
       " 'PSD95_vol',\n",
       " 'Bassoon_vol',\n",
       " 'SynGAP_vol',\n",
       " 'IRsp53_vol',\n",
       " 'Stargazin_vol',\n",
       " 'Gephyrin_vol']"
      ]
     },
     "execution_count": 51,
     "metadata": {},
     "output_type": "execute_result"
    }
   ],
   "source": [
    "list(data)"
   ]
  },
  {
   "cell_type": "code",
   "execution_count": 52,
   "id": "697f4023-030d-49fa-b4a6-31c200c98701",
   "metadata": {},
   "outputs": [
    {
     "name": "stdout",
     "output_type": "stream",
     "text": [
      "           Mixed Linear Model Regression Results\n",
      "===========================================================\n",
      "Model:            MixedLM Dependent Variable: Stargazin_vol\n",
      "No. Observations: 17      Method:             REML         \n",
      "No. Groups:       4       Scale:              0.0041       \n",
      "Min. group size:  4       Log-Likelihood:     16.1458      \n",
      "Max. group size:  5       Converged:          Yes          \n",
      "Mean group size:  4.2                                      \n",
      "------------------------------------------------------------\n",
      "               Coef.  Std.Err.    z    P>|z|  [0.025  0.975]\n",
      "------------------------------------------------------------\n",
      "Intercept      0.365     0.049  7.394  0.000   0.268   0.462\n",
      "Group[T.WT]    0.096     0.070  1.363  0.173  -0.042   0.233\n",
      "Group Var      0.004     0.083                              \n",
      "===========================================================\n",
      "\n"
     ]
    },
    {
     "name": "stderr",
     "output_type": "stream",
     "text": [
      "/Users/margaret/miniconda3/envs/lmer/lib/python3.9/site-packages/statsmodels/regression/mixed_linear_model.py:1635: UserWarning: Random effects covariance is singular\n",
      "  warnings.warn(msg)\n",
      "/Users/margaret/miniconda3/envs/lmer/lib/python3.9/site-packages/statsmodels/regression/mixed_linear_model.py:2238: ConvergenceWarning: The MLE may be on the boundary of the parameter space.\n",
      "  warnings.warn(msg, ConvergenceWarning)\n"
     ]
    }
   ],
   "source": [
    "# Run mixed lm for Stargazin\n",
    "md = smf.mixedlm(\"Stargazin_vol ~ Group\", data, groups=data[\"Animal\"])\n",
    "mdf = md.fit(method=[\"lbfgs\"])\n",
    "print(mdf.summary())"
   ]
  },
  {
   "cell_type": "code",
   "execution_count": 53,
   "id": "00342c28-c38e-4cb1-aa29-283d92a0ea8d",
   "metadata": {},
   "outputs": [
    {
     "name": "stdout",
     "output_type": "stream",
     "text": [
      "1.4232786878272134e-13\n",
      "0.17295562073660908\n"
     ]
    }
   ],
   "source": [
    "for x in range (0, 2):\n",
    "    print(mdf.pvalues[x])"
   ]
  },
  {
   "cell_type": "code",
   "execution_count": 54,
   "id": "dde4f534-c512-4a82-b85f-87add6af5152",
   "metadata": {},
   "outputs": [
    {
     "name": "stdout",
     "output_type": "stream",
     "text": [
      "          Mixed Linear Model Regression Results\n",
      "==========================================================\n",
      "Model:            MixedLM Dependent Variable: Gephyrin_vol\n",
      "No. Observations: 17      Method:             REML        \n",
      "No. Groups:       4       Scale:              0.0240      \n",
      "Min. group size:  4       Log-Likelihood:     4.4330      \n",
      "Max. group size:  5       Converged:          Yes         \n",
      "Mean group size:  4.2                                     \n",
      "----------------------------------------------------------\n",
      "                Coef.  Std.Err.   z    P>|z| [0.025 0.975]\n",
      "----------------------------------------------------------\n",
      "Intercept        0.495    0.055  9.030 0.000  0.388  0.603\n",
      "Group[T.WT]     -0.156    0.080 -1.967 0.049 -0.312 -0.001\n",
      "Group Var        0.001    0.044                           \n",
      "==========================================================\n",
      "\n"
     ]
    },
    {
     "name": "stderr",
     "output_type": "stream",
     "text": [
      "/Users/margaret/miniconda3/envs/lmer/lib/python3.9/site-packages/statsmodels/regression/mixed_linear_model.py:1635: UserWarning: Random effects covariance is singular\n",
      "  warnings.warn(msg)\n",
      "/Users/margaret/miniconda3/envs/lmer/lib/python3.9/site-packages/statsmodels/regression/mixed_linear_model.py:2238: ConvergenceWarning: The MLE may be on the boundary of the parameter space.\n",
      "  warnings.warn(msg, ConvergenceWarning)\n"
     ]
    }
   ],
   "source": [
    "# Run mixed lm for Gephyrin\n",
    "md = smf.mixedlm(\"Gephyrin_vol ~ Group\", data, groups=data[\"Animal\"])\n",
    "mdf = md.fit(method=[\"lbfgs\"])\n",
    "print(mdf.summary())"
   ]
  },
  {
   "cell_type": "code",
   "execution_count": 55,
   "id": "42e403c4-7cb0-4881-8e49-7587a4bd8b81",
   "metadata": {},
   "outputs": [
    {
     "name": "stdout",
     "output_type": "stream",
     "text": [
      "1.7191233508555876e-19\n",
      "0.049220121489328736\n"
     ]
    }
   ],
   "source": [
    "for x in range (0, 2):\n",
    "    print(mdf.pvalues[x])"
   ]
  },
  {
   "cell_type": "code",
   "execution_count": null,
   "id": "cdbb8a13-664d-4644-b8d9-4834e7c36d77",
   "metadata": {},
   "outputs": [],
   "source": []
  }
 ],
 "metadata": {
  "kernelspec": {
   "display_name": "Python 3 (ipykernel)",
   "language": "python",
   "name": "python3"
  },
  "language_info": {
   "codemirror_mode": {
    "name": "ipython",
    "version": 3
   },
   "file_extension": ".py",
   "mimetype": "text/x-python",
   "name": "python",
   "nbconvert_exporter": "python",
   "pygments_lexer": "ipython3",
   "version": "3.9.16"
  }
 },
 "nbformat": 4,
 "nbformat_minor": 5
}
