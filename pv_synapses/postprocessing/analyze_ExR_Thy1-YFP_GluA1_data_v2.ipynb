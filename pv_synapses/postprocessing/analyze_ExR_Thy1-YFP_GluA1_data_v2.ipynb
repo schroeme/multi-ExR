{
 "cells": [
  {
   "cell_type": "markdown",
   "metadata": {},
   "source": [
    "# Jupyter notebook analyzing synaptic properties of GluA1 in 2024.07 Thy1-GFP dataset"
   ]
  },
  {
   "cell_type": "markdown",
   "metadata": {},
   "source": [
    "Last edited by MES on 9/1/24"
   ]
  },
  {
   "cell_type": "code",
   "execution_count": 1,
   "metadata": {},
   "outputs": [],
   "source": [
    "#import relevant packages\n",
    "import os\n",
    "import numpy as np\n",
    "#from skimage import io\n",
    "import matplotlib.pyplot as plt\n",
    "import pandas as pd\n",
    "import seaborn as sns\n",
    "from sklearn.decomposition import PCA\n",
    "from sklearn.preprocessing import StandardScaler\n",
    "from sklearn.preprocessing import robust_scale\n",
    "from sklearn.cluster import KMeans\n",
    "import scanpy as sc\n",
    "import anndata\n",
    "#import leidenalg\n",
    "#import igraph as ig\n",
    "from scipy.stats import ttest_ind\n",
    "from scipy.stats import zscore\n",
    "from scipy import stats\n",
    "import scipy.io as sio"
   ]
  },
  {
   "cell_type": "code",
   "execution_count": 2,
   "metadata": {},
   "outputs": [],
   "source": [
    "import warnings\n",
    "warnings.filterwarnings('ignore')"
   ]
  },
  {
   "cell_type": "code",
   "execution_count": 3,
   "metadata": {},
   "outputs": [],
   "source": [
    "def unique(list1): \n",
    "    # insert the list to the set \n",
    "    list_set = set(list1) \n",
    "    # convert the set to the list \n",
    "    unique_list = (list(list_set))\n",
    "    return unique_list"
   ]
  },
  {
   "cell_type": "code",
   "execution_count": 4,
   "metadata": {},
   "outputs": [],
   "source": [
    "parentdir = '/Users/margaret/Dropbox (MIT)/mExR_analysis/SmallData/multiExR_PV_synapses/2024.07_Thy1-YFP_GluA1/'"
   ]
  },
  {
   "cell_type": "code",
   "execution_count": 5,
   "metadata": {},
   "outputs": [],
   "source": [
    "filenames = os.listdir(parentdir)\n",
    "csvs = [filename for filename in filenames if filename.endswith('csv')]"
   ]
  },
  {
   "cell_type": "code",
   "execution_count": 6,
   "metadata": {},
   "outputs": [
    {
     "data": {
      "text/plain": [
       "['ca1_selectedvsunselected_lmer_pvals.csv',\n",
       " 'ssc_selectedvsunselected_lmer_pvals.csv']"
      ]
     },
     "execution_count": 6,
     "metadata": {},
     "output_type": "execute_result"
    }
   ],
   "source": [
    "csvs"
   ]
  },
  {
   "cell_type": "code",
   "execution_count": 7,
   "metadata": {},
   "outputs": [],
   "source": [
    "mats = [filename for filename in filenames if filename.endswith('mat')]"
   ]
  },
  {
   "cell_type": "code",
   "execution_count": 8,
   "metadata": {},
   "outputs": [
    {
     "data": {
      "text/plain": [
       "['analyzed_data_nofilt_20240831.mat',\n",
       " 'analyzed_data_20240818.mat',\n",
       " 'analyzed_data_20240820.mat']"
      ]
     },
     "execution_count": 8,
     "metadata": {},
     "output_type": "execute_result"
    }
   ],
   "source": [
    "mats"
   ]
  },
  {
   "cell_type": "code",
   "execution_count": 9,
   "metadata": {},
   "outputs": [],
   "source": [
    "matfile = sio.loadmat('analyzed_data_nofilt_20240831.mat',squeeze_me=True)"
   ]
  },
  {
   "cell_type": "code",
   "execution_count": 10,
   "metadata": {},
   "outputs": [
    {
     "data": {
      "text/plain": [
       "['__globals__', '__header__', '__version__', 'data']"
      ]
     },
     "execution_count": 10,
     "metadata": {},
     "output_type": "execute_result"
    }
   ],
   "source": [
    "sorted(matfile.keys())"
   ]
  },
  {
   "cell_type": "code",
   "execution_count": 11,
   "metadata": {},
   "outputs": [],
   "source": [
    "matdata = matfile['data']"
   ]
  },
  {
   "cell_type": "code",
   "execution_count": 12,
   "metadata": {},
   "outputs": [
    {
     "data": {
      "text/plain": [
       "array((array(['Thy1GFP-CA1-M1-fov_002-01_pp_syn1',\n",
       "       'Thy1GFP-CA1-M1-fov_002-01_pp_syn2',\n",
       "       'Thy1GFP-CA1-M1-fov_002-01_pp_syn3', ..., array([], dtype=float64),\n",
       "       array([], dtype=float64), array([], dtype=float64)], dtype=object), array([5.61403618e-04, 5.67440216e-05, 1.09866084e-04, ...,\n",
       "       0.00000000e+00, 0.00000000e+00, 0.00000000e+00]), array([343.69247312, 287.46808511, 343.98901099, ...,   0.        ,\n",
       "         0.        ,   0.        ]), array([1, 1, 1, ..., 0, 0, 0], dtype=uint8), array([0, 0, 0, ..., 0, 0, 0], dtype=uint8), array([112.78546224,  13.71675127,  36.23032407, ...,   0.        ,\n",
       "         0.        ,   0.        ])),\n",
       "      dtype=[('names', 'O'), ('total_vol', 'O'), ('mean_int', 'O'), ('npuncta', 'O'), ('selected_tf', 'O'), ('mean_int_refnorm', 'O')])"
      ]
     },
     "execution_count": 12,
     "metadata": {},
     "output_type": "execute_result"
    }
   ],
   "source": [
    "matdata"
   ]
  },
  {
   "cell_type": "code",
   "execution_count": 13,
   "metadata": {},
   "outputs": [],
   "source": [
    "names = matdata['names'].item().tolist()"
   ]
  },
  {
   "cell_type": "code",
   "execution_count": 14,
   "metadata": {},
   "outputs": [],
   "source": [
    "vols = matdata['total_vol'].item()\n",
    "vols = np.reshape(vols, (vols.shape[0],1))"
   ]
  },
  {
   "cell_type": "code",
   "execution_count": 15,
   "metadata": {},
   "outputs": [],
   "source": [
    "ints = matdata['mean_int'].item()\n",
    "ints = np.reshape(ints, (ints.shape[0],1))"
   ]
  },
  {
   "cell_type": "code",
   "execution_count": 16,
   "metadata": {},
   "outputs": [],
   "source": [
    "ns = matdata['npuncta'].item()\n",
    "ns = np.reshape(ns, (ns.shape[0],1))"
   ]
  },
  {
   "cell_type": "code",
   "execution_count": 17,
   "metadata": {},
   "outputs": [],
   "source": [
    "ints_refnorm = matdata['mean_int_refnorm'].item()\n",
    "ints_refnorm = np.reshape(ints_refnorm, (ints_refnorm.shape[0],1))"
   ]
  },
  {
   "cell_type": "code",
   "execution_count": 18,
   "metadata": {},
   "outputs": [],
   "source": [
    "selected_tfs = matdata['selected_tf'].item()\n",
    "selected_tfs = np.reshape(selected_tfs, (selected_tfs.shape[0],1))"
   ]
  },
  {
   "cell_type": "code",
   "execution_count": 19,
   "metadata": {},
   "outputs": [],
   "source": [
    "data_array = np.concatenate((vols,ints,ints_refnorm,ns,selected_tfs), axis=1)"
   ]
  },
  {
   "cell_type": "code",
   "execution_count": 20,
   "metadata": {},
   "outputs": [
    {
     "data": {
      "text/plain": [
       "(56101, 5)"
      ]
     },
     "execution_count": 20,
     "metadata": {},
     "output_type": "execute_result"
    }
   ],
   "source": [
    "data_array.shape"
   ]
  },
  {
   "cell_type": "code",
   "execution_count": 21,
   "metadata": {},
   "outputs": [],
   "source": [
    "data = pd.DataFrame(data_array,index=names,\n",
    "                    columns=['target_vol','target_meanint','target_meanint_refnorm','target_npuncta','selected_tf'])"
   ]
  },
  {
   "cell_type": "code",
   "execution_count": 22,
   "metadata": {},
   "outputs": [
    {
     "data": {
      "text/html": [
       "<div>\n",
       "<style scoped>\n",
       "    .dataframe tbody tr th:only-of-type {\n",
       "        vertical-align: middle;\n",
       "    }\n",
       "\n",
       "    .dataframe tbody tr th {\n",
       "        vertical-align: top;\n",
       "    }\n",
       "\n",
       "    .dataframe thead th {\n",
       "        text-align: right;\n",
       "    }\n",
       "</style>\n",
       "<table border=\"1\" class=\"dataframe\">\n",
       "  <thead>\n",
       "    <tr style=\"text-align: right;\">\n",
       "      <th></th>\n",
       "      <th>target_vol</th>\n",
       "      <th>target_meanint</th>\n",
       "      <th>target_meanint_refnorm</th>\n",
       "      <th>target_npuncta</th>\n",
       "      <th>selected_tf</th>\n",
       "    </tr>\n",
       "  </thead>\n",
       "  <tbody>\n",
       "    <tr>\n",
       "      <th>[]</th>\n",
       "      <td>0.0</td>\n",
       "      <td>0.0</td>\n",
       "      <td>0.0</td>\n",
       "      <td>0.0</td>\n",
       "      <td>0.0</td>\n",
       "    </tr>\n",
       "    <tr>\n",
       "      <th>[]</th>\n",
       "      <td>0.0</td>\n",
       "      <td>0.0</td>\n",
       "      <td>0.0</td>\n",
       "      <td>0.0</td>\n",
       "      <td>0.0</td>\n",
       "    </tr>\n",
       "    <tr>\n",
       "      <th>[]</th>\n",
       "      <td>0.0</td>\n",
       "      <td>0.0</td>\n",
       "      <td>0.0</td>\n",
       "      <td>0.0</td>\n",
       "      <td>0.0</td>\n",
       "    </tr>\n",
       "    <tr>\n",
       "      <th>[]</th>\n",
       "      <td>0.0</td>\n",
       "      <td>0.0</td>\n",
       "      <td>0.0</td>\n",
       "      <td>0.0</td>\n",
       "      <td>0.0</td>\n",
       "    </tr>\n",
       "    <tr>\n",
       "      <th>[]</th>\n",
       "      <td>0.0</td>\n",
       "      <td>0.0</td>\n",
       "      <td>0.0</td>\n",
       "      <td>0.0</td>\n",
       "      <td>0.0</td>\n",
       "    </tr>\n",
       "    <tr>\n",
       "      <th>[]</th>\n",
       "      <td>0.0</td>\n",
       "      <td>0.0</td>\n",
       "      <td>0.0</td>\n",
       "      <td>0.0</td>\n",
       "      <td>0.0</td>\n",
       "    </tr>\n",
       "    <tr>\n",
       "      <th>[]</th>\n",
       "      <td>0.0</td>\n",
       "      <td>0.0</td>\n",
       "      <td>0.0</td>\n",
       "      <td>0.0</td>\n",
       "      <td>0.0</td>\n",
       "    </tr>\n",
       "    <tr>\n",
       "      <th>[]</th>\n",
       "      <td>0.0</td>\n",
       "      <td>0.0</td>\n",
       "      <td>0.0</td>\n",
       "      <td>0.0</td>\n",
       "      <td>0.0</td>\n",
       "    </tr>\n",
       "    <tr>\n",
       "      <th>[]</th>\n",
       "      <td>0.0</td>\n",
       "      <td>0.0</td>\n",
       "      <td>0.0</td>\n",
       "      <td>0.0</td>\n",
       "      <td>0.0</td>\n",
       "    </tr>\n",
       "    <tr>\n",
       "      <th>[]</th>\n",
       "      <td>0.0</td>\n",
       "      <td>0.0</td>\n",
       "      <td>0.0</td>\n",
       "      <td>0.0</td>\n",
       "      <td>0.0</td>\n",
       "    </tr>\n",
       "  </tbody>\n",
       "</table>\n",
       "</div>"
      ],
      "text/plain": [
       "    target_vol  target_meanint  target_meanint_refnorm  target_npuncta  \\\n",
       "[]         0.0             0.0                     0.0             0.0   \n",
       "[]         0.0             0.0                     0.0             0.0   \n",
       "[]         0.0             0.0                     0.0             0.0   \n",
       "[]         0.0             0.0                     0.0             0.0   \n",
       "[]         0.0             0.0                     0.0             0.0   \n",
       "[]         0.0             0.0                     0.0             0.0   \n",
       "[]         0.0             0.0                     0.0             0.0   \n",
       "[]         0.0             0.0                     0.0             0.0   \n",
       "[]         0.0             0.0                     0.0             0.0   \n",
       "[]         0.0             0.0                     0.0             0.0   \n",
       "\n",
       "    selected_tf  \n",
       "[]          0.0  \n",
       "[]          0.0  \n",
       "[]          0.0  \n",
       "[]          0.0  \n",
       "[]          0.0  \n",
       "[]          0.0  \n",
       "[]          0.0  \n",
       "[]          0.0  \n",
       "[]          0.0  \n",
       "[]          0.0  "
      ]
     },
     "execution_count": 22,
     "metadata": {},
     "output_type": "execute_result"
    }
   ],
   "source": [
    "data.tail(10)"
   ]
  },
  {
   "cell_type": "code",
   "execution_count": 23,
   "metadata": {},
   "outputs": [],
   "source": [
    "data = data[data.index != '[]']"
   ]
  },
  {
   "cell_type": "code",
   "execution_count": 24,
   "metadata": {},
   "outputs": [
    {
     "data": {
      "text/html": [
       "<div>\n",
       "<style scoped>\n",
       "    .dataframe tbody tr th:only-of-type {\n",
       "        vertical-align: middle;\n",
       "    }\n",
       "\n",
       "    .dataframe tbody tr th {\n",
       "        vertical-align: top;\n",
       "    }\n",
       "\n",
       "    .dataframe thead th {\n",
       "        text-align: right;\n",
       "    }\n",
       "</style>\n",
       "<table border=\"1\" class=\"dataframe\">\n",
       "  <thead>\n",
       "    <tr style=\"text-align: right;\">\n",
       "      <th></th>\n",
       "      <th>target_vol</th>\n",
       "      <th>target_meanint</th>\n",
       "      <th>target_meanint_refnorm</th>\n",
       "      <th>target_npuncta</th>\n",
       "      <th>selected_tf</th>\n",
       "    </tr>\n",
       "  </thead>\n",
       "  <tbody>\n",
       "    <tr>\n",
       "      <th>Thy1GFP-CA1-M1-fov_002-01_pp_syn1</th>\n",
       "      <td>0.000561</td>\n",
       "      <td>343.692473</td>\n",
       "      <td>112.785462</td>\n",
       "      <td>1.0</td>\n",
       "      <td>0.0</td>\n",
       "    </tr>\n",
       "    <tr>\n",
       "      <th>Thy1GFP-CA1-M1-fov_002-01_pp_syn2</th>\n",
       "      <td>0.000057</td>\n",
       "      <td>287.468085</td>\n",
       "      <td>13.716751</td>\n",
       "      <td>1.0</td>\n",
       "      <td>0.0</td>\n",
       "    </tr>\n",
       "    <tr>\n",
       "      <th>Thy1GFP-CA1-M1-fov_002-01_pp_syn3</th>\n",
       "      <td>0.000110</td>\n",
       "      <td>343.989011</td>\n",
       "      <td>36.230324</td>\n",
       "      <td>1.0</td>\n",
       "      <td>0.0</td>\n",
       "    </tr>\n",
       "    <tr>\n",
       "      <th>Thy1GFP-CA1-M1-fov_002-01_pp_syn4</th>\n",
       "      <td>0.000799</td>\n",
       "      <td>531.060423</td>\n",
       "      <td>325.520370</td>\n",
       "      <td>1.0</td>\n",
       "      <td>0.0</td>\n",
       "    </tr>\n",
       "    <tr>\n",
       "      <th>Thy1GFP-CA1-M1-fov_002-01_pp_syn5</th>\n",
       "      <td>0.000745</td>\n",
       "      <td>397.815235</td>\n",
       "      <td>220.333932</td>\n",
       "      <td>1.0</td>\n",
       "      <td>0.0</td>\n",
       "    </tr>\n",
       "    <tr>\n",
       "      <th>...</th>\n",
       "      <td>...</td>\n",
       "      <td>...</td>\n",
       "      <td>...</td>\n",
       "      <td>...</td>\n",
       "      <td>...</td>\n",
       "    </tr>\n",
       "    <tr>\n",
       "      <th>Thy1GFP-SSC-M2-fov_001-20_pp_syn766</th>\n",
       "      <td>0.000765</td>\n",
       "      <td>205.835962</td>\n",
       "      <td>77.356254</td>\n",
       "      <td>2.0</td>\n",
       "      <td>0.0</td>\n",
       "    </tr>\n",
       "    <tr>\n",
       "      <th>Thy1GFP-SSC-M2-fov_001-20_pp_syn767</th>\n",
       "      <td>0.000016</td>\n",
       "      <td>87.307692</td>\n",
       "      <td>1.056797</td>\n",
       "      <td>2.0</td>\n",
       "      <td>0.0</td>\n",
       "    </tr>\n",
       "    <tr>\n",
       "      <th>Thy1GFP-SSC-M2-fov_001-20_pp_syn768</th>\n",
       "      <td>0.000349</td>\n",
       "      <td>158.439446</td>\n",
       "      <td>48.249737</td>\n",
       "      <td>1.0</td>\n",
       "      <td>0.0</td>\n",
       "    </tr>\n",
       "    <tr>\n",
       "      <th>Thy1GFP-SSC-M2-fov_001-20_pp_syn769</th>\n",
       "      <td>0.000000</td>\n",
       "      <td>0.000000</td>\n",
       "      <td>0.000000</td>\n",
       "      <td>0.0</td>\n",
       "      <td>0.0</td>\n",
       "    </tr>\n",
       "    <tr>\n",
       "      <th>Thy1GFP-SSC-M2-fov_001-20_pp_syn770</th>\n",
       "      <td>0.000147</td>\n",
       "      <td>242.336066</td>\n",
       "      <td>39.737903</td>\n",
       "      <td>1.0</td>\n",
       "      <td>0.0</td>\n",
       "    </tr>\n",
       "  </tbody>\n",
       "</table>\n",
       "<p>51287 rows × 5 columns</p>\n",
       "</div>"
      ],
      "text/plain": [
       "                                     target_vol  target_meanint  \\\n",
       "Thy1GFP-CA1-M1-fov_002-01_pp_syn1      0.000561      343.692473   \n",
       "Thy1GFP-CA1-M1-fov_002-01_pp_syn2      0.000057      287.468085   \n",
       "Thy1GFP-CA1-M1-fov_002-01_pp_syn3      0.000110      343.989011   \n",
       "Thy1GFP-CA1-M1-fov_002-01_pp_syn4      0.000799      531.060423   \n",
       "Thy1GFP-CA1-M1-fov_002-01_pp_syn5      0.000745      397.815235   \n",
       "...                                         ...             ...   \n",
       "Thy1GFP-SSC-M2-fov_001-20_pp_syn766    0.000765      205.835962   \n",
       "Thy1GFP-SSC-M2-fov_001-20_pp_syn767    0.000016       87.307692   \n",
       "Thy1GFP-SSC-M2-fov_001-20_pp_syn768    0.000349      158.439446   \n",
       "Thy1GFP-SSC-M2-fov_001-20_pp_syn769    0.000000        0.000000   \n",
       "Thy1GFP-SSC-M2-fov_001-20_pp_syn770    0.000147      242.336066   \n",
       "\n",
       "                                     target_meanint_refnorm  target_npuncta  \\\n",
       "Thy1GFP-CA1-M1-fov_002-01_pp_syn1                112.785462             1.0   \n",
       "Thy1GFP-CA1-M1-fov_002-01_pp_syn2                 13.716751             1.0   \n",
       "Thy1GFP-CA1-M1-fov_002-01_pp_syn3                 36.230324             1.0   \n",
       "Thy1GFP-CA1-M1-fov_002-01_pp_syn4                325.520370             1.0   \n",
       "Thy1GFP-CA1-M1-fov_002-01_pp_syn5                220.333932             1.0   \n",
       "...                                                     ...             ...   \n",
       "Thy1GFP-SSC-M2-fov_001-20_pp_syn766               77.356254             2.0   \n",
       "Thy1GFP-SSC-M2-fov_001-20_pp_syn767                1.056797             2.0   \n",
       "Thy1GFP-SSC-M2-fov_001-20_pp_syn768               48.249737             1.0   \n",
       "Thy1GFP-SSC-M2-fov_001-20_pp_syn769                0.000000             0.0   \n",
       "Thy1GFP-SSC-M2-fov_001-20_pp_syn770               39.737903             1.0   \n",
       "\n",
       "                                     selected_tf  \n",
       "Thy1GFP-CA1-M1-fov_002-01_pp_syn1            0.0  \n",
       "Thy1GFP-CA1-M1-fov_002-01_pp_syn2            0.0  \n",
       "Thy1GFP-CA1-M1-fov_002-01_pp_syn3            0.0  \n",
       "Thy1GFP-CA1-M1-fov_002-01_pp_syn4            0.0  \n",
       "Thy1GFP-CA1-M1-fov_002-01_pp_syn5            0.0  \n",
       "...                                          ...  \n",
       "Thy1GFP-SSC-M2-fov_001-20_pp_syn766          0.0  \n",
       "Thy1GFP-SSC-M2-fov_001-20_pp_syn767          0.0  \n",
       "Thy1GFP-SSC-M2-fov_001-20_pp_syn768          0.0  \n",
       "Thy1GFP-SSC-M2-fov_001-20_pp_syn769          0.0  \n",
       "Thy1GFP-SSC-M2-fov_001-20_pp_syn770          0.0  \n",
       "\n",
       "[51287 rows x 5 columns]"
      ]
     },
     "execution_count": 24,
     "metadata": {},
     "output_type": "execute_result"
    }
   ],
   "source": [
    "data"
   ]
  },
  {
   "cell_type": "code",
   "execution_count": 25,
   "metadata": {},
   "outputs": [
    {
     "data": {
      "text/plain": [
       "(51287, 5)"
      ]
     },
     "execution_count": 25,
     "metadata": {},
     "output_type": "execute_result"
    }
   ],
   "source": [
    "data.shape"
   ]
  },
  {
   "cell_type": "code",
   "execution_count": 26,
   "metadata": {},
   "outputs": [
    {
     "data": {
      "text/html": [
       "<div>\n",
       "<style scoped>\n",
       "    .dataframe tbody tr th:only-of-type {\n",
       "        vertical-align: middle;\n",
       "    }\n",
       "\n",
       "    .dataframe tbody tr th {\n",
       "        vertical-align: top;\n",
       "    }\n",
       "\n",
       "    .dataframe thead th {\n",
       "        text-align: right;\n",
       "    }\n",
       "</style>\n",
       "<table border=\"1\" class=\"dataframe\">\n",
       "  <thead>\n",
       "    <tr style=\"text-align: right;\">\n",
       "      <th></th>\n",
       "      <th>target_vol</th>\n",
       "      <th>target_meanint</th>\n",
       "      <th>target_meanint_refnorm</th>\n",
       "      <th>target_npuncta</th>\n",
       "      <th>selected_tf</th>\n",
       "    </tr>\n",
       "  </thead>\n",
       "  <tbody>\n",
       "    <tr>\n",
       "      <th>Thy1GFP-CA1-M1-fov_002-01_pp_syn1</th>\n",
       "      <td>0.000561</td>\n",
       "      <td>343.692473</td>\n",
       "      <td>112.785462</td>\n",
       "      <td>1.0</td>\n",
       "      <td>0.0</td>\n",
       "    </tr>\n",
       "    <tr>\n",
       "      <th>Thy1GFP-CA1-M1-fov_002-01_pp_syn2</th>\n",
       "      <td>0.000057</td>\n",
       "      <td>287.468085</td>\n",
       "      <td>13.716751</td>\n",
       "      <td>1.0</td>\n",
       "      <td>0.0</td>\n",
       "    </tr>\n",
       "    <tr>\n",
       "      <th>Thy1GFP-CA1-M1-fov_002-01_pp_syn3</th>\n",
       "      <td>0.000110</td>\n",
       "      <td>343.989011</td>\n",
       "      <td>36.230324</td>\n",
       "      <td>1.0</td>\n",
       "      <td>0.0</td>\n",
       "    </tr>\n",
       "    <tr>\n",
       "      <th>Thy1GFP-CA1-M1-fov_002-01_pp_syn4</th>\n",
       "      <td>0.000799</td>\n",
       "      <td>531.060423</td>\n",
       "      <td>325.520370</td>\n",
       "      <td>1.0</td>\n",
       "      <td>0.0</td>\n",
       "    </tr>\n",
       "    <tr>\n",
       "      <th>Thy1GFP-CA1-M1-fov_002-01_pp_syn5</th>\n",
       "      <td>0.000745</td>\n",
       "      <td>397.815235</td>\n",
       "      <td>220.333932</td>\n",
       "      <td>1.0</td>\n",
       "      <td>0.0</td>\n",
       "    </tr>\n",
       "  </tbody>\n",
       "</table>\n",
       "</div>"
      ],
      "text/plain": [
       "                                   target_vol  target_meanint  \\\n",
       "Thy1GFP-CA1-M1-fov_002-01_pp_syn1    0.000561      343.692473   \n",
       "Thy1GFP-CA1-M1-fov_002-01_pp_syn2    0.000057      287.468085   \n",
       "Thy1GFP-CA1-M1-fov_002-01_pp_syn3    0.000110      343.989011   \n",
       "Thy1GFP-CA1-M1-fov_002-01_pp_syn4    0.000799      531.060423   \n",
       "Thy1GFP-CA1-M1-fov_002-01_pp_syn5    0.000745      397.815235   \n",
       "\n",
       "                                   target_meanint_refnorm  target_npuncta  \\\n",
       "Thy1GFP-CA1-M1-fov_002-01_pp_syn1              112.785462             1.0   \n",
       "Thy1GFP-CA1-M1-fov_002-01_pp_syn2               13.716751             1.0   \n",
       "Thy1GFP-CA1-M1-fov_002-01_pp_syn3               36.230324             1.0   \n",
       "Thy1GFP-CA1-M1-fov_002-01_pp_syn4              325.520370             1.0   \n",
       "Thy1GFP-CA1-M1-fov_002-01_pp_syn5              220.333932             1.0   \n",
       "\n",
       "                                   selected_tf  \n",
       "Thy1GFP-CA1-M1-fov_002-01_pp_syn1          0.0  \n",
       "Thy1GFP-CA1-M1-fov_002-01_pp_syn2          0.0  \n",
       "Thy1GFP-CA1-M1-fov_002-01_pp_syn3          0.0  \n",
       "Thy1GFP-CA1-M1-fov_002-01_pp_syn4          0.0  \n",
       "Thy1GFP-CA1-M1-fov_002-01_pp_syn5          0.0  "
      ]
     },
     "execution_count": 26,
     "metadata": {},
     "output_type": "execute_result"
    }
   ],
   "source": [
    "data.head(5)"
   ]
  },
  {
   "cell_type": "code",
   "execution_count": 27,
   "metadata": {},
   "outputs": [
    {
     "data": {
      "text/plain": [
       "selected_tf\n",
       "0.0    50212\n",
       "1.0     1075\n",
       "Name: count, dtype: int64"
      ]
     },
     "execution_count": 27,
     "metadata": {},
     "output_type": "execute_result"
    }
   ],
   "source": [
    "#How many synapses were selected?\n",
    "data['selected_tf'].value_counts()"
   ]
  },
  {
   "cell_type": "markdown",
   "metadata": {},
   "source": [
    "## 1. Add metadata"
   ]
  },
  {
   "cell_type": "code",
   "execution_count": 28,
   "metadata": {},
   "outputs": [],
   "source": [
    "samples = []\n",
    "regions = []\n",
    "roi_fulls = []\n",
    "fovs = [] \n",
    "syns = []\n",
    "prots = []\n",
    "\n",
    "for idx,row in data.iterrows():\n",
    "    splits = idx.split(\"_\")\n",
    "    splits2 = splits[0].split(\"-\")\n",
    "    #print(splits)\n",
    "    region = splits2[1]\n",
    "    prot = 'GluA1'\n",
    "    sample = splits2[2]\n",
    "    fov = splits[1]\n",
    "    syn = splits[3]\n",
    "\n",
    "    roi_full = sample+\"_\"+prot+\"_\"+fov\n",
    "    \n",
    "    samples.append(sample)\n",
    "    regions.append(region)\n",
    "    roi_fulls.append(roi_full)\n",
    "    fovs.append(fov)\n",
    "    syns.append(syn)\n",
    "    prots.append(prot)"
   ]
  },
  {
   "cell_type": "code",
   "execution_count": 29,
   "metadata": {},
   "outputs": [
    {
     "data": {
      "text/plain": [
       "['M2', 'M1']"
      ]
     },
     "execution_count": 29,
     "metadata": {},
     "output_type": "execute_result"
    }
   ],
   "source": [
    "unique(samples)"
   ]
  },
  {
   "cell_type": "code",
   "execution_count": 30,
   "metadata": {},
   "outputs": [
    {
     "data": {
      "text/plain": [
       "['SSC', 'CA1']"
      ]
     },
     "execution_count": 30,
     "metadata": {},
     "output_type": "execute_result"
    }
   ],
   "source": [
    "unique(regions)"
   ]
  },
  {
   "cell_type": "code",
   "execution_count": 31,
   "metadata": {},
   "outputs": [],
   "source": [
    "data['sample'] = samples\n",
    "data['region'] = regions\n",
    "data['roi_full'] = roi_fulls\n",
    "data['fov'] = fovs\n",
    "data['syn'] = syns\n",
    "data['prot'] = prots"
   ]
  },
  {
   "cell_type": "code",
   "execution_count": 32,
   "metadata": {},
   "outputs": [
    {
     "data": {
      "text/html": [
       "<div>\n",
       "<style scoped>\n",
       "    .dataframe tbody tr th:only-of-type {\n",
       "        vertical-align: middle;\n",
       "    }\n",
       "\n",
       "    .dataframe tbody tr th {\n",
       "        vertical-align: top;\n",
       "    }\n",
       "\n",
       "    .dataframe thead th {\n",
       "        text-align: right;\n",
       "    }\n",
       "</style>\n",
       "<table border=\"1\" class=\"dataframe\">\n",
       "  <thead>\n",
       "    <tr style=\"text-align: right;\">\n",
       "      <th></th>\n",
       "      <th>target_vol</th>\n",
       "      <th>target_meanint</th>\n",
       "      <th>target_meanint_refnorm</th>\n",
       "      <th>target_npuncta</th>\n",
       "      <th>selected_tf</th>\n",
       "      <th>sample</th>\n",
       "      <th>region</th>\n",
       "      <th>roi_full</th>\n",
       "      <th>fov</th>\n",
       "      <th>syn</th>\n",
       "      <th>prot</th>\n",
       "    </tr>\n",
       "  </thead>\n",
       "  <tbody>\n",
       "    <tr>\n",
       "      <th>Thy1GFP-CA1-M1-fov_002-01_pp_syn1</th>\n",
       "      <td>0.000561</td>\n",
       "      <td>343.692473</td>\n",
       "      <td>112.785462</td>\n",
       "      <td>1.0</td>\n",
       "      <td>0.0</td>\n",
       "      <td>M1</td>\n",
       "      <td>CA1</td>\n",
       "      <td>M1_GluA1_002-01</td>\n",
       "      <td>002-01</td>\n",
       "      <td>syn1</td>\n",
       "      <td>GluA1</td>\n",
       "    </tr>\n",
       "    <tr>\n",
       "      <th>Thy1GFP-CA1-M1-fov_002-01_pp_syn2</th>\n",
       "      <td>0.000057</td>\n",
       "      <td>287.468085</td>\n",
       "      <td>13.716751</td>\n",
       "      <td>1.0</td>\n",
       "      <td>0.0</td>\n",
       "      <td>M1</td>\n",
       "      <td>CA1</td>\n",
       "      <td>M1_GluA1_002-01</td>\n",
       "      <td>002-01</td>\n",
       "      <td>syn2</td>\n",
       "      <td>GluA1</td>\n",
       "    </tr>\n",
       "    <tr>\n",
       "      <th>Thy1GFP-CA1-M1-fov_002-01_pp_syn3</th>\n",
       "      <td>0.000110</td>\n",
       "      <td>343.989011</td>\n",
       "      <td>36.230324</td>\n",
       "      <td>1.0</td>\n",
       "      <td>0.0</td>\n",
       "      <td>M1</td>\n",
       "      <td>CA1</td>\n",
       "      <td>M1_GluA1_002-01</td>\n",
       "      <td>002-01</td>\n",
       "      <td>syn3</td>\n",
       "      <td>GluA1</td>\n",
       "    </tr>\n",
       "    <tr>\n",
       "      <th>Thy1GFP-CA1-M1-fov_002-01_pp_syn4</th>\n",
       "      <td>0.000799</td>\n",
       "      <td>531.060423</td>\n",
       "      <td>325.520370</td>\n",
       "      <td>1.0</td>\n",
       "      <td>0.0</td>\n",
       "      <td>M1</td>\n",
       "      <td>CA1</td>\n",
       "      <td>M1_GluA1_002-01</td>\n",
       "      <td>002-01</td>\n",
       "      <td>syn4</td>\n",
       "      <td>GluA1</td>\n",
       "    </tr>\n",
       "    <tr>\n",
       "      <th>Thy1GFP-CA1-M1-fov_002-01_pp_syn5</th>\n",
       "      <td>0.000745</td>\n",
       "      <td>397.815235</td>\n",
       "      <td>220.333932</td>\n",
       "      <td>1.0</td>\n",
       "      <td>0.0</td>\n",
       "      <td>M1</td>\n",
       "      <td>CA1</td>\n",
       "      <td>M1_GluA1_002-01</td>\n",
       "      <td>002-01</td>\n",
       "      <td>syn5</td>\n",
       "      <td>GluA1</td>\n",
       "    </tr>\n",
       "  </tbody>\n",
       "</table>\n",
       "</div>"
      ],
      "text/plain": [
       "                                   target_vol  target_meanint  \\\n",
       "Thy1GFP-CA1-M1-fov_002-01_pp_syn1    0.000561      343.692473   \n",
       "Thy1GFP-CA1-M1-fov_002-01_pp_syn2    0.000057      287.468085   \n",
       "Thy1GFP-CA1-M1-fov_002-01_pp_syn3    0.000110      343.989011   \n",
       "Thy1GFP-CA1-M1-fov_002-01_pp_syn4    0.000799      531.060423   \n",
       "Thy1GFP-CA1-M1-fov_002-01_pp_syn5    0.000745      397.815235   \n",
       "\n",
       "                                   target_meanint_refnorm  target_npuncta  \\\n",
       "Thy1GFP-CA1-M1-fov_002-01_pp_syn1              112.785462             1.0   \n",
       "Thy1GFP-CA1-M1-fov_002-01_pp_syn2               13.716751             1.0   \n",
       "Thy1GFP-CA1-M1-fov_002-01_pp_syn3               36.230324             1.0   \n",
       "Thy1GFP-CA1-M1-fov_002-01_pp_syn4              325.520370             1.0   \n",
       "Thy1GFP-CA1-M1-fov_002-01_pp_syn5              220.333932             1.0   \n",
       "\n",
       "                                   selected_tf sample region         roi_full  \\\n",
       "Thy1GFP-CA1-M1-fov_002-01_pp_syn1          0.0     M1    CA1  M1_GluA1_002-01   \n",
       "Thy1GFP-CA1-M1-fov_002-01_pp_syn2          0.0     M1    CA1  M1_GluA1_002-01   \n",
       "Thy1GFP-CA1-M1-fov_002-01_pp_syn3          0.0     M1    CA1  M1_GluA1_002-01   \n",
       "Thy1GFP-CA1-M1-fov_002-01_pp_syn4          0.0     M1    CA1  M1_GluA1_002-01   \n",
       "Thy1GFP-CA1-M1-fov_002-01_pp_syn5          0.0     M1    CA1  M1_GluA1_002-01   \n",
       "\n",
       "                                      fov   syn   prot  \n",
       "Thy1GFP-CA1-M1-fov_002-01_pp_syn1  002-01  syn1  GluA1  \n",
       "Thy1GFP-CA1-M1-fov_002-01_pp_syn2  002-01  syn2  GluA1  \n",
       "Thy1GFP-CA1-M1-fov_002-01_pp_syn3  002-01  syn3  GluA1  \n",
       "Thy1GFP-CA1-M1-fov_002-01_pp_syn4  002-01  syn4  GluA1  \n",
       "Thy1GFP-CA1-M1-fov_002-01_pp_syn5  002-01  syn5  GluA1  "
      ]
     },
     "execution_count": 32,
     "metadata": {},
     "output_type": "execute_result"
    }
   ],
   "source": [
    "data.head(5)"
   ]
  },
  {
   "cell_type": "code",
   "execution_count": 33,
   "metadata": {},
   "outputs": [
    {
     "data": {
      "text/plain": [
       "(51287, 11)"
      ]
     },
     "execution_count": 33,
     "metadata": {},
     "output_type": "execute_result"
    }
   ],
   "source": [
    "data.shape"
   ]
  },
  {
   "cell_type": "code",
   "execution_count": 34,
   "metadata": {},
   "outputs": [],
   "source": [
    "selected_yns = []\n",
    "for idx,row in data.iterrows():\n",
    "    if row['selected_tf']:\n",
    "        selected_yns.append('selected')\n",
    "    else:\n",
    "        selected_yns.append('unselected')"
   ]
  },
  {
   "cell_type": "code",
   "execution_count": 35,
   "metadata": {},
   "outputs": [],
   "source": [
    "data['group']=selected_yns"
   ]
  },
  {
   "cell_type": "markdown",
   "metadata": {},
   "source": [
    "# Test for statistically significant differences in these properties between synapse types"
   ]
  },
  {
   "cell_type": "code",
   "execution_count": 36,
   "metadata": {},
   "outputs": [],
   "source": [
    "import statsmodels.api as sm\n",
    "import statsmodels.formula.api as smf"
   ]
  },
  {
   "cell_type": "code",
   "execution_count": 37,
   "metadata": {},
   "outputs": [
    {
     "data": {
      "text/plain": [
       "['target_vol',\n",
       " 'target_meanint',\n",
       " 'target_meanint_refnorm',\n",
       " 'target_npuncta',\n",
       " 'selected_tf',\n",
       " 'sample',\n",
       " 'region',\n",
       " 'roi_full',\n",
       " 'fov',\n",
       " 'syn',\n",
       " 'prot',\n",
       " 'group']"
      ]
     },
     "execution_count": 37,
     "metadata": {},
     "output_type": "execute_result"
    }
   ],
   "source": [
    "list(data)"
   ]
  },
  {
   "cell_type": "code",
   "execution_count": 38,
   "metadata": {},
   "outputs": [
    {
     "data": {
      "text/plain": [
       "0.003125"
      ]
     },
     "execution_count": 38,
     "metadata": {},
     "output_type": "execute_result"
    }
   ],
   "source": [
    "#approximate new alpha?\n",
    "0.05 / (4*4)"
   ]
  },
  {
   "cell_type": "code",
   "execution_count": 39,
   "metadata": {},
   "outputs": [],
   "source": [
    "unadjusted_pvals = []\n",
    "zscores = []"
   ]
  },
  {
   "cell_type": "markdown",
   "metadata": {},
   "source": [
    "## 1. SSC"
   ]
  },
  {
   "cell_type": "code",
   "execution_count": 40,
   "metadata": {},
   "outputs": [],
   "source": [
    "data_ctx = data[data['region']=='SSC']"
   ]
  },
  {
   "cell_type": "code",
   "execution_count": 41,
   "metadata": {},
   "outputs": [
    {
     "data": {
      "text/html": [
       "<div>\n",
       "<style scoped>\n",
       "    .dataframe tbody tr th:only-of-type {\n",
       "        vertical-align: middle;\n",
       "    }\n",
       "\n",
       "    .dataframe tbody tr th {\n",
       "        vertical-align: top;\n",
       "    }\n",
       "\n",
       "    .dataframe thead th {\n",
       "        text-align: right;\n",
       "    }\n",
       "</style>\n",
       "<table border=\"1\" class=\"dataframe\">\n",
       "  <thead>\n",
       "    <tr style=\"text-align: right;\">\n",
       "      <th></th>\n",
       "      <th>target_vol</th>\n",
       "      <th>target_meanint</th>\n",
       "      <th>target_meanint_refnorm</th>\n",
       "      <th>target_npuncta</th>\n",
       "      <th>selected_tf</th>\n",
       "      <th>sample</th>\n",
       "      <th>region</th>\n",
       "      <th>roi_full</th>\n",
       "      <th>fov</th>\n",
       "      <th>syn</th>\n",
       "      <th>prot</th>\n",
       "      <th>group</th>\n",
       "    </tr>\n",
       "  </thead>\n",
       "  <tbody>\n",
       "    <tr>\n",
       "      <th>Thy1GFP-SSC-M1-fov_000-07_pp_syn1</th>\n",
       "      <td>0.000167</td>\n",
       "      <td>126.978261</td>\n",
       "      <td>19.867347</td>\n",
       "      <td>1.0</td>\n",
       "      <td>0.0</td>\n",
       "      <td>M1</td>\n",
       "      <td>SSC</td>\n",
       "      <td>M1_GluA1_000-07</td>\n",
       "      <td>000-07</td>\n",
       "      <td>syn1</td>\n",
       "      <td>GluA1</td>\n",
       "      <td>unselected</td>\n",
       "    </tr>\n",
       "    <tr>\n",
       "      <th>Thy1GFP-SSC-M1-fov_000-07_pp_syn2</th>\n",
       "      <td>0.000000</td>\n",
       "      <td>0.000000</td>\n",
       "      <td>0.000000</td>\n",
       "      <td>0.0</td>\n",
       "      <td>0.0</td>\n",
       "      <td>M1</td>\n",
       "      <td>SSC</td>\n",
       "      <td>M1_GluA1_000-07</td>\n",
       "      <td>000-07</td>\n",
       "      <td>syn2</td>\n",
       "      <td>GluA1</td>\n",
       "      <td>unselected</td>\n",
       "    </tr>\n",
       "    <tr>\n",
       "      <th>Thy1GFP-SSC-M1-fov_000-07_pp_syn3</th>\n",
       "      <td>0.000069</td>\n",
       "      <td>157.105263</td>\n",
       "      <td>10.854545</td>\n",
       "      <td>1.0</td>\n",
       "      <td>0.0</td>\n",
       "      <td>M1</td>\n",
       "      <td>SSC</td>\n",
       "      <td>M1_GluA1_000-07</td>\n",
       "      <td>000-07</td>\n",
       "      <td>syn3</td>\n",
       "      <td>GluA1</td>\n",
       "      <td>unselected</td>\n",
       "    </tr>\n",
       "    <tr>\n",
       "      <th>Thy1GFP-SSC-M1-fov_000-07_pp_syn4</th>\n",
       "      <td>0.000787</td>\n",
       "      <td>193.562883</td>\n",
       "      <td>60.125298</td>\n",
       "      <td>1.0</td>\n",
       "      <td>0.0</td>\n",
       "      <td>M1</td>\n",
       "      <td>SSC</td>\n",
       "      <td>M1_GluA1_000-07</td>\n",
       "      <td>000-07</td>\n",
       "      <td>syn4</td>\n",
       "      <td>GluA1</td>\n",
       "      <td>unselected</td>\n",
       "    </tr>\n",
       "    <tr>\n",
       "      <th>Thy1GFP-SSC-M1-fov_000-07_pp_syn5</th>\n",
       "      <td>0.001501</td>\n",
       "      <td>294.914722</td>\n",
       "      <td>151.166598</td>\n",
       "      <td>1.0</td>\n",
       "      <td>0.0</td>\n",
       "      <td>M1</td>\n",
       "      <td>SSC</td>\n",
       "      <td>M1_GluA1_000-07</td>\n",
       "      <td>000-07</td>\n",
       "      <td>syn5</td>\n",
       "      <td>GluA1</td>\n",
       "      <td>unselected</td>\n",
       "    </tr>\n",
       "  </tbody>\n",
       "</table>\n",
       "</div>"
      ],
      "text/plain": [
       "                                   target_vol  target_meanint  \\\n",
       "Thy1GFP-SSC-M1-fov_000-07_pp_syn1    0.000167      126.978261   \n",
       "Thy1GFP-SSC-M1-fov_000-07_pp_syn2    0.000000        0.000000   \n",
       "Thy1GFP-SSC-M1-fov_000-07_pp_syn3    0.000069      157.105263   \n",
       "Thy1GFP-SSC-M1-fov_000-07_pp_syn4    0.000787      193.562883   \n",
       "Thy1GFP-SSC-M1-fov_000-07_pp_syn5    0.001501      294.914722   \n",
       "\n",
       "                                   target_meanint_refnorm  target_npuncta  \\\n",
       "Thy1GFP-SSC-M1-fov_000-07_pp_syn1               19.867347             1.0   \n",
       "Thy1GFP-SSC-M1-fov_000-07_pp_syn2                0.000000             0.0   \n",
       "Thy1GFP-SSC-M1-fov_000-07_pp_syn3               10.854545             1.0   \n",
       "Thy1GFP-SSC-M1-fov_000-07_pp_syn4               60.125298             1.0   \n",
       "Thy1GFP-SSC-M1-fov_000-07_pp_syn5              151.166598             1.0   \n",
       "\n",
       "                                   selected_tf sample region         roi_full  \\\n",
       "Thy1GFP-SSC-M1-fov_000-07_pp_syn1          0.0     M1    SSC  M1_GluA1_000-07   \n",
       "Thy1GFP-SSC-M1-fov_000-07_pp_syn2          0.0     M1    SSC  M1_GluA1_000-07   \n",
       "Thy1GFP-SSC-M1-fov_000-07_pp_syn3          0.0     M1    SSC  M1_GluA1_000-07   \n",
       "Thy1GFP-SSC-M1-fov_000-07_pp_syn4          0.0     M1    SSC  M1_GluA1_000-07   \n",
       "Thy1GFP-SSC-M1-fov_000-07_pp_syn5          0.0     M1    SSC  M1_GluA1_000-07   \n",
       "\n",
       "                                      fov   syn   prot       group  \n",
       "Thy1GFP-SSC-M1-fov_000-07_pp_syn1  000-07  syn1  GluA1  unselected  \n",
       "Thy1GFP-SSC-M1-fov_000-07_pp_syn2  000-07  syn2  GluA1  unselected  \n",
       "Thy1GFP-SSC-M1-fov_000-07_pp_syn3  000-07  syn3  GluA1  unselected  \n",
       "Thy1GFP-SSC-M1-fov_000-07_pp_syn4  000-07  syn4  GluA1  unselected  \n",
       "Thy1GFP-SSC-M1-fov_000-07_pp_syn5  000-07  syn5  GluA1  unselected  "
      ]
     },
     "execution_count": 41,
     "metadata": {},
     "output_type": "execute_result"
    }
   ],
   "source": [
    "data_ctx.head(5)"
   ]
  },
  {
   "cell_type": "code",
   "execution_count": 42,
   "metadata": {},
   "outputs": [
    {
     "data": {
      "text/plain": [
       "prot\n",
       "GluA1    21531\n",
       "Name: count, dtype: int64"
      ]
     },
     "execution_count": 42,
     "metadata": {},
     "output_type": "execute_result"
    }
   ],
   "source": [
    "data_ctx['prot'].value_counts()"
   ]
  },
  {
   "cell_type": "code",
   "execution_count": null,
   "metadata": {},
   "outputs": [],
   "source": []
  },
  {
   "cell_type": "markdown",
   "metadata": {},
   "source": [
    "### 2. GluA1"
   ]
  },
  {
   "cell_type": "code",
   "execution_count": 43,
   "metadata": {},
   "outputs": [],
   "source": [
    "data_ctx_a1 = data_ctx[data_ctx['prot']=='GluA1']"
   ]
  },
  {
   "cell_type": "code",
   "execution_count": 44,
   "metadata": {},
   "outputs": [
    {
     "name": "stdout",
     "output_type": "stream",
     "text": [
      "            Mixed Linear Model Regression Results\n",
      "==============================================================\n",
      "Model:               MixedLM  Dependent Variable:  target_vol \n",
      "No. Observations:    21531    Method:              REML       \n",
      "No. Groups:          26       Scale:               0.0000     \n",
      "Min. group size:     248      Log-Likelihood:      127841.2548\n",
      "Max. group size:     1088     Converged:           Yes        \n",
      "Mean group size:     828.1                                    \n",
      "--------------------------------------------------------------\n",
      "                    Coef.  Std.Err.   z    P>|z| [0.025 0.975]\n",
      "--------------------------------------------------------------\n",
      "Intercept            0.000    0.000 13.650 0.000  0.000  0.000\n",
      "group[T.unselected] -0.000    0.000 -2.626 0.009 -0.000 -0.000\n",
      "Group Var            0.000    0.000                           \n",
      "==============================================================\n",
      "\n"
     ]
    },
    {
     "name": "stderr",
     "output_type": "stream",
     "text": [
      "/Users/margaret/miniconda3/envs/scanpy_new/lib/python3.9/site-packages/statsmodels/regression/mixed_linear_model.py:2237: ConvergenceWarning: The MLE may be on the boundary of the parameter space.\n",
      "  warnings.warn(msg, ConvergenceWarning)\n"
     ]
    }
   ],
   "source": [
    "# Run mixed lm for target\n",
    "md = smf.mixedlm(\"target_vol ~ group\", data_ctx_a1, groups=data_ctx_a1[\"roi_full\"])\n",
    "mdf = md.fit(method=[\"lbfgs\"])\n",
    "print(mdf.summary())"
   ]
  },
  {
   "cell_type": "code",
   "execution_count": 45,
   "metadata": {},
   "outputs": [
    {
     "name": "stdout",
     "output_type": "stream",
     "text": [
      "2.0142504947214207e-42\n",
      "0.008631268552808827\n"
     ]
    }
   ],
   "source": [
    "for x in range (0, 2):\n",
    "    print(mdf.pvalues[x])\n",
    "unadjusted_pvals.append(mdf.pvalues[1]) #add this p-value to the vector for adjustment later\n",
    "\n",
    "params_table = mdf.summary().tables[1] #got line from ChatGPT\n",
    "zscores.append(np.float32(params_table['z'][1]))#add the zscore to vector to have it for the pval table"
   ]
  },
  {
   "cell_type": "code",
   "execution_count": 46,
   "metadata": {},
   "outputs": [
    {
     "name": "stdout",
     "output_type": "stream",
     "text": [
      "               Mixed Linear Model Regression Results\n",
      "====================================================================\n",
      "Model:            MixedLM Dependent Variable: target_meanint_refnorm\n",
      "No. Observations: 21531   Method:             REML                  \n",
      "No. Groups:       26      Scale:              3005.7595             \n",
      "Min. group size:  248     Log-Likelihood:     -116785.5862          \n",
      "Max. group size:  1088    Converged:          Yes                   \n",
      "Mean group size:  828.1                                             \n",
      "---------------------------------------------------------------------\n",
      "                       Coef.   Std.Err.    z    P>|z|  [0.025  0.975]\n",
      "---------------------------------------------------------------------\n",
      "Intercept              20.486     2.517  8.138  0.000  15.553  25.420\n",
      "group[T.unselected]     3.893     2.376  1.638  0.101  -0.765   8.550\n",
      "Group Var              21.494     0.129                              \n",
      "====================================================================\n",
      "\n"
     ]
    }
   ],
   "source": [
    "# Run mixed lm for target mean intensity, normalized to reference\n",
    "md = smf.mixedlm(\"target_meanint_refnorm ~ group\", data_ctx_a1, groups=data_ctx_a1[\"roi_full\"])\n",
    "mdf = md.fit(method=[\"lbfgs\"])\n",
    "print(mdf.summary())"
   ]
  },
  {
   "cell_type": "code",
   "execution_count": 47,
   "metadata": {},
   "outputs": [
    {
     "name": "stdout",
     "output_type": "stream",
     "text": [
      "4.005430537503646e-16\n",
      "0.10138312556103315\n"
     ]
    }
   ],
   "source": [
    "for x in range (0, 2):\n",
    "    print(mdf.pvalues[x])\n",
    "unadjusted_pvals.append(mdf.pvalues[1]) #add this p-value to the vector for adjustment later\n",
    "\n",
    "params_table = mdf.summary().tables[1] #got line from ChatGPT\n",
    "zscores.append(np.float32(params_table['z'][1]))#add the zscore to vector to have it for the pval table"
   ]
  },
  {
   "cell_type": "code",
   "execution_count": null,
   "metadata": {},
   "outputs": [],
   "source": []
  },
  {
   "cell_type": "markdown",
   "metadata": {},
   "source": [
    "#### Compile p-values"
   ]
  },
  {
   "cell_type": "code",
   "execution_count": 48,
   "metadata": {},
   "outputs": [],
   "source": [
    "pvals_df_index = [\n",
    "      'GluA1_vol',\n",
    "    'GluA1_meanint_refnorm'\n",
    "]"
   ]
  },
  {
   "cell_type": "code",
   "execution_count": 49,
   "metadata": {},
   "outputs": [],
   "source": [
    "pvals_df = pd.DataFrame(unadjusted_pvals,index=pvals_df_index,columns=['p_unadjusted'])"
   ]
  },
  {
   "cell_type": "code",
   "execution_count": 50,
   "metadata": {},
   "outputs": [],
   "source": [
    "pvals_df['zscore_unselected'] = zscores"
   ]
  },
  {
   "cell_type": "markdown",
   "metadata": {},
   "source": [
    "### Create bar plots for each of these measures"
   ]
  },
  {
   "cell_type": "markdown",
   "metadata": {},
   "source": [
    "#### Adjust p-values"
   ]
  },
  {
   "cell_type": "code",
   "execution_count": 51,
   "metadata": {},
   "outputs": [],
   "source": [
    "pvals_df['p_adjusted'] = stats.false_discovery_control(pvals_df['p_unadjusted'])\n",
    "pvals_df['significant'] = pvals_df['p_adjusted'] < 0.05\n",
    "pvals_df.to_csv(parentdir + 'ssc_selectedvsunselected_lmer_pvals.csv')"
   ]
  },
  {
   "cell_type": "code",
   "execution_count": 52,
   "metadata": {},
   "outputs": [],
   "source": [
    "prots = unique(data['prot'])"
   ]
  },
  {
   "cell_type": "code",
   "execution_count": 53,
   "metadata": {},
   "outputs": [
    {
     "data": {
      "text/plain": [
       "['GluA1']"
      ]
     },
     "execution_count": 53,
     "metadata": {},
     "output_type": "execute_result"
    }
   ],
   "source": [
    "prots"
   ]
  },
  {
   "cell_type": "code",
   "execution_count": 54,
   "metadata": {},
   "outputs": [],
   "source": [
    "values = ['target_vol','target_meanint_refnorm']"
   ]
  },
  {
   "cell_type": "code",
   "execution_count": 55,
   "metadata": {},
   "outputs": [],
   "source": [
    "group_colors = ['red','blue']"
   ]
  },
  {
   "cell_type": "code",
   "execution_count": 56,
   "metadata": {},
   "outputs": [
    {
     "data": {
      "text/html": [
       "<div>\n",
       "<style scoped>\n",
       "    .dataframe tbody tr th:only-of-type {\n",
       "        vertical-align: middle;\n",
       "    }\n",
       "\n",
       "    .dataframe tbody tr th {\n",
       "        vertical-align: top;\n",
       "    }\n",
       "\n",
       "    .dataframe thead th {\n",
       "        text-align: right;\n",
       "    }\n",
       "</style>\n",
       "<table border=\"1\" class=\"dataframe\">\n",
       "  <thead>\n",
       "    <tr style=\"text-align: right;\">\n",
       "      <th></th>\n",
       "      <th>p_unadjusted</th>\n",
       "      <th>zscore_unselected</th>\n",
       "      <th>p_adjusted</th>\n",
       "      <th>significant</th>\n",
       "    </tr>\n",
       "  </thead>\n",
       "  <tbody>\n",
       "    <tr>\n",
       "      <th>GluA1_vol</th>\n",
       "      <td>0.008631</td>\n",
       "      <td>-2.626</td>\n",
       "      <td>0.017263</td>\n",
       "      <td>True</td>\n",
       "    </tr>\n",
       "    <tr>\n",
       "      <th>GluA1_meanint_refnorm</th>\n",
       "      <td>0.101383</td>\n",
       "      <td>1.638</td>\n",
       "      <td>0.101383</td>\n",
       "      <td>False</td>\n",
       "    </tr>\n",
       "  </tbody>\n",
       "</table>\n",
       "</div>"
      ],
      "text/plain": [
       "                       p_unadjusted  zscore_unselected  p_adjusted  \\\n",
       "GluA1_vol                  0.008631             -2.626    0.017263   \n",
       "GluA1_meanint_refnorm      0.101383              1.638    0.101383   \n",
       "\n",
       "                       significant  \n",
       "GluA1_vol                     True  \n",
       "GluA1_meanint_refnorm        False  "
      ]
     },
     "execution_count": 56,
     "metadata": {},
     "output_type": "execute_result"
    }
   ],
   "source": [
    "pvals_df"
   ]
  },
  {
   "cell_type": "code",
   "execution_count": 57,
   "metadata": {},
   "outputs": [
    {
     "data": {
      "image/png": "[encoded data removed]",
      "text/plain": [
       "<Figure size 600x400 with 1 Axes>"
      ]
     },
     "metadata": {},
     "output_type": "display_data"
    },
    {
     "data": {
      "image/png": "[encoded data removed]",
      "text/plain": [
       "<Figure size 600x400 with 1 Axes>"
      ]
     },
     "metadata": {},
     "output_type": "display_data"
    }
   ],
   "source": [
    "# Code generated by ChatGPT (4.0) on 6/9/24 by MES, also modified by MES\n",
    "\n",
    "import pandas as pd\n",
    "import seaborn as sns\n",
    "import matplotlib.pyplot as plt\n",
    "from scipy import stats\n",
    "\n",
    "# Assuming your data_ctxFrame with data_ctx is named 'data_ctx'\n",
    "# and the data frame with significance information is named 'pvals_df'\n",
    "# pvals_df should have an index matching the numerical variable names in 'data_ctx'\n",
    "\n",
    "# Example data_ctxFrames (uncomment and adjust according to your actual data_ctx)\n",
    "# data_ctx = pd.read_csv('your_data_ctx.csv')\n",
    "# pvals_df = pd.read_csv('your_significance_data_ctx.csv')\n",
    "\n",
    "# Identify numerical columns in 'data_ctx'\n",
    "numerical_columns = data_ctx.select_dtypes(include='number').columns\n",
    "\n",
    "# Get unique values of 'group'\n",
    "types = data_ctx['group'].unique()\n",
    "\n",
    "# Function to calculate SEM\n",
    "def sem(x):\n",
    "    return stats.sem(x, nan_policy='omit')\n",
    "\n",
    "# Function to determine the number of asterisks based on p-value\n",
    "def get_significance_asterisks(p_value):\n",
    "    if p_value < 0.0001:\n",
    "        return '****'\n",
    "    elif p_value < 0.001:\n",
    "        return '***'\n",
    "    elif p_value < 0.01:\n",
    "        return '**'\n",
    "    elif p_value < 0.05:\n",
    "        return '*'\n",
    "    else:\n",
    "        return ''\n",
    "\n",
    "# Create bar plots for each numerical variable\n",
    "for prot in prots:\n",
    "    for col in values:\n",
    "        data_temp = data_ctx[data_ctx['prot']==prot]\n",
    "        plt.figure(figsize=(6, 4))\n",
    "        ax = sns.barplot(x='group', y=col, data=data_temp, ci=None, palette=group_colors)  # Suppress default error bars\n",
    "        \n",
    "        # Add individual data_ctx points\n",
    "        sns.stripplot(x='group', y=col, data=data_temp, color='black', size=5, jitter=True, ax=ax, alpha = 0.2)\n",
    "        \n",
    "        # Calculate and plot error bars (mean ± SEM)\n",
    "        means = data_temp.groupby('group')[col].mean()\n",
    "        sems = data_temp.groupby('group')[col].apply(sem)\n",
    "        for i, type_val in enumerate(types):\n",
    "           plt.errorbar(i, means[type_val], yerr=sems[type_val], fmt='none', c='black', capsize=5)\n",
    "    \n",
    "        # Add significance asterisks if applicable\n",
    "        if len(col.split(\"_\")) > 2:\n",
    "            value_name = prot + '_' + col.split(\"_\")[1] + '_' + col.split(\"_\")[2]\n",
    "        else:\n",
    "            value_name = prot + '_' + col.split(\"_\")[1]\n",
    "        \n",
    "        if value_name in pvals_df.index and pvals_df.loc[value_name, 'significant'] == True:\n",
    "            p_value = pvals_df.loc[value_name, 'p_adjusted']\n",
    "            asterisks = get_significance_asterisks(p_value)\n",
    "            if asterisks:\n",
    "                max_y = data_temp[col].max()\n",
    "                # Position the asterisks above the highest data_temp point\n",
    "                y = max_y + sems.max() + 0.1 * max_y\n",
    "                plt.plot([0, 1], [y, y], color='black', lw=1)  # horizontal line\n",
    "                plt.text(0.5, y, asterisks, ha='center', va='bottom', color='black')\n",
    "    \n",
    "        # Adjust y-axis to add space for asterisks\n",
    "        current_ylim = plt.ylim()\n",
    "        plt.ylim(current_ylim[0], current_ylim[1] * 1.1)\n",
    "    \n",
    "        plt.grid(False) #remove gridlines\n",
    "        \n",
    "        # Set plot title and labels\n",
    "        # plt.title(f'Bar Plot for {col}')\n",
    "        #plt.xlabel('Group')\n",
    "        plt.ylabel(value_name)\n",
    "    \n",
    "        # Save plot\n",
    "        plt.savefig(parentdir + '/SSC_barplots/' + col + '_' + prot + '.svg',dpi=800,bbox_inches='tight')\n",
    "        plt.savefig(parentdir + '/SSC_barplots/' + col + '_' + prot + '.png',dpi=800,bbox_inches='tight')\n",
    "        \n",
    "        # Show plot\n",
    "        plt.show()"
   ]
  },
  {
   "cell_type": "code",
   "execution_count": null,
   "metadata": {},
   "outputs": [],
   "source": []
  },
  {
   "cell_type": "markdown",
   "metadata": {},
   "source": [
    "## 2. CA1"
   ]
  },
  {
   "cell_type": "code",
   "execution_count": 58,
   "metadata": {},
   "outputs": [],
   "source": [
    "unadjusted_pvals = []\n",
    "zscores = []"
   ]
  },
  {
   "cell_type": "code",
   "execution_count": 59,
   "metadata": {},
   "outputs": [
    {
     "data": {
      "text/plain": [
       "region\n",
       "CA1    29756\n",
       "SSC    21531\n",
       "Name: count, dtype: int64"
      ]
     },
     "execution_count": 59,
     "metadata": {},
     "output_type": "execute_result"
    }
   ],
   "source": [
    "data['region'].value_counts()"
   ]
  },
  {
   "cell_type": "code",
   "execution_count": 60,
   "metadata": {},
   "outputs": [],
   "source": [
    "data_ca1 = data[data['region']=='CA1']"
   ]
  },
  {
   "cell_type": "code",
   "execution_count": 61,
   "metadata": {},
   "outputs": [
    {
     "data": {
      "text/html": [
       "<div>\n",
       "<style scoped>\n",
       "    .dataframe tbody tr th:only-of-type {\n",
       "        vertical-align: middle;\n",
       "    }\n",
       "\n",
       "    .dataframe tbody tr th {\n",
       "        vertical-align: top;\n",
       "    }\n",
       "\n",
       "    .dataframe thead th {\n",
       "        text-align: right;\n",
       "    }\n",
       "</style>\n",
       "<table border=\"1\" class=\"dataframe\">\n",
       "  <thead>\n",
       "    <tr style=\"text-align: right;\">\n",
       "      <th></th>\n",
       "      <th>target_vol</th>\n",
       "      <th>target_meanint</th>\n",
       "      <th>target_meanint_refnorm</th>\n",
       "      <th>target_npuncta</th>\n",
       "      <th>selected_tf</th>\n",
       "      <th>sample</th>\n",
       "      <th>region</th>\n",
       "      <th>roi_full</th>\n",
       "      <th>fov</th>\n",
       "      <th>syn</th>\n",
       "      <th>prot</th>\n",
       "      <th>group</th>\n",
       "    </tr>\n",
       "  </thead>\n",
       "  <tbody>\n",
       "    <tr>\n",
       "      <th>Thy1GFP-CA1-M1-fov_002-01_pp_syn1</th>\n",
       "      <td>0.000561</td>\n",
       "      <td>343.692473</td>\n",
       "      <td>112.785462</td>\n",
       "      <td>1.0</td>\n",
       "      <td>0.0</td>\n",
       "      <td>M1</td>\n",
       "      <td>CA1</td>\n",
       "      <td>M1_GluA1_002-01</td>\n",
       "      <td>002-01</td>\n",
       "      <td>syn1</td>\n",
       "      <td>GluA1</td>\n",
       "      <td>unselected</td>\n",
       "    </tr>\n",
       "    <tr>\n",
       "      <th>Thy1GFP-CA1-M1-fov_002-01_pp_syn2</th>\n",
       "      <td>0.000057</td>\n",
       "      <td>287.468085</td>\n",
       "      <td>13.716751</td>\n",
       "      <td>1.0</td>\n",
       "      <td>0.0</td>\n",
       "      <td>M1</td>\n",
       "      <td>CA1</td>\n",
       "      <td>M1_GluA1_002-01</td>\n",
       "      <td>002-01</td>\n",
       "      <td>syn2</td>\n",
       "      <td>GluA1</td>\n",
       "      <td>unselected</td>\n",
       "    </tr>\n",
       "    <tr>\n",
       "      <th>Thy1GFP-CA1-M1-fov_002-01_pp_syn3</th>\n",
       "      <td>0.000110</td>\n",
       "      <td>343.989011</td>\n",
       "      <td>36.230324</td>\n",
       "      <td>1.0</td>\n",
       "      <td>0.0</td>\n",
       "      <td>M1</td>\n",
       "      <td>CA1</td>\n",
       "      <td>M1_GluA1_002-01</td>\n",
       "      <td>002-01</td>\n",
       "      <td>syn3</td>\n",
       "      <td>GluA1</td>\n",
       "      <td>unselected</td>\n",
       "    </tr>\n",
       "    <tr>\n",
       "      <th>Thy1GFP-CA1-M1-fov_002-01_pp_syn4</th>\n",
       "      <td>0.000799</td>\n",
       "      <td>531.060423</td>\n",
       "      <td>325.520370</td>\n",
       "      <td>1.0</td>\n",
       "      <td>0.0</td>\n",
       "      <td>M1</td>\n",
       "      <td>CA1</td>\n",
       "      <td>M1_GluA1_002-01</td>\n",
       "      <td>002-01</td>\n",
       "      <td>syn4</td>\n",
       "      <td>GluA1</td>\n",
       "      <td>unselected</td>\n",
       "    </tr>\n",
       "    <tr>\n",
       "      <th>Thy1GFP-CA1-M1-fov_002-01_pp_syn5</th>\n",
       "      <td>0.000745</td>\n",
       "      <td>397.815235</td>\n",
       "      <td>220.333932</td>\n",
       "      <td>1.0</td>\n",
       "      <td>0.0</td>\n",
       "      <td>M1</td>\n",
       "      <td>CA1</td>\n",
       "      <td>M1_GluA1_002-01</td>\n",
       "      <td>002-01</td>\n",
       "      <td>syn5</td>\n",
       "      <td>GluA1</td>\n",
       "      <td>unselected</td>\n",
       "    </tr>\n",
       "  </tbody>\n",
       "</table>\n",
       "</div>"
      ],
      "text/plain": [
       "                                   target_vol  target_meanint  \\\n",
       "Thy1GFP-CA1-M1-fov_002-01_pp_syn1    0.000561      343.692473   \n",
       "Thy1GFP-CA1-M1-fov_002-01_pp_syn2    0.000057      287.468085   \n",
       "Thy1GFP-CA1-M1-fov_002-01_pp_syn3    0.000110      343.989011   \n",
       "Thy1GFP-CA1-M1-fov_002-01_pp_syn4    0.000799      531.060423   \n",
       "Thy1GFP-CA1-M1-fov_002-01_pp_syn5    0.000745      397.815235   \n",
       "\n",
       "                                   target_meanint_refnorm  target_npuncta  \\\n",
       "Thy1GFP-CA1-M1-fov_002-01_pp_syn1              112.785462             1.0   \n",
       "Thy1GFP-CA1-M1-fov_002-01_pp_syn2               13.716751             1.0   \n",
       "Thy1GFP-CA1-M1-fov_002-01_pp_syn3               36.230324             1.0   \n",
       "Thy1GFP-CA1-M1-fov_002-01_pp_syn4              325.520370             1.0   \n",
       "Thy1GFP-CA1-M1-fov_002-01_pp_syn5              220.333932             1.0   \n",
       "\n",
       "                                   selected_tf sample region         roi_full  \\\n",
       "Thy1GFP-CA1-M1-fov_002-01_pp_syn1          0.0     M1    CA1  M1_GluA1_002-01   \n",
       "Thy1GFP-CA1-M1-fov_002-01_pp_syn2          0.0     M1    CA1  M1_GluA1_002-01   \n",
       "Thy1GFP-CA1-M1-fov_002-01_pp_syn3          0.0     M1    CA1  M1_GluA1_002-01   \n",
       "Thy1GFP-CA1-M1-fov_002-01_pp_syn4          0.0     M1    CA1  M1_GluA1_002-01   \n",
       "Thy1GFP-CA1-M1-fov_002-01_pp_syn5          0.0     M1    CA1  M1_GluA1_002-01   \n",
       "\n",
       "                                      fov   syn   prot       group  \n",
       "Thy1GFP-CA1-M1-fov_002-01_pp_syn1  002-01  syn1  GluA1  unselected  \n",
       "Thy1GFP-CA1-M1-fov_002-01_pp_syn2  002-01  syn2  GluA1  unselected  \n",
       "Thy1GFP-CA1-M1-fov_002-01_pp_syn3  002-01  syn3  GluA1  unselected  \n",
       "Thy1GFP-CA1-M1-fov_002-01_pp_syn4  002-01  syn4  GluA1  unselected  \n",
       "Thy1GFP-CA1-M1-fov_002-01_pp_syn5  002-01  syn5  GluA1  unselected  "
      ]
     },
     "execution_count": 61,
     "metadata": {},
     "output_type": "execute_result"
    }
   ],
   "source": [
    "data_ca1.head(5)"
   ]
  },
  {
   "cell_type": "code",
   "execution_count": 62,
   "metadata": {},
   "outputs": [
    {
     "data": {
      "text/plain": [
       "prot\n",
       "GluA1    29756\n",
       "Name: count, dtype: int64"
      ]
     },
     "execution_count": 62,
     "metadata": {},
     "output_type": "execute_result"
    }
   ],
   "source": [
    "data_ca1['prot'].value_counts()"
   ]
  },
  {
   "cell_type": "markdown",
   "metadata": {},
   "source": [
    "### 2. GluA1"
   ]
  },
  {
   "cell_type": "code",
   "execution_count": 63,
   "metadata": {},
   "outputs": [],
   "source": [
    "data_ca1_a1 = data_ca1[data_ca1['prot']=='GluA1']"
   ]
  },
  {
   "cell_type": "code",
   "execution_count": 64,
   "metadata": {},
   "outputs": [
    {
     "name": "stdout",
     "output_type": "stream",
     "text": [
      "            Mixed Linear Model Regression Results\n",
      "=============================================================\n",
      "Model:              MixedLM  Dependent Variable:  target_vol \n",
      "No. Observations:   29756    Method:              REML       \n",
      "No. Groups:         25       Scale:               0.0000     \n",
      "Min. group size:    799      Log-Likelihood:      180134.0375\n",
      "Max. group size:    1420     Converged:           Yes        \n",
      "Mean group size:    1190.2                                   \n",
      "-------------------------------------------------------------\n",
      "                    Coef. Std.Err.   z    P>|z| [0.025 0.975]\n",
      "-------------------------------------------------------------\n",
      "Intercept           0.000    0.000 14.299 0.000  0.000  0.000\n",
      "group[T.unselected] 0.000    0.000  2.368 0.018  0.000  0.000\n",
      "Group Var           0.000    0.000                           \n",
      "=============================================================\n",
      "\n"
     ]
    },
    {
     "name": "stderr",
     "output_type": "stream",
     "text": [
      "/Users/margaret/miniconda3/envs/scanpy_new/lib/python3.9/site-packages/statsmodels/regression/mixed_linear_model.py:2237: ConvergenceWarning: The MLE may be on the boundary of the parameter space.\n",
      "  warnings.warn(msg, ConvergenceWarning)\n"
     ]
    }
   ],
   "source": [
    "# Run mixed lm for target\n",
    "md = smf.mixedlm(\"target_vol ~ group\", data_ca1_a1, groups=data_ca1_a1[\"roi_full\"])\n",
    "mdf = md.fit(method=[\"lbfgs\"])\n",
    "print(mdf.summary())"
   ]
  },
  {
   "cell_type": "code",
   "execution_count": 65,
   "metadata": {},
   "outputs": [
    {
     "name": "stdout",
     "output_type": "stream",
     "text": [
      "2.226852760728863e-46\n",
      "0.017904369933497533\n"
     ]
    }
   ],
   "source": [
    "for x in range (0, 2):\n",
    "    print(mdf.pvalues[x])\n",
    "unadjusted_pvals.append(mdf.pvalues[1]) #add this p-value to the vector for adjustment later\n",
    "\n",
    "params_table = mdf.summary().tables[1] #got line from ChatGPT\n",
    "zscores.append(np.float32(params_table['z'][1]))#add the zscore to vector to have it for the pval table"
   ]
  },
  {
   "cell_type": "code",
   "execution_count": 66,
   "metadata": {},
   "outputs": [
    {
     "name": "stdout",
     "output_type": "stream",
     "text": [
      "               Mixed Linear Model Regression Results\n",
      "====================================================================\n",
      "Model:            MixedLM Dependent Variable: target_meanint_refnorm\n",
      "No. Observations: 29756   Method:             REML                  \n",
      "No. Groups:       25      Scale:              12056.0640            \n",
      "Min. group size:  799     Log-Likelihood:     -182072.5837          \n",
      "Max. group size:  1420    Converged:          Yes                   \n",
      "Mean group size:  1190.2                                            \n",
      "---------------------------------------------------------------------\n",
      "                      Coef.   Std.Err.    z     P>|z|  [0.025  0.975]\n",
      "---------------------------------------------------------------------\n",
      "Intercept             60.521     5.938  10.192  0.000  48.883  72.159\n",
      "group[T.unselected]   21.496     4.839   4.442  0.000  12.012  30.980\n",
      "Group Var            306.955     0.836                               \n",
      "====================================================================\n",
      "\n"
     ]
    }
   ],
   "source": [
    "# Run mixed lm for target mean intensity, normalized to reference\n",
    "md = smf.mixedlm(\"target_meanint_refnorm ~ group\", data_ca1_a1, groups=data_ca1_a1[\"roi_full\"])\n",
    "mdf = md.fit(method=[\"lbfgs\"])\n",
    "print(mdf.summary())"
   ]
  },
  {
   "cell_type": "code",
   "execution_count": 67,
   "metadata": {},
   "outputs": [
    {
     "name": "stdout",
     "output_type": "stream",
     "text": [
      "2.1439500946107497e-24\n",
      "8.901430649025524e-06\n"
     ]
    }
   ],
   "source": [
    "for x in range (0, 2):\n",
    "    print(mdf.pvalues[x])\n",
    "unadjusted_pvals.append(mdf.pvalues[1]) #add this p-value to the vector for adjustment later\n",
    "\n",
    "params_table = mdf.summary().tables[1] #got line from ChatGPT\n",
    "zscores.append(np.float32(params_table['z'][1]))#add the zscore to vector to have it for the pval table"
   ]
  },
  {
   "cell_type": "code",
   "execution_count": null,
   "metadata": {},
   "outputs": [],
   "source": []
  },
  {
   "cell_type": "code",
   "execution_count": null,
   "metadata": {},
   "outputs": [],
   "source": []
  },
  {
   "cell_type": "markdown",
   "metadata": {},
   "source": [
    "#### Compile p-values"
   ]
  },
  {
   "cell_type": "code",
   "execution_count": 68,
   "metadata": {},
   "outputs": [],
   "source": [
    "pvals_df_index = [\n",
    "      'GluA1_vol',\n",
    "    'GluA1_meanint_refnorm'\n",
    "]"
   ]
  },
  {
   "cell_type": "code",
   "execution_count": 69,
   "metadata": {},
   "outputs": [],
   "source": [
    "pvals_df = pd.DataFrame(unadjusted_pvals,index=pvals_df_index,columns=['p_unadjusted'])"
   ]
  },
  {
   "cell_type": "code",
   "execution_count": 70,
   "metadata": {},
   "outputs": [],
   "source": [
    "pvals_df['zscore_unselected'] = zscores"
   ]
  },
  {
   "cell_type": "markdown",
   "metadata": {},
   "source": [
    "### Create bar plots for each of these measures"
   ]
  },
  {
   "cell_type": "markdown",
   "metadata": {},
   "source": [
    "#### Adjust p-values"
   ]
  },
  {
   "cell_type": "code",
   "execution_count": 71,
   "metadata": {},
   "outputs": [],
   "source": [
    "pvals_df['p_adjusted'] = stats.false_discovery_control(pvals_df['p_unadjusted'])\n",
    "pvals_df['significant'] = pvals_df['p_adjusted'] < 0.05\n",
    "pvals_df.to_csv(parentdir + 'ca1_selectedvsunselected_lmer_pvals.csv')"
   ]
  },
  {
   "cell_type": "code",
   "execution_count": 72,
   "metadata": {},
   "outputs": [],
   "source": [
    "prots = unique(data['prot'])"
   ]
  },
  {
   "cell_type": "code",
   "execution_count": 73,
   "metadata": {},
   "outputs": [
    {
     "data": {
      "text/plain": [
       "['GluA1']"
      ]
     },
     "execution_count": 73,
     "metadata": {},
     "output_type": "execute_result"
    }
   ],
   "source": [
    "prots"
   ]
  },
  {
   "cell_type": "code",
   "execution_count": 74,
   "metadata": {},
   "outputs": [],
   "source": [
    "values = ['target_vol','target_meanint_refnorm']"
   ]
  },
  {
   "cell_type": "code",
   "execution_count": 75,
   "metadata": {},
   "outputs": [],
   "source": [
    "group_colors = ['red','blue']"
   ]
  },
  {
   "cell_type": "code",
   "execution_count": 76,
   "metadata": {},
   "outputs": [
    {
     "data": {
      "text/html": [
       "<div>\n",
       "<style scoped>\n",
       "    .dataframe tbody tr th:only-of-type {\n",
       "        vertical-align: middle;\n",
       "    }\n",
       "\n",
       "    .dataframe tbody tr th {\n",
       "        vertical-align: top;\n",
       "    }\n",
       "\n",
       "    .dataframe thead th {\n",
       "        text-align: right;\n",
       "    }\n",
       "</style>\n",
       "<table border=\"1\" class=\"dataframe\">\n",
       "  <thead>\n",
       "    <tr style=\"text-align: right;\">\n",
       "      <th></th>\n",
       "      <th>p_unadjusted</th>\n",
       "      <th>zscore_unselected</th>\n",
       "      <th>p_adjusted</th>\n",
       "      <th>significant</th>\n",
       "    </tr>\n",
       "  </thead>\n",
       "  <tbody>\n",
       "    <tr>\n",
       "      <th>GluA1_vol</th>\n",
       "      <td>0.017904</td>\n",
       "      <td>2.368</td>\n",
       "      <td>0.017904</td>\n",
       "      <td>True</td>\n",
       "    </tr>\n",
       "    <tr>\n",
       "      <th>GluA1_meanint_refnorm</th>\n",
       "      <td>0.000009</td>\n",
       "      <td>4.442</td>\n",
       "      <td>0.000018</td>\n",
       "      <td>True</td>\n",
       "    </tr>\n",
       "  </tbody>\n",
       "</table>\n",
       "</div>"
      ],
      "text/plain": [
       "                       p_unadjusted  zscore_unselected  p_adjusted  \\\n",
       "GluA1_vol                  0.017904              2.368    0.017904   \n",
       "GluA1_meanint_refnorm      0.000009              4.442    0.000018   \n",
       "\n",
       "                       significant  \n",
       "GluA1_vol                     True  \n",
       "GluA1_meanint_refnorm         True  "
      ]
     },
     "execution_count": 76,
     "metadata": {},
     "output_type": "execute_result"
    }
   ],
   "source": [
    "pvals_df"
   ]
  },
  {
   "cell_type": "code",
   "execution_count": 77,
   "metadata": {},
   "outputs": [
    {
     "data": {
      "image/png": "[encoded data removed]",
      "text/plain": [
       "<Figure size 600x400 with 1 Axes>"
      ]
     },
     "metadata": {},
     "output_type": "display_data"
    },
    {
     "data": {
      "image/png": "[encoded data removed]",
      "text/plain": [
       "<Figure size 600x400 with 1 Axes>"
      ]
     },
     "metadata": {},
     "output_type": "display_data"
    }
   ],
   "source": [
    "# Code generated by ChatGPT (4.0) on 6/9/24 by MES, also modified by MES\n",
    "\n",
    "import pandas as pd\n",
    "import seaborn as sns\n",
    "import matplotlib.pyplot as plt\n",
    "from scipy import stats\n",
    "\n",
    "# Identify numerical columns in 'data_ca1'\n",
    "numerical_columns = data_ca1.select_dtypes(include='number').columns\n",
    "\n",
    "# Get unique values of 'group'\n",
    "types = data_ca1['group'].unique()\n",
    "\n",
    "# Function to calculate SEM\n",
    "def sem(x):\n",
    "    return stats.sem(x, nan_policy='omit')\n",
    "\n",
    "# Function to determine the number of asterisks based on p-value\n",
    "def get_significance_asterisks(p_value):\n",
    "    if p_value < 0.0001:\n",
    "        return '****'\n",
    "    elif p_value < 0.001:\n",
    "        return '***'\n",
    "    elif p_value < 0.01:\n",
    "        return '**'\n",
    "    elif p_value < 0.05:\n",
    "        return '*'\n",
    "    else:\n",
    "        return ''\n",
    "\n",
    "# Create bar plots for each numerical variable\n",
    "for prot in prots:\n",
    "    for col in values:\n",
    "        data_temp = data_ca1[data_ca1['prot']==prot]\n",
    "        plt.figure(figsize=(6, 4))\n",
    "        ax = sns.barplot(x='group', y=col, data=data_temp, ci=None, palette=group_colors)  # Suppress default error bars\n",
    "        \n",
    "        # Add individual data_ca1 points\n",
    "        sns.stripplot(x='group', y=col, data=data_temp, color='black', size=5, jitter=True, ax=ax, alpha = 0.2)\n",
    "        \n",
    "        # Calculate and plot error bars (mean ± SEM)\n",
    "        means = data_temp.groupby('group')[col].mean()\n",
    "        sems = data_temp.groupby('group')[col].apply(sem)\n",
    "        for i, type_val in enumerate(types):\n",
    "           plt.errorbar(i, means[type_val], yerr=sems[type_val], fmt='none', c='black', capsize=5)\n",
    "    \n",
    "        # Add significance asterisks if applicable\n",
    "        if len(col.split(\"_\")) > 2:\n",
    "            value_name = prot + '_' + col.split(\"_\")[1] + '_' + col.split(\"_\")[2]\n",
    "        else:\n",
    "            value_name = prot + '_' + col.split(\"_\")[1]\n",
    "        \n",
    "        if value_name in pvals_df.index and pvals_df.loc[value_name, 'significant'] == True:\n",
    "            p_value = pvals_df.loc[value_name, 'p_adjusted']\n",
    "            asterisks = get_significance_asterisks(p_value)\n",
    "            if asterisks:\n",
    "                max_y = data_temp[col].max()\n",
    "                # Position the asterisks above the highest data_temp point\n",
    "                y = max_y + sems.max() + 0.1 * max_y\n",
    "                plt.plot([0, 1], [y, y], color='black', lw=1)  # horizontal line\n",
    "                plt.text(0.5, y, asterisks, ha='center', va='bottom', color='black')\n",
    "    \n",
    "        # Adjust y-axis to add space for asterisks\n",
    "        current_ylim = plt.ylim()\n",
    "        plt.ylim(current_ylim[0], current_ylim[1] * 1.1)\n",
    "    \n",
    "        plt.grid(False) #remove gridlines\n",
    "        \n",
    "        # Set plot title and labels\n",
    "        # plt.title(f'Bar Plot for {col}')\n",
    "        #plt.xlabel('Group')\n",
    "        plt.ylabel(value_name)\n",
    "    \n",
    "        # Save plot\n",
    "        plt.savefig(parentdir + '/CA1_barplots/' + col + '_' + prot + '.svg',dpi=800,bbox_inches='tight')\n",
    "        plt.savefig(parentdir + '/CA1_barplots/' + col + '_' + prot + '.png',dpi=800,bbox_inches='tight')\n",
    "        \n",
    "        # Show plot\n",
    "        plt.show()"
   ]
  },
  {
   "cell_type": "code",
   "execution_count": null,
   "metadata": {},
   "outputs": [],
   "source": []
  },
  {
   "cell_type": "code",
   "execution_count": 78,
   "metadata": {},
   "outputs": [],
   "source": [
    "data.to_csv('/Users/margaret/Dropbox (MIT)/mExR_analysis/SmallData/multiExR_PV_synapses/PV_vs_Thy1_combined/Thy1_YFP_GluA1.csv')"
   ]
  },
  {
   "cell_type": "code",
   "execution_count": null,
   "metadata": {},
   "outputs": [],
   "source": []
  }
 ],
 "metadata": {
  "kernelspec": {
   "display_name": "Python 3 (ipykernel)",
   "language": "python",
   "name": "python3"
  },
  "language_info": {
   "codemirror_mode": {
    "name": "ipython",
    "version": 3
   },
   "file_extension": ".py",
   "mimetype": "text/x-python",
   "name": "python",
   "nbconvert_exporter": "python",
   "pygments_lexer": "ipython3",
   "version": "3.9.0"
  }
 },
 "nbformat": 4,
 "nbformat_minor": 4
}
